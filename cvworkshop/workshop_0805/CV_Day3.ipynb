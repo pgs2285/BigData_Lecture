{
 "cells": [
  {
   "cell_type": "markdown",
   "id": "24417a71",
   "metadata": {},
   "source": [
    "# 필터링"
   ]
  },
  {
   "cell_type": "code",
   "execution_count": 2,
   "id": "21bd2a28",
   "metadata": {},
   "outputs": [
    {
     "name": "stdout",
     "output_type": "stream",
     "text": [
      "[WinError 2] 지정된 파일을 찾을 수 없습니다: 'ch07'\n",
      "D:\\03_강의자료\\2021년 씨에스리\\2021년06월21일 시각지능 구현\\notebook\\ch07\n"
     ]
    }
   ],
   "source": [
    "%cd ch07"
   ]
  },
  {
   "cell_type": "code",
   "execution_count": 3,
   "id": "3a9fd9b3",
   "metadata": {
    "scrolled": true
   },
   "outputs": [
    {
     "name": "stdout",
     "output_type": "stream",
     "text": [
      " D 드라이브의 볼륨: Storage\n",
      " 볼륨 일련 번호: A640-D2F1\n",
      "\n",
      " D:\\03_강의자료\\2021년 씨에스리\\2021년06월21일 시각지능 구현\\notebook\\ch07 디렉터리\n",
      "\n",
      "2021-03-04  오후 01:46             1,104 blurring.py\n",
      "2021-03-04  오후 01:46               399 filter.py\n",
      "2021-03-04  오후 01:46             1,755 noise.py\n",
      "2021-03-04  오후 01:46               548 sharpen.py\n",
      "               4개 파일               3,806 바이트\n",
      "               0개 디렉터리  1,065,087,860,736 바이트 남음\n"
     ]
    }
   ],
   "source": [
    "!dir *.py"
   ]
  },
  {
   "cell_type": "code",
   "execution_count": 4,
   "id": "084999f6",
   "metadata": {},
   "outputs": [],
   "source": [
    "# %load filter.py\n",
    "import sys\n",
    "import numpy as np\n",
    "import cv2\n",
    "\n",
    "\n",
    "src = cv2.imread('rose.bmp', cv2.IMREAD_GRAYSCALE)\n",
    "\n",
    "if src is None:\n",
    "    print('Image load failed!')\n",
    "    sys.exit()\n",
    "\n",
    "emboss = np.array([[-1, -1, 0],\n",
    "                   [-1, 0, 1],\n",
    "                   [0, 1, 1]], np.float32)\n",
    "\n",
    "dst = cv2.filter2D(src, -1, emboss, delta=128)\n",
    "\n",
    "cv2.imshow('src', src)\n",
    "cv2.imshow('dst', dst)\n",
    "\n",
    "cv2.waitKey()\n",
    "cv2.destroyAllWindows()\n"
   ]
  },
  {
   "cell_type": "code",
   "execution_count": 5,
   "id": "4a3deb9e",
   "metadata": {},
   "outputs": [],
   "source": [
    "# %load noise.py\n",
    "import numpy as np\n",
    "import cv2\n",
    "import random\n",
    "\n",
    "\n",
    "def noise_gaussian():\n",
    "    src = cv2.imread('lenna.bmp', cv2.IMREAD_GRAYSCALE)\n",
    "\n",
    "    if src is None:\n",
    "        print('Image load failed!')\n",
    "        return\n",
    "\n",
    "    cv2.imshow('src', src)\n",
    "\n",
    "    for stddev in [10, 20, 30]:\n",
    "        noise = np.zeros(src.shape, np.int32)\n",
    "        cv2.randn(noise, 0, stddev)\n",
    "\n",
    "        dst = cv2.add(src, noise, dtype=cv2.CV_8UC1)\n",
    "\n",
    "        desc = 'stddev = %d' % stddev\n",
    "        cv2.putText(dst, desc, (10, 30), cv2.FONT_HERSHEY_SIMPLEX,\n",
    "                   1.0, 255, 1, cv2.LINE_AA)\n",
    "        cv2.imshow('dst', dst)\n",
    "        cv2.waitKey()\n",
    "\n",
    "    cv2.destroyAllWindows()\n",
    "\n",
    "\n",
    "def filter_bilateral():\n",
    "    src = cv2.imread('lenna.bmp', cv2.IMREAD_GRAYSCALE)\n",
    "\n",
    "    if src is None:\n",
    "        print('Image load failed!')\n",
    "        return\n",
    "\n",
    "    noise = np.zeros(src.shape, np.int32)\n",
    "    cv2.randn(noise, 0, 5)\n",
    "    cv2.add(src, noise, src, dtype=cv2.CV_8UC1)\n",
    "\n",
    "    dst1 = cv2.GaussianBlur(src, (0, 0), 5)\n",
    "    dst2 = cv2.bilateralFilter(src, -1, 10, 5)\n",
    "    \n",
    "    cv2.imshow('src', src)\n",
    "    cv2.imshow('dst1', dst1)\n",
    "    cv2.imshow('dst2', dst2)\n",
    "    cv2.waitKey()\n",
    "    cv2.destroyAllWindows()\n",
    "\n",
    "\n",
    "def filter_median():\n",
    "    src = cv2.imread('lenna.bmp', cv2.IMREAD_GRAYSCALE)\n",
    "\n",
    "    if src is None:\n",
    "        print('Image load failed!')\n",
    "        return\n",
    "\n",
    "    for i in range(0, int(src.size / 10)):\n",
    "        x = random.randint(0, src.shape[1] - 1)\n",
    "        y = random.randint(0, src.shape[0] - 1)\n",
    "        src[x, y] = (i % 2) * 255\n",
    "\n",
    "    dst1 = cv2.GaussianBlur(src, (0, 0), 1)\n",
    "    dst2 = cv2.medianBlur(src, 3)\n",
    "\n",
    "    cv2.imshow('src', src)\n",
    "    cv2.imshow('dst1', dst1)\n",
    "    cv2.imshow('dst2', dst2)\n",
    "    cv2.waitKey()\n",
    "    cv2.destroyAllWindows()\n",
    "\n",
    "\n",
    "if __name__ == '__main__':\n",
    "    noise_gaussian()\n",
    "    filter_bilateral()\n",
    "    filter_median()\n"
   ]
  },
  {
   "cell_type": "code",
   "execution_count": 6,
   "id": "8d8ddfe2",
   "metadata": {},
   "outputs": [],
   "source": [
    "# %load blurring.py\n",
    "import numpy as np\n",
    "import cv2\n",
    "\n",
    "\n",
    "def blurring_mean():\n",
    "    src = cv2.imread('rose.bmp', cv2.IMREAD_GRAYSCALE)\n",
    "\n",
    "    if src is None:\n",
    "        print('Image load failed!')\n",
    "        return\n",
    "\n",
    "    cv2.imshow('src', src)\n",
    "\n",
    "    for ksize in (3, 5, 7):\n",
    "        dst = cv2.blur(src, (ksize, ksize))\n",
    "\n",
    "        desc = \"Mean: %dx%d\" % (ksize, ksize)\n",
    "        cv2.putText(dst, desc, (10, 30), cv2.FONT_HERSHEY_SIMPLEX,\n",
    "                   1.0, 255, 1, cv2.LINE_AA)\n",
    "\n",
    "        cv2.imshow('dst', dst)\n",
    "        cv2.waitKey()\n",
    "\n",
    "    cv2.destroyAllWindows()\n",
    "\n",
    "\n",
    "def blurring_gaussian():\n",
    "    src = cv2.imread('rose.bmp', cv2.IMREAD_GRAYSCALE)\n",
    "\n",
    "    if src is None:\n",
    "        print('Image load failed!')\n",
    "        return\n",
    "\n",
    "    cv2.imshow('src', src)\n",
    "\n",
    "    for sigma in range(1, 6):\n",
    "        dst = cv2.GaussianBlur(src, (0, 0), sigma)\n",
    "\n",
    "        desc = \"Gaussian: sigma = %d\" % (sigma)\n",
    "        cv2.putText(dst, desc, (10, 30), cv2.FONT_HERSHEY_SIMPLEX,\n",
    "                   1.0, 255, 1, cv2.LINE_AA)\n",
    "\n",
    "        cv2.imshow('dst', dst)\n",
    "        cv2.waitKey()\n",
    "\n",
    "    cv2.destroyAllWindows()\n",
    "\n",
    "\n",
    "if __name__ == '__main__':\n",
    "    blurring_mean()\n",
    "    blurring_gaussian()\n"
   ]
  },
  {
   "cell_type": "code",
   "execution_count": null,
   "id": "a530e8a2",
   "metadata": {},
   "outputs": [],
   "source": [
    "# %load sharpen.py\n",
    "import sys\n",
    "import numpy as np\n",
    "import cv2\n",
    "\n",
    "\n",
    "src = cv2.imread('rose.bmp', cv2.IMREAD_GRAYSCALE)\n",
    "\n",
    "if src is None:\n",
    "    print('Image load failed!')\n",
    "    sys.exit()\n",
    "\n",
    "cv2.imshow('src', src)\n",
    "\n",
    "for sigma in range(1, 6):\n",
    "    blurred = cv2.GaussianBlur(src, (0, 0), sigma)\n",
    "\n",
    "    alpha = 1.0\n",
    "    dst = cv2.addWeighted(src, 1 + alpha, blurred, -alpha, 0.0)\n",
    "\n",
    "    desc = \"sigma: %d\" % sigma\n",
    "    cv2.putText(dst, desc, (10, 30), cv2.FONT_HERSHEY_SIMPLEX,\n",
    "               1.0, 255, 1, cv2.LINE_AA)\n",
    "\n",
    "    cv2.imshow('dst', dst)\n",
    "    cv2.waitKey()\n",
    "\n",
    "cv2.destroyAllWindows()\n"
   ]
  },
  {
   "cell_type": "markdown",
   "id": "ab37f14f",
   "metadata": {},
   "source": [
    "# 어파인 변환"
   ]
  },
  {
   "cell_type": "code",
   "execution_count": 7,
   "id": "6f6bf6cf",
   "metadata": {},
   "outputs": [
    {
     "data": {
      "text/plain": [
       "'D:\\\\03_강의자료\\\\2021년 씨에스리\\\\2021년06월21일 시각지능 구현\\\\notebook\\\\ch07'"
      ]
     },
     "execution_count": 7,
     "metadata": {},
     "output_type": "execute_result"
    }
   ],
   "source": [
    "%pwd"
   ]
  },
  {
   "cell_type": "code",
   "execution_count": 8,
   "id": "cd6c3a9b",
   "metadata": {},
   "outputs": [
    {
     "name": "stdout",
     "output_type": "stream",
     "text": [
      "D:\\03_강의자료\\2021년 씨에스리\\2021년06월21일 시각지능 구현\\notebook\\ch08\n"
     ]
    }
   ],
   "source": [
    "%cd ..\\\\ch08"
   ]
  },
  {
   "cell_type": "code",
   "execution_count": 9,
   "id": "a5ba460c",
   "metadata": {},
   "outputs": [
    {
     "name": "stdout",
     "output_type": "stream",
     "text": [
      " D 드라이브의 볼륨: Storage\n",
      " 볼륨 일련 번호: A640-D2F1\n",
      "\n",
      " D:\\03_강의자료\\2021년 씨에스리\\2021년06월21일 시각지능 구현\\notebook\\ch08 디렉터리\n",
      "\n",
      "2021-03-04  오후 01:46             3,230 affine.py\n",
      "2021-03-04  오후 01:46             1,054 perspective.py\n",
      "               2개 파일               4,284 바이트\n",
      "               0개 디렉터리  1,065,087,860,736 바이트 남음\n"
     ]
    }
   ],
   "source": [
    "!dir *.py"
   ]
  },
  {
   "cell_type": "code",
   "execution_count": 10,
   "id": "3ab0a696",
   "metadata": {},
   "outputs": [],
   "source": [
    "# %load affine.py\n",
    "import numpy as np\n",
    "import cv2\n",
    "\n",
    "\n",
    "def affine_transform():\n",
    "    src = cv2.imread('tekapo.bmp')\n",
    "\n",
    "    if src is None:\n",
    "        print('Image load failed!')\n",
    "        return\n",
    "\n",
    "    rows = src.shape[0]\n",
    "    cols = src.shape[1]\n",
    "\n",
    "    src_pts = np.array([[0, 0],\n",
    "                        [cols - 1, 0],\n",
    "                        [cols - 1, rows - 1]]).astype(np.float32)\n",
    "    dst_pts = np.array([[50, 50],\n",
    "                        [cols - 100, 100],\n",
    "                        [cols - 50, rows - 50]]).astype(np.float32)\n",
    "\n",
    "    affine_mat = cv2.getAffineTransform(src_pts, dst_pts)\n",
    "\n",
    "    dst = cv2.warpAffine(src, affine_mat, (0, 0))\n",
    "\n",
    "    cv2.imshow('src', src)\n",
    "    cv2.imshow('dst', dst)\n",
    "    cv2.waitKey()\n",
    "    cv2.destroyAllWindows()\n",
    "\n",
    "\n",
    "def affine_translation():\n",
    "    src = cv2.imread('tekapo.bmp')\n",
    "\n",
    "    if src is None:\n",
    "        print('Image load failed!')\n",
    "        return\n",
    "\n",
    "    affine_mat = np.array([[1, 0, 150],\n",
    "                           [0, 1, 100]]).astype(np.float32)\n",
    "\n",
    "    dst = cv2.warpAffine(src, affine_mat, (0, 0))\n",
    "\n",
    "    cv2.imshow('src', src)\n",
    "    cv2.imshow('dst', dst)\n",
    "    cv2.waitKey()\n",
    "    cv2.destroyAllWindows()\n",
    "\n",
    "\n",
    "def affine_shear():\n",
    "    src = cv2.imread('tekapo.bmp')\n",
    "\n",
    "    if src is None:\n",
    "        print('Image load failed!')\n",
    "        return\n",
    "\n",
    "    rows = src.shape[0]\n",
    "    cols = src.shape[1]\n",
    "\n",
    "    mx = 0.3\n",
    "    affine_mat = np.array([[1, mx, 0],\n",
    "                           [0, 1, 0]]).astype(np.float32)\n",
    "\n",
    "    dst = cv2.warpAffine(src, affine_mat, (int(cols + rows * mx), rows))\n",
    "\n",
    "    cv2.imshow('src', src)\n",
    "    cv2.imshow('dst', dst)\n",
    "    cv2.waitKey()\n",
    "    cv2.destroyAllWindows()\n",
    "\n",
    "\n",
    "def affine_scale():\n",
    "    src = cv2.imread('rose.bmp')\n",
    "\n",
    "    if src is None:\n",
    "        print('Image load failed!')\n",
    "        return\n",
    "\n",
    "    dst1 = cv2.resize(src, (0, 0), fx=4, fy=4, interpolation=cv2.INTER_NEAREST)\n",
    "    dst2 = cv2.resize(src, (1920, 1280))\n",
    "    dst3 = cv2.resize(src, (1920, 1280), interpolation=cv2.INTER_CUBIC)\n",
    "    dst4 = cv2.resize(src, (1920, 1280), interpolation=cv2.INTER_LANCZOS4)\n",
    "\n",
    "    cv2.imshow('src', src)\n",
    "    cv2.imshow('dst1', dst1[400:800, 500:900])\n",
    "    cv2.imshow('dst2', dst2[400:800, 500:900])\n",
    "    cv2.imshow('dst3', dst3[400:800, 500:900])\n",
    "    cv2.imshow('dst4', dst4[400:800, 500:900])\n",
    "    cv2.waitKey()\n",
    "    cv2.destroyAllWindows()\n",
    "\n",
    "\n",
    "def affine_rotation():\n",
    "    src = cv2.imread('tekapo.bmp')\n",
    "\n",
    "    if src is None:\n",
    "        print('Image load failed!')\n",
    "        return\n",
    "\n",
    "    cp = (src.shape[1] / 2, src.shape[0] / 2)\n",
    "    affine_mat = cv2.getRotationMatrix2D(cp, 20, 1)\n",
    "\n",
    "    dst = cv2.warpAffine(src, affine_mat, (0, 0))\n",
    "\n",
    "    cv2.imshow('src', src)\n",
    "    cv2.imshow('dst', dst)\n",
    "    cv2.waitKey()\n",
    "    cv2.destroyAllWindows()\n",
    "\n",
    "\n",
    "def affine_flip():\n",
    "    src = cv2.imread('eastsea.bmp')\n",
    "\n",
    "    if src is None:\n",
    "        print('Image load failed!')\n",
    "        return\n",
    "\n",
    "    cv2.imshow('src', src)\n",
    "\n",
    "    for flip_code in [1, 0, -1]:\n",
    "        dst = cv2.flip(src, flip_code)\n",
    "\n",
    "        desc = 'flipCode: %d' % flip_code\n",
    "        cv2.putText(dst, desc, (10, 30), cv2.FONT_HERSHEY_SIMPLEX,\n",
    "                   1.0, (255, 0, 0), 1, cv2.LINE_AA)\n",
    "\n",
    "        cv2.imshow('dst', dst)\n",
    "        cv2.waitKey()\n",
    "\n",
    "    cv2.destroyAllWindows()\n",
    "\n",
    "\n",
    "if __name__ == '__main__':\n",
    "    affine_transform()\n",
    "    affine_translation()\n",
    "    affine_shear()\n",
    "    affine_scale()\n",
    "    affine_rotation()\n",
    "    affine_flip()\n"
   ]
  },
  {
   "cell_type": "code",
   "execution_count": 11,
   "id": "ef4cf8f9",
   "metadata": {},
   "outputs": [],
   "source": [
    "# %load perspective.py\n",
    "import sys\n",
    "import numpy as np\n",
    "import cv2\n",
    "\n",
    "\n",
    "def on_mouse(event, x, y, flags, param):\n",
    "    global cnt, src_pts\n",
    "    if event == cv2.EVENT_LBUTTONDOWN:\n",
    "        if cnt < 4:\n",
    "            src_pts[cnt, :] = np.array([x, y]).astype(np.float32)\n",
    "            cnt += 1\n",
    "\n",
    "            cv2.circle(src, (x, y), 5, (0, 0, 255), -1)\n",
    "            cv2.imshow('src', src)\n",
    "        \n",
    "        if cnt == 4:\n",
    "            w = 200\n",
    "            h = 300\n",
    "\n",
    "            dst_pts = np.array([[0, 0],\n",
    "                                [w - 1, 0],\n",
    "                                [w - 1, h - 1],\n",
    "                                [0, h - 1]]).astype(np.float32)\n",
    "\n",
    "            pers_mat = cv2.getPerspectiveTransform(src_pts, dst_pts)\n",
    "\n",
    "            dst = cv2.warpPerspective(src, pers_mat, (w, h))\n",
    "\n",
    "            cv2.imshow('dst', dst)\n",
    "\n",
    "\n",
    "cnt = 0\n",
    "src_pts = np.zeros([4, 2], dtype=np.float32)\n",
    "src = cv2.imread('card.bmp')\n",
    "\n",
    "if src is None:\n",
    "    print('Image load failed!')\n",
    "    sys.exit()\n",
    "\n",
    "cv2.namedWindow('src')\n",
    "cv2.setMouseCallback('src', on_mouse)\n",
    "\n",
    "cv2.imshow('src', src)\n",
    "cv2.waitKey(0)\n",
    "cv2.destroyAllWindows()\n"
   ]
  },
  {
   "cell_type": "code",
   "execution_count": 12,
   "id": "5eedd7b9",
   "metadata": {},
   "outputs": [
    {
     "data": {
      "text/plain": [
       "'D:\\\\03_강의자료\\\\2021년 씨에스리\\\\2021년06월21일 시각지능 구현\\\\notebook\\\\ch08'"
      ]
     },
     "execution_count": 12,
     "metadata": {},
     "output_type": "execute_result"
    }
   ],
   "source": [
    "%pwd"
   ]
  },
  {
   "cell_type": "code",
   "execution_count": 13,
   "id": "bea40c0e",
   "metadata": {},
   "outputs": [
    {
     "name": "stdout",
     "output_type": "stream",
     "text": [
      "D:\\03_강의자료\\2021년 씨에스리\\2021년06월21일 시각지능 구현\\notebook\\ch09\n"
     ]
    }
   ],
   "source": [
    "%cd ..\\\\ch09"
   ]
  },
  {
   "cell_type": "code",
   "execution_count": 14,
   "id": "9d13768c",
   "metadata": {},
   "outputs": [],
   "source": [
    "import edges"
   ]
  },
  {
   "cell_type": "code",
   "execution_count": 15,
   "id": "e5e14bb1",
   "metadata": {},
   "outputs": [],
   "source": [
    "# %load edges.py\n",
    "import numpy as np\n",
    "import cv2\n",
    "\n",
    "\n",
    "def sobel_derivative():\n",
    "    src = cv2.imread('lenna.bmp', cv2.IMREAD_GRAYSCALE)\n",
    "\n",
    "    if src is None:\n",
    "        print('Image load failed!')\n",
    "        return\n",
    "\n",
    "    mx = np.array([[-1, 0, 1],\n",
    "                   [-2, 0, 2],\n",
    "                   [-1, 0, 1]], dtype=np.float32)\n",
    "    my = np.array([[-1, -2, -1],\n",
    "                   [0, 0, 0],\n",
    "                   [1, 2, 1]], dtype=np.float32)\n",
    "\n",
    "    dx = cv2.filter2D(src, -1, mx, delta=128)\n",
    "    dy = cv2.filter2D(src, -1, my, delta=128)\n",
    "\n",
    "    cv2.imshow('src', src)\n",
    "    cv2.imshow('dx', dx)\n",
    "    cv2.imshow('dy', dy)\n",
    "    cv2.waitKey()\n",
    "    cv2.destroyAllWindows()\n",
    "\n",
    "\n",
    "def sobel_edge():\n",
    "    src = cv2.imread('lenna.bmp', cv2.IMREAD_GRAYSCALE)\n",
    "\n",
    "    if src is None:\n",
    "        print('Image load failed!')\n",
    "        return\n",
    "\n",
    "    dx = cv2.Sobel(src, cv2.CV_32F, 1, 0)\n",
    "    dy = cv2.Sobel(src, cv2.CV_32F, 0, 1)\n",
    "\n",
    "    fmag = cv2.magnitude(dx, dy)\n",
    "    mag = np.uint8(np.clip(fmag, 0, 255))\n",
    "    _, edge = cv2.threshold(mag, 150, 255, cv2.THRESH_BINARY)\n",
    "\n",
    "    cv2.imshow('src', src)\n",
    "    cv2.imshow('mag', mag)\n",
    "    cv2.imshow('edge', edge)\n",
    "    cv2.waitKey()\n",
    "    cv2.destroyAllWindows()\n",
    "\n",
    "\n",
    "def canny_edge():\n",
    "    src = cv2.imread('lenna.bmp', cv2.IMREAD_GRAYSCALE)\n",
    "\n",
    "    if src is None:\n",
    "        print('Image load failed!')\n",
    "        return\n",
    "\n",
    "    dst1 = cv2.Canny(src, 50, 100)\n",
    "    dst2 = cv2.Canny(src, 50, 150)\n",
    "\n",
    "    cv2.imshow('src', src)\n",
    "    cv2.imshow('dst1', dst1)\n",
    "    cv2.imshow('dst2', dst2)\n",
    "    cv2.waitKey()\n",
    "    cv2.destroyAllWindows()\n",
    "\n",
    "\n",
    "if __name__ == '__main__':\n",
    "    sobel_derivative()\n",
    "    sobel_edge()\n",
    "    canny_edge()\n"
   ]
  },
  {
   "cell_type": "code",
   "execution_count": 16,
   "id": "88ebcfad",
   "metadata": {},
   "outputs": [],
   "source": [
    "edges.sobel_derivative()"
   ]
  },
  {
   "cell_type": "code",
   "execution_count": 17,
   "id": "35702f57",
   "metadata": {},
   "outputs": [],
   "source": [
    "edges.canny_edge()"
   ]
  },
  {
   "cell_type": "code",
   "execution_count": 18,
   "id": "a276bc68",
   "metadata": {},
   "outputs": [
    {
     "data": {
      "text/plain": [
       "<module 'hough' from 'D:\\\\03_강의자료\\\\2021년 씨에스리\\\\2021년06월21일 시각지능 구현\\\\notebook\\\\ch09\\\\hough.py'>"
      ]
     },
     "execution_count": 18,
     "metadata": {},
     "output_type": "execute_result"
    }
   ],
   "source": [
    "import hough\n",
    "from imp import reload\n",
    "reload(hough)"
   ]
  },
  {
   "cell_type": "code",
   "execution_count": 19,
   "id": "41008266",
   "metadata": {},
   "outputs": [],
   "source": [
    "hough.hough_lines()"
   ]
  },
  {
   "cell_type": "code",
   "execution_count": 20,
   "id": "8f3ec538",
   "metadata": {},
   "outputs": [],
   "source": [
    "# %load hough.py\n",
    "import numpy as np\n",
    "import cv2\n",
    "import math\n",
    "\n",
    "\n",
    "def hough_lines():\n",
    "    src = cv2.imread('building.jpg', cv2.IMREAD_GRAYSCALE)\n",
    "\n",
    "    if src is None:\n",
    "        print('Image load failed!')\n",
    "        return\n",
    "\n",
    "    edge = cv2.Canny(src, 50, 150)\n",
    "    lines = cv2.HoughLines(edge, 1, math.pi / 180, 250)\n",
    "\n",
    "    dst = cv2.cvtColor(edge, cv2.COLOR_GRAY2BGR)\n",
    "\n",
    "    if lines is not None:\n",
    "        for i in range(lines.shape[0]):\n",
    "            rho = lines[i][0][0]\n",
    "            theta = lines[i][0][1]\n",
    "            cos_t = math.cos(theta)\n",
    "            sin_t = math.sin(theta)\n",
    "            x0, y0 = rho * cos_t, rho * sin_t\n",
    "            alpha = 1000\n",
    "            pt1 = (int(x0 - alpha * sin_t), int(y0 + alpha * cos_t))\n",
    "            pt2 = (int(x0 + alpha * sin_t), int(y0 - alpha * cos_t))\n",
    "            cv2.line(dst, pt1, pt2, (0, 0, 255), 2, cv2.LINE_AA)\n",
    "\n",
    "    cv2.imshow('src', src)\n",
    "    cv2.imshow('dst', dst)\n",
    "    cv2.waitKey()\n",
    "    cv2.destroyAllWindows()\n",
    "\n",
    "\n",
    "def hough_line_segments():\n",
    "    src = cv2.imread('building.jpg', cv2.IMREAD_GRAYSCALE)\n",
    "\n",
    "    if src is None:\n",
    "        print('Image load failed!')\n",
    "        return\n",
    "\n",
    "    edge = cv2.Canny(src, 50, 150)\n",
    "    lines = cv2.HoughLinesP(edge, 1, math.pi / 180, 160, minLineLength=50, maxLineGap=5)\n",
    "\n",
    "    dst = cv2.cvtColor(edge, cv2.COLOR_GRAY2BGR)\n",
    "\n",
    "    if lines is not None:\n",
    "        for i in range(lines.shape[0]):\n",
    "            pt1 = (lines[i][0][0], lines[i][0][1])\n",
    "            pt2 = (lines[i][0][2], lines[i][0][3])\n",
    "            cv2.line(dst, pt1, pt2, (0, 0, 255), 2, cv2.LINE_AA)\n",
    "\n",
    "    cv2.imshow('src', src)\n",
    "    cv2.imshow('dst', dst)\n",
    "    cv2.waitKey()\n",
    "    cv2.destroyAllWindows()\n",
    "\n",
    "\n",
    "def hough_circles():\n",
    "    src = cv2.imread('coins.png', cv2.IMREAD_GRAYSCALE)\n",
    "\n",
    "    if src is None:\n",
    "        print('Image load failed!')\n",
    "        return\n",
    "\n",
    "    blurred = cv2.blur(src, (3, 3))\n",
    "    circles = cv2.HoughCircles(blurred, cv2.HOUGH_GRADIENT, 1, 50,\n",
    "                              param1=150, param2=30)\n",
    "\n",
    "    dst = cv2.cvtColor(src, cv2.COLOR_GRAY2BGR)\n",
    "\n",
    "    if circles is not None:\n",
    "        for i in range(circles.shape[1]):\n",
    "            cx, cy, radius = circles[0][i]\n",
    "            cv2.circle(dst, (int(cx), int(cy)), int(radius), (0, 0, 255), 2, cv2.LINE_AA)\n",
    "\n",
    "    cv2.imshow('src', src)\n",
    "    cv2.imshow('dst', dst)\n",
    "    cv2.waitKey()\n",
    "    cv2.destroyAllWindows()\n",
    "\n",
    "\n",
    "if __name__ == '__main__':\n",
    "    hough_lines()\n",
    "    hough_line_segments()\n",
    "    hough_circles()\n"
   ]
  },
  {
   "cell_type": "code",
   "execution_count": 21,
   "id": "0e03a5c2",
   "metadata": {},
   "outputs": [],
   "source": [
    "hough.hough_line_segments()"
   ]
  },
  {
   "cell_type": "code",
   "execution_count": 22,
   "id": "51e657ee",
   "metadata": {},
   "outputs": [],
   "source": [
    "hough.hough_circles()"
   ]
  },
  {
   "cell_type": "code",
   "execution_count": 23,
   "id": "7e9d081c",
   "metadata": {},
   "outputs": [
    {
     "data": {
      "text/plain": [
       "'D:\\\\03_강의자료\\\\2021년 씨에스리\\\\2021년06월21일 시각지능 구현\\\\notebook\\\\ch09'"
      ]
     },
     "execution_count": 23,
     "metadata": {},
     "output_type": "execute_result"
    }
   ],
   "source": [
    "%pwd"
   ]
  },
  {
   "cell_type": "code",
   "execution_count": 24,
   "id": "0523a354",
   "metadata": {},
   "outputs": [
    {
     "name": "stdout",
     "output_type": "stream",
     "text": [
      "D:\\03_강의자료\\2021년 씨에스리\\2021년06월21일 시각지능 구현\\notebook\\ch10\n"
     ]
    }
   ],
   "source": [
    "%cd ..\\\\ch10"
   ]
  },
  {
   "cell_type": "code",
   "execution_count": 25,
   "id": "42c1b4c7",
   "metadata": {},
   "outputs": [],
   "source": [
    "import cv2\n",
    "src = cv2.imread('candies.png')\n",
    "hsv = cv2.cvtColor(src, cv2.COLOR_BGR2HSV)\n",
    "yCrCb = cv2.cvtColor(src, cv2.COLOR_BGR2YCrCb)\n",
    "\n",
    "cv2.imshow('src', src)\n",
    "cv2.imshow('hsv', hsv)\n",
    "cv2.imshow('yCrCb', yCrCb)\n",
    "cv2.waitKey()\n",
    "cv2.destroyAllWindows()"
   ]
  },
  {
   "cell_type": "code",
   "execution_count": 26,
   "id": "82dc5525",
   "metadata": {
    "scrolled": true
   },
   "outputs": [
    {
     "name": "stdout",
     "output_type": "stream",
     "text": [
      "src.shape: (356, 493, 3)\n",
      "src.dtype: uint8\n",
      "The pixel value [B, G, R] at (0, 0) is [47 88 50]\n"
     ]
    },
    {
     "data": {
      "image/png": "[encoded data removed]",
      "text/plain": [
       "<Figure size 432x288 with 3 Axes>"
      ]
     },
     "metadata": {
      "needs_background": "light"
     },
     "output_type": "display_data"
    }
   ],
   "source": [
    "# %load colorOp.py\n",
    "import numpy as np\n",
    "import cv2\n",
    "\n",
    "\n",
    "def color_op():\n",
    "    src = cv2.imread('butterfly.jpg', cv2.IMREAD_COLOR)\n",
    "\n",
    "    if src is None:\n",
    "        print('Image load failed!')\n",
    "        return\n",
    "\n",
    "    print('src.shape:', src.shape)\n",
    "    print('src.dtype:', src.dtype)\n",
    "\n",
    "    # b, g, r = src[0, 0]\n",
    "    print('The pixel value [B, G, R] at (0, 0) is', src[0, 0])\n",
    "\n",
    "\n",
    "def color_inverse():\n",
    "    src = cv2.imread('butterfly.jpg', cv2.IMREAD_COLOR)\n",
    "\n",
    "    if src is None:\n",
    "        print('Image load failed!')\n",
    "        return\n",
    "\n",
    "    dst = np.zeros(src.shape, src.dtype)\n",
    "\n",
    "    for j in range(src.shape[0]):\n",
    "        for i in range(src.shape[1]):\n",
    "            p1 = src[j, i]\n",
    "            p2 = dst[j, i]\n",
    "\n",
    "            p2[0] = 255 - p1[0]\n",
    "            p2[1] = 255 - p1[1]\n",
    "            p2[2] = 255 - p1[2]\n",
    "\n",
    "    cv2.imshow('src', src)\n",
    "    cv2.imshow('dst', dst)\n",
    "    cv2.waitKey()\n",
    "    cv2.destroyAllWindows()\n",
    "\n",
    "\n",
    "def color_grayscale():\n",
    "    src = cv2.imread('butterfly.jpg', cv2.IMREAD_COLOR)\n",
    "\n",
    "    if src is None:\n",
    "        print('Image load failed!')\n",
    "        return\n",
    "\n",
    "    dst = cv2.cvtColor(src, cv2.COLOR_BGR2GRAY)\n",
    "\n",
    "    cv2.imshow('src', src)\n",
    "    cv2.imshow('dst', dst)\n",
    "    cv2.waitKey()\n",
    "    cv2.destroyAllWindows()\n",
    "\n",
    "\n",
    "def color_split():\n",
    "    src = cv2.imread('candies.png', cv2.IMREAD_COLOR)\n",
    "\n",
    "    if src is None:\n",
    "        print('Image load failed!')\n",
    "        return\n",
    "\n",
    "    # b_plane, g_plane, r_plane = cv2.split(src)\n",
    "    bgr_planes = cv2.split(src)\n",
    "\n",
    "    cv2.imshow('src', src)\n",
    "    cv2.imshow('B_plane', bgr_planes[0])\n",
    "    cv2.imshow('G_plane', bgr_planes[1])\n",
    "    cv2.imshow('R_plane', bgr_planes[2])\n",
    "    cv2.waitKey()\n",
    "    cv2.destroyAllWindows()\n",
    "    \n",
    "def color_split2():\n",
    "    src = cv2.imread('candies.png', cv2.IMREAD_COLOR)\n",
    "\n",
    "    if src is None:\n",
    "        print('Image load failed!')\n",
    "        return\n",
    "\n",
    "    # b_plane, g_plane, r_plane = cv2.split(src)\n",
    "    b, g, r = cv2.split(src)\n",
    "\n",
    "    import matplotlib.pyplot as plt\n",
    "    fig, ax = plt.subplots(1, 3)\n",
    "    cmaps=['Blues', 'Greens', 'Reds']\n",
    "    for i, img in enumerate([b, g, r]):\n",
    "        ax[i].imshow(255-img, cmap=cmaps[i])\n",
    "\n",
    "\n",
    "if __name__ == '__main__':\n",
    "    color_op()\n",
    "    color_inverse()\n",
    "    color_grayscale()\n",
    "    color_split()\n",
    "    color_split2()\n"
   ]
  },
  {
   "cell_type": "code",
   "execution_count": 27,
   "id": "639cda3d",
   "metadata": {},
   "outputs": [
    {
     "data": {
      "image/png": "[encoded data removed]",
      "text/plain": [
       "<Figure size 432x288 with 3 Axes>"
      ]
     },
     "metadata": {
      "needs_background": "light"
     },
     "output_type": "display_data"
    }
   ],
   "source": [
    "import matplotlib.pyplot as plt\n",
    "gray = cv2.imread('candies.png', cv2.IMREAD_GRAYSCALE)\n",
    "fig, ax = plt.subplots(1, 3)\n",
    "cmaps=['Blues', 'Greens', 'Reds']\n",
    "for i, img in enumerate([gray, gray, gray]):\n",
    "    ax[i].imshow(gray, cmap=cmaps[i])"
   ]
  },
  {
   "cell_type": "code",
   "execution_count": 28,
   "id": "3c119580",
   "metadata": {},
   "outputs": [
    {
     "name": "stderr",
     "output_type": "stream",
     "text": [
      "Using TensorFlow backend.\n"
     ]
    }
   ],
   "source": [
    "from keras.datasets import fashion_mnist\n",
    "(x_train, x_test), (y_train, y_test) = fashion_mnist.load_data()"
   ]
  },
  {
   "cell_type": "code",
   "execution_count": 29,
   "id": "1ce07a3d",
   "metadata": {},
   "outputs": [
    {
     "data": {
      "text/plain": [
       "(60000, 28, 28)"
      ]
     },
     "execution_count": 29,
     "metadata": {},
     "output_type": "execute_result"
    }
   ],
   "source": [
    "x_train.shape"
   ]
  },
  {
   "cell_type": "code",
   "execution_count": 30,
   "id": "0fd45fe5",
   "metadata": {},
   "outputs": [
    {
     "data": {
      "image/png": "[encoded data removed]",
      "text/plain": [
       "<Figure size 1440x216 with 10 Axes>"
      ]
     },
     "metadata": {
      "needs_background": "light"
     },
     "output_type": "display_data"
    }
   ],
   "source": [
    "import matplotlib.pyplot as plt\n",
    "fig, ax = plt.subplots(1, 10, figsize=(20,3))\n",
    "for i, img in enumerate(x_train[0:100:10]):\n",
    "    # print(img.shape)\n",
    "    ax[i].imshow(img, cmap='gray')"
   ]
  },
  {
   "cell_type": "code",
   "execution_count": 31,
   "id": "d1dcaa4b",
   "metadata": {},
   "outputs": [
    {
     "data": {
      "text/plain": [
       "(10, 28, 28)"
      ]
     },
     "execution_count": 31,
     "metadata": {},
     "output_type": "execute_result"
    }
   ],
   "source": [
    "x_train[0:100:10].shape"
   ]
  },
  {
   "cell_type": "code",
   "execution_count": 32,
   "id": "a04543d5",
   "metadata": {},
   "outputs": [
    {
     "name": "stdout",
     "output_type": "stream",
     "text": [
      "OpenCV(4.5.3) C:\\Users\\runneradmin\\AppData\\Local\\Temp\\pip-req-build-q3d_8t8e\\opencv\\modules\\highgui\\src\\window.cpp:868: error: (-215:Assertion failed) trackbar in function 'cv::getTrackbarPos'\n",
      "\n"
     ]
    }
   ],
   "source": [
    "# %load inrange.py\n",
    "import numpy as np\n",
    "import cv2\n",
    "\n",
    "\n",
    "def on_hue_changed(_=None):\n",
    "    try:\n",
    "        lower_hue = cv2.getTrackbarPos('Lower Hue', 'mask')\n",
    "        upper_hue = cv2.getTrackbarPos('Upper Hue', 'mask')\n",
    "\n",
    "        lowerb = (lower_hue, 100, 0)\n",
    "        upperb = (upper_hue, 255, 255)\n",
    "        mask = cv2.inRange(src_hsv, lowerb, upperb)\n",
    "\n",
    "        cv2.imshow('mask', mask)\n",
    "    except Exception as e:\n",
    "        print(e)\n",
    "\n",
    "def main():\n",
    "    global src_hsv\n",
    "\n",
    "    src = cv2.imread('candies.png', cv2.IMREAD_COLOR)\n",
    "\n",
    "    if src is None:\n",
    "        print('Image load failed!')\n",
    "        return\n",
    "\n",
    "    src_hsv = cv2.cvtColor(src, cv2.COLOR_BGR2HSV)\n",
    "\n",
    "    cv2.imshow('src', src)\n",
    "\n",
    "    cv2.namedWindow('mask')\n",
    "    cv2.createTrackbar('Lower Hue', 'mask', 40, 179, on_hue_changed)\n",
    "    cv2.createTrackbar('Upper Hue', 'mask', 80, 179, on_hue_changed)\n",
    "    # on_hue_changed(0)\n",
    "\n",
    "    cv2.waitKey(0)\n",
    "    cv2.destroyAllWindows()\n",
    "\n",
    "\n",
    "if __name__ == '__main__':\n",
    "    main()"
   ]
  },
  {
   "cell_type": "code",
   "execution_count": null,
   "id": "7402720e",
   "metadata": {},
   "outputs": [],
   "source": [
    "# %load backproj.py\n",
    "import numpy as np\n",
    "import cv2\n",
    "\n",
    "\n",
    "# Calculate CrCb histogram from a reference image\n",
    "\n",
    "ref = cv2.imread('ref.png', cv2.IMREAD_COLOR)\n",
    "mask = cv2.imread('mask.bmp', cv2.IMREAD_GRAYSCALE)\n",
    "ref_ycrcb = cv2.cvtColor(ref, cv2.COLOR_BGR2YCrCb)\n",
    "\n",
    "channels = [1, 2]\n",
    "cr_bins = 128\n",
    "cb_bins = 128\n",
    "histSize = [cr_bins, cb_bins]\n",
    "cr_range = [0, 256]\n",
    "cb_range = [0, 256]\n",
    "ranges = cr_range + cb_range\n",
    "\n",
    "hist = cv2.calcHist([ref_ycrcb], channels, mask, histSize, ranges)\n",
    "\n",
    "# Apply histogram backprojection to an input image\n",
    "\n",
    "src = cv2.imread('kids.png', cv2.IMREAD_COLOR)\n",
    "src_ycrcb = cv2.cvtColor(src, cv2.COLOR_BGR2YCrCb)\n",
    "\n",
    "backproj = cv2.calcBackProject([src_ycrcb], channels, hist, ranges, 1)\n",
    "\n",
    "cv2.imshow('src', src)\n",
    "cv2.imshow('backproj', backproj)\n",
    "cv2.waitKey()\n",
    "cv2.destroyAllWindows()\n"
   ]
  },
  {
   "cell_type": "code",
   "execution_count": 33,
   "id": "8835aaaf",
   "metadata": {},
   "outputs": [
    {
     "data": {
      "text/plain": [
       "'D:\\\\03_강의자료\\\\2021년 씨에스리\\\\2021년06월21일 시각지능 구현\\\\notebook\\\\ch10'"
      ]
     },
     "execution_count": 33,
     "metadata": {},
     "output_type": "execute_result"
    }
   ],
   "source": [
    "%pwd"
   ]
  },
  {
   "cell_type": "markdown",
   "id": "e64edb70",
   "metadata": {},
   "source": [
    "### cv2.selectROIs()를 활용한 ROI 입력받기 설명"
   ]
  },
  {
   "cell_type": "code",
   "execution_count": 34,
   "id": "960916f0",
   "metadata": {},
   "outputs": [
    {
     "name": "stdout",
     "output_type": "stream",
     "text": [
      "D:\\03_강의자료\\2021년 씨에스리\\2021년06월21일 시각지능 구현\\notebook\\ch05\n"
     ]
    }
   ],
   "source": [
    "%cd ..\\\\ch05"
   ]
  },
  {
   "cell_type": "code",
   "execution_count": 35,
   "id": "6db4707f",
   "metadata": {},
   "outputs": [],
   "source": [
    "src = cv2.imread('lenna.bmp')"
   ]
  },
  {
   "cell_type": "code",
   "execution_count": 36,
   "id": "514d1f7a",
   "metadata": {},
   "outputs": [
    {
     "name": "stdout",
     "output_type": "stream",
     "text": [
      "222 226 133 180\n",
      "222 226 133 180\n"
     ]
    }
   ],
   "source": [
    "rects = cv2.selectROIs('select multiple rois', src)\n",
    "for r in rects:\n",
    "    x, y, w, h = r\n",
    "    print(x, y, w, h)\n",
    "cv2.imshow('sliced', src[y:y+h, x:x+w])\n",
    "cv2.waitKey()\n",
    "cv2.destroyAllWindows()"
   ]
  },
  {
   "cell_type": "code",
   "execution_count": null,
   "id": "4550f408",
   "metadata": {},
   "outputs": [],
   "source": []
  }
 ],
 "metadata": {
  "kernelspec": {
   "display_name": "Python 3",
   "language": "python",
   "name": "python3"
  },
  "language_info": {
   "codemirror_mode": {
    "name": "ipython",
    "version": 3
   },
   "file_extension": ".py",
   "mimetype": "text/x-python",
   "name": "python",
   "nbconvert_exporter": "python",
   "pygments_lexer": "ipython3",
   "version": "3.8.10"
  }
 },
 "nbformat": 4,
 "nbformat_minor": 5
}
