{
 "cells": [
  {
   "cell_type": "code",
   "execution_count": 1,
   "id": "4dbc7d81",
   "metadata": {},
   "outputs": [],
   "source": [
    "import cv2"
   ]
  },
  {
   "cell_type": "code",
   "execution_count": 3,
   "id": "173d1b3e",
   "metadata": {},
   "outputs": [
    {
     "data": {
      "text/plain": [
       "'C:\\\\Users\\\\korea\\\\workshop\\\\cvworkshop'"
      ]
     },
     "execution_count": 3,
     "metadata": {},
     "output_type": "execute_result"
    }
   ],
   "source": [
    "%pwd"
   ]
  },
  {
   "cell_type": "code",
   "execution_count": 5,
   "id": "3902aedd",
   "metadata": {},
   "outputs": [
    {
     "name": "stdout",
     "output_type": "stream",
     "text": [
      "C:\\Users\\korea\\workshop\\cvworkshop\\workshop_0805\\ch05\n"
     ]
    }
   ],
   "source": [
    "%cd ch05/"
   ]
  },
  {
   "cell_type": "code",
   "execution_count": 7,
   "id": "923759a2",
   "metadata": {},
   "outputs": [],
   "source": [
    "# %load brightness.py\n",
    "import numpy as np\n",
    "import cv2\n",
    "\n",
    "\n",
    "def brightness1():\n",
    "    src = cv2.imread('lenna.bmp', cv2.IMREAD_GRAYSCALE)\n",
    "\n",
    "    if src is None:\n",
    "        print('Image load failed!')\n",
    "        return\n",
    "\n",
    "    dst = cv2.add(src, 100)\n",
    "\n",
    "    cv2.imshow('src', src)\n",
    "    cv2.imshow('dst', dst)\n",
    "    cv2.waitKey()\n",
    "    cv2.destroyAllWindows()\n",
    "\n",
    "\n",
    "def brightness2():\n",
    "    src = cv2.imread('lenna.bmp', cv2.IMREAD_GRAYSCALE)\n",
    "\n",
    "    if src is None:\n",
    "        print('Image load failed!')\n",
    "        return\n",
    "\n",
    "    dst = np.empty(src.shape, src.dtype)\n",
    "    for y in range(src.shape[0]):\n",
    "        for x in range(src.shape[1]):\n",
    "            dst[y, x] = src[y, x] + 100\n",
    "\n",
    "    cv2.imshow('src', src)\n",
    "    cv2.imshow('dst', dst)\n",
    "    cv2.waitKey()\n",
    "    cv2.destroyAllWindows()\n",
    "\n",
    "\n",
    "def saturated(value):\n",
    "    if value > 255:\n",
    "        value = 255\n",
    "    elif value < 0:\n",
    "        value = 0\n",
    "\n",
    "    return value\n",
    "\n",
    "\n",
    "def brightness3():\n",
    "    src = cv2.imread('lenna.bmp', cv2.IMREAD_GRAYSCALE)\n",
    "\n",
    "    if src is None:\n",
    "        print('Image load failed!')\n",
    "        return\n",
    "\n",
    "    dst = np.empty(src.shape, dtype=src.dtype)\n",
    "    for y in range(src.shape[0]):\n",
    "        for x in range(src.shape[1]):\n",
    "            dst[y, x] = saturated(src[y, x] + 100)\n",
    "\n",
    "    cv2.imshow('src', src)\n",
    "    cv2.imshow('dst', dst)\n",
    "    cv2.waitKey()\n",
    "    cv2.destroyAllWindows()\n",
    "\n",
    "\n",
    "def brightness4():\n",
    "    src = cv2.imread('lenna.bmp', cv2.IMREAD_GRAYSCALE)\n",
    "\n",
    "    if src is None:\n",
    "        print('Image load failed!')\n",
    "        return\n",
    "\n",
    "    def update(pos):\n",
    "        dst = cv2.add(src, pos)\n",
    "        cv2.imshow('dst', dst)\n",
    "\n",
    "    cv2.namedWindow('dst')\n",
    "    cv2.createTrackbar('Brightness', 'dst', 0, 100, update)\n",
    "    update(0)\n",
    "\n",
    "    cv2.waitKey()\n",
    "    cv2.destroyAllWindows()\n",
    "\n",
    "\n",
    "if __name__ == '__main__':\n",
    "    brightness1()\n",
    "    brightness2()\n",
    "    brightness3()\n",
    "    brightness4()\n"
   ]
  },
  {
   "cell_type": "code",
   "execution_count": 9,
   "id": "ed70bac6",
   "metadata": {},
   "outputs": [
    {
     "name": "stdout",
     "output_type": "stream",
     "text": [
      "C:\\Users\\korea\\workshop\\cvworkshop\\workshop_0805\n"
     ]
    }
   ],
   "source": [
    "%cd .."
   ]
  },
  {
   "cell_type": "code",
   "execution_count": 10,
   "id": "f07a1135",
   "metadata": {},
   "outputs": [
    {
     "name": "stdout",
     "output_type": "stream",
     "text": [
      "C:\\Users\\korea\\workshop\\cvworkshop\n"
     ]
    }
   ],
   "source": [
    "%cd .."
   ]
  },
  {
   "cell_type": "code",
   "execution_count": 20,
   "id": "176c5430",
   "metadata": {},
   "outputs": [],
   "source": [
    "import cv2\n",
    "src = cv2.imread('logo.png', cv2.IMREAD_GRAYSCALE)\n",
    "\n",
    "dst1 = cv2.normalize(src, None, 0, 255,cv2.NORM_MINMAX, cv2.CV_8U)\n",
    "dst2 = cv2.normalize(src, None, 120, 135,cv2.NORM_MINMAX, cv2.CV_8U)\n",
    "cv2.imshow('src',dst1)\n",
    "cv2.imshow('src2',dst2)\n",
    "cv2.waitKey()\n",
    "cv2.destroyAllWindows()"
   ]
  },
  {
   "cell_type": "code",
   "execution_count": null,
   "id": "315521c1",
   "metadata": {},
   "outputs": [],
   "source": []
  },
  {
   "cell_type": "code",
   "execution_count": 3,
   "id": "41959d4e",
   "metadata": {},
   "outputs": [
    {
     "data": {
      "image/png": "[encoded data removed]",
      "text/plain": [
       "<Figure size 640x480 with 1 Axes>"
      ]
     },
     "metadata": {},
     "output_type": "display_data"
    }
   ],
   "source": [
    "import matplotlib.pyplot as plt\n",
    "import cv2\n",
    "import numpy as np\n",
    "src = cv2.imread('logo.png', cv2.IMREAD_GRAYSCALE)\n",
    "\n",
    "hist1 = cv2.calcHist([src], [0], None, [256], [0,256])\n",
    "hist2 = cv2.calcHist([src], [0], None, [32], [0,256])\n",
    "\n",
    "# plt.bar()\n",
    "xarr1 = np.arange(256)\n",
    "yarr1 = hist1.flatten()\n",
    "\n",
    "xarr2 = np.arange(32) * 8\n",
    "yarr2 = hist2.flatten()\n",
    "\n",
    "plt.bar(xarr1,yarr1,width=0.5,color='blue',alpha=0.3)\n",
    "plt.bar(xarr2,yarr2,width=4.0,color='red',alpha=0.3)\n",
    "plt.show()"
   ]
  },
  {
   "cell_type": "code",
   "execution_count": null,
   "id": "f8a69ced",
   "metadata": {},
   "outputs": [],
   "source": [
    "# 이동경로 저장후 직접 농작물의 피해를 확인 할 수 있게"
   ]
  },
  {
   "cell_type": "code",
   "execution_count": 7,
   "id": "a5151fb5",
   "metadata": {},
   "outputs": [],
   "source": [
    "import cv2\n",
    "img = './workshop_0805/ch02/lenna.bmp'\n",
    "gray = cv2.imread(img, cv2.IMREAD_GRAYSCALE)\n",
    " \n",
    "dst = cv2.equalizeHist(gray)\n",
    "cv2.imshow('gray', gray)\n",
    "cv2.imshow('dst', dst)\n",
    "cv2.waitKey()\n",
    "cv2.destroyAllWindows()"
   ]
  },
  {
   "cell_type": "code",
   "execution_count": 17,
   "id": "d662ec01",
   "metadata": {
    "scrolled": true
   },
   "outputs": [],
   "source": [
    "img = './workshop_0805/ch02/lenna.bmp'\n",
    "bgr = cv2.imread(img, cv2.IMREAD_COLOR)\n",
    "yCrCb = cv2.cvtColor(bgr, cv2.COLOR_BGR2YCrCb)\n",
    "\n",
    "y,Cr,Cb = cv2.split(yCrCb)\n",
    "y2 = cv2.equalizeHist(y)\n",
    "y2CrCb = cv2.merge([y2,Cr,Cb])\n",
    "bgr2 = cv2.cvtColor(y2CrCb, cv2.COLOR_YCrCb2BGR)\n",
    "# cv2.imshow('gray', img)\n",
    "cv2.imshow('dst', bgr2)\n",
    "cv2.imshow('dst2',bgr)\n",
    "cv2.waitKey()\n",
    "cv2.destroyAllWindows()"
   ]
  },
  {
   "cell_type": "code",
   "execution_count": null,
   "id": "1ace50fb",
   "metadata": {},
   "outputs": [],
   "source": []
  }
 ],
 "metadata": {
  "kernelspec": {
   "display_name": "Python 3",
   "language": "python",
   "name": "python3"
  },
  "language_info": {
   "codemirror_mode": {
    "name": "ipython",
    "version": 3
   },
   "file_extension": ".py",
   "mimetype": "text/x-python",
   "name": "python",
   "nbconvert_exporter": "python",
   "pygments_lexer": "ipython3",
   "version": "3.8.0"
  }
 },
 "nbformat": 4,
 "nbformat_minor": 5
}
