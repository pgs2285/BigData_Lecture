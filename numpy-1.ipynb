{
 "cells": [
  {
   "cell_type": "code",
   "execution_count": 11,
   "id": "c8bc76f4",
   "metadata": {},
   "outputs": [
    {
     "name": "stdout",
     "output_type": "stream",
     "text": [
      "[0, 1, 2, 3, 4, 5, 6, 7, 8, 9]\n"
     ]
    },
    {
     "data": {
      "text/plain": [
       "array([0, 1, 2, 3, 4, 5, 6, 7, 8, 9])"
      ]
     },
     "execution_count": 11,
     "metadata": {},
     "output_type": "execute_result"
    }
   ],
   "source": [
    "import numpy as np\n",
    "my_arr = np.arange(10)\n",
    "print(list(my_arr))\n",
    "my_arr"
   ]
  },
  {
   "cell_type": "code",
   "execution_count": 13,
   "id": "25aa2431",
   "metadata": {},
   "outputs": [
    {
     "data": {
      "text/plain": [
       "array([ 0,  2,  4,  6,  8, 10, 12, 14, 16, 18])"
      ]
     },
     "execution_count": 13,
     "metadata": {},
     "output_type": "execute_result"
    }
   ],
   "source": [
    "my_arr * 2"
   ]
  },
  {
   "cell_type": "code",
   "execution_count": 21,
   "id": "4d4899a3",
   "metadata": {},
   "outputs": [
    {
     "data": {
      "text/plain": [
       "(2, 3)"
      ]
     },
     "execution_count": 21,
     "metadata": {},
     "output_type": "execute_result"
    }
   ],
   "source": [
    "data = np.random.randn(2,3)\n",
    "\n",
    "data + data\n",
    "data.shape"
   ]
  },
  {
   "cell_type": "code",
   "execution_count": 26,
   "id": "baaf8823",
   "metadata": {},
   "outputs": [
    {
     "name": "stdout",
     "output_type": "stream",
     "text": [
      "float64\n"
     ]
    },
    {
     "data": {
      "text/plain": [
       "array([6. , 7.5, 8. , 0. , 1. ])"
      ]
     },
     "execution_count": 26,
     "metadata": {},
     "output_type": "execute_result"
    }
   ],
   "source": [
    "data1 = [6,7.5, 8, 0, 1]\n",
    "arr1 = np.array(data1)\n",
    "print(arr1.dtype)\n",
    "arr1"
   ]
  },
  {
   "cell_type": "code",
   "execution_count": 28,
   "id": "ca11af9f",
   "metadata": {},
   "outputs": [
    {
     "data": {
      "text/plain": [
       "2"
      ]
     },
     "execution_count": 28,
     "metadata": {},
     "output_type": "execute_result"
    }
   ],
   "source": [
    "data2=[[1,2,3,4],[5,6,7,8],[5,6,7,8]]\n",
    "arr2 = np.array(data2)\n",
    "arr2.ndim"
   ]
  },
  {
   "cell_type": "code",
   "execution_count": 37,
   "id": "3e9aa3c9",
   "metadata": {},
   "outputs": [
    {
     "data": {
      "text/plain": [
       "array([[1., 1., 1., 1., 1., 1., 1.],\n",
       "       [1., 1., 1., 1., 1., 1., 1.],\n",
       "       [1., 1., 1., 1., 1., 1., 1.],\n",
       "       [1., 1., 1., 1., 1., 1., 1.],\n",
       "       [1., 1., 1., 1., 1., 1., 1.],\n",
       "       [1., 1., 1., 1., 1., 1., 1.],\n",
       "       [1., 1., 1., 1., 1., 1., 1.]])"
      ]
     },
     "execution_count": 37,
     "metadata": {},
     "output_type": "execute_result"
    }
   ],
   "source": [
    "a = np.ones((7,7))\n",
    "a"
   ]
  },
  {
   "cell_type": "code",
   "execution_count": 38,
   "id": "fa52776d",
   "metadata": {},
   "outputs": [
    {
     "data": {
      "text/plain": [
       "array([[[8.56386312e-312, 2.61854792e-322],\n",
       "        [0.00000000e+000, 0.00000000e+000],\n",
       "        [7.56587583e-307, 1.16095484e-028]],\n",
       "\n",
       "       [[5.28595592e-085, 1.08412958e-095],\n",
       "        [4.30259873e-096, 9.78750380e+199],\n",
       "        [6.97843734e+252, 4.01850535e-057]]])"
      ]
     },
     "execution_count": 38,
     "metadata": {},
     "output_type": "execute_result"
    }
   ],
   "source": [
    "np.empty((2,3,2))"
   ]
  },
  {
   "cell_type": "code",
   "execution_count": 39,
   "id": "21f3492d",
   "metadata": {},
   "outputs": [
    {
     "data": {
      "text/plain": [
       "dtype('int32')"
      ]
     },
     "execution_count": 39,
     "metadata": {},
     "output_type": "execute_result"
    }
   ],
   "source": [
    "arr = np.array([1,2,3,4,5])\n",
    "arr.dtype"
   ]
  },
  {
   "cell_type": "code",
   "execution_count": 42,
   "id": "89806659",
   "metadata": {},
   "outputs": [
    {
     "data": {
      "text/plain": [
       "array([1., 2., 3., 4., 5.])"
      ]
     },
     "execution_count": 42,
     "metadata": {},
     "output_type": "execute_result"
    }
   ],
   "source": [
    "float_arr = arr.astype(np.float64)\n",
    "float_arr.dtype\n",
    "float_arr"
   ]
  },
  {
   "cell_type": "code",
   "execution_count": 45,
   "id": "5d440eba",
   "metadata": {},
   "outputs": [
    {
     "data": {
      "text/plain": [
       "array([ 3, -1,  2,  0])"
      ]
     },
     "execution_count": 45,
     "metadata": {},
     "output_type": "execute_result"
    }
   ],
   "source": [
    "arr = np.array([3.7, -1.2, 2.7, 0.5])\n",
    "int_arr=arr.astype(np.int32)\n",
    "int_arr"
   ]
  },
  {
   "cell_type": "code",
   "execution_count": 51,
   "id": "7a0143a7",
   "metadata": {},
   "outputs": [
    {
     "data": {
      "text/plain": [
       "array([ 1.25, -9.6 , 42.  ])"
      ]
     },
     "execution_count": 51,
     "metadata": {},
     "output_type": "execute_result"
    }
   ],
   "source": [
    "numeric_strings = np.array(['1.25', '-9.6', '42'], dtype=np.string_)\n",
    "numeric_strings=numeric_strings.astype(float)\n",
    "numeric_strings"
   ]
  },
  {
   "cell_type": "code",
   "execution_count": 52,
   "id": "82132766",
   "metadata": {},
   "outputs": [
    {
     "data": {
      "text/plain": [
       "array([[ 1,  4,  9],\n",
       "       [16, 25, 36]])"
      ]
     },
     "execution_count": 52,
     "metadata": {},
     "output_type": "execute_result"
    }
   ],
   "source": [
    "arr=np.array([[1,2,3],[4,5,6]])\n",
    "arr*arr"
   ]
  },
  {
   "cell_type": "code",
   "execution_count": 54,
   "id": "cb26054d",
   "metadata": {},
   "outputs": [
    {
     "data": {
      "text/plain": [
       "array([[False, False, False],\n",
       "       [ True,  True,  True]])"
      ]
     },
     "execution_count": 54,
     "metadata": {},
     "output_type": "execute_result"
    }
   ],
   "source": [
    "arr2 = np.array([[3,4,5],[1,2,3]])\n",
    "arr> arr2"
   ]
  },
  {
   "cell_type": "code",
   "execution_count": 56,
   "id": "4c938314",
   "metadata": {},
   "outputs": [
    {
     "data": {
      "text/plain": [
       "array([0, 1, 2, 3, 4, 5, 6, 7, 8, 9])"
      ]
     },
     "execution_count": 56,
     "metadata": {},
     "output_type": "execute_result"
    }
   ],
   "source": [
    "arr = np.arange(10)\n",
    "arr"
   ]
  },
  {
   "cell_type": "code",
   "execution_count": 58,
   "id": "265c5613",
   "metadata": {},
   "outputs": [
    {
     "data": {
      "text/plain": [
       "array([ 0,  1,  2,  3,  4, 12, 12, 12,  8,  9])"
      ]
     },
     "execution_count": 58,
     "metadata": {},
     "output_type": "execute_result"
    }
   ],
   "source": [
    "arr[5:8] = 12\n",
    "arr"
   ]
  },
  {
   "cell_type": "code",
   "execution_count": 67,
   "id": "cf530292",
   "metadata": {},
   "outputs": [
    {
     "data": {
      "text/plain": [
       "array([ 0,  1,  2,  3,  4, 20, 20, 20,  8,  9])"
      ]
     },
     "execution_count": 67,
     "metadata": {},
     "output_type": "execute_result"
    }
   ],
   "source": [
    "arr_slice = arr[5:8]\n",
    "\n",
    "arr_slice[:]= 20\n",
    "arr_copy = arr[5:8].copy()\n",
    "arr_copy[:] = 100\n",
    "arr"
   ]
  },
  {
   "cell_type": "code",
   "execution_count": 108,
   "id": "9c7f6352",
   "metadata": {},
   "outputs": [
    {
     "data": {
      "text/plain": [
       "(2, 3, 3)"
      ]
     },
     "execution_count": 108,
     "metadata": {},
     "output_type": "execute_result"
    }
   ],
   "source": [
    "arr3d = np.array([[[1,2,3],[4,5,6],[7,8,9]],[[1,2,3],[4,5,6],[7,8,9]]])\n",
    "old_values = arr3d.copy()\n",
    "old_values.shape"
   ]
  },
  {
   "cell_type": "code",
   "execution_count": 87,
   "id": "21b7d51e",
   "metadata": {},
   "outputs": [
    {
     "data": {
      "text/plain": [
       "array([1, 2, 3])"
      ]
     },
     "execution_count": 87,
     "metadata": {},
     "output_type": "execute_result"
    }
   ],
   "source": [
    "arr3d[0] = 42\n",
    "arr3d = old_values\n",
    "arr3d[1,0]"
   ]
  },
  {
   "cell_type": "code",
   "execution_count": 109,
   "id": "fe16706a",
   "metadata": {
    "scrolled": false
   },
   "outputs": [
    {
     "data": {
      "text/plain": [
       "array([[2, 3],\n",
       "       [5, 6]])"
      ]
     },
     "execution_count": 109,
     "metadata": {},
     "output_type": "execute_result"
    }
   ],
   "source": [
    "arr2d = np.array([[1,2,3],[4,5,6]])\n",
    "arr2d[1:2]\n",
    "arr2d[:2, 1:]\n"
   ]
  },
  {
   "cell_type": "code",
   "execution_count": 125,
   "id": "0b689edc",
   "metadata": {},
   "outputs": [
    {
     "data": {
      "text/plain": [
       "array([[14, 16, 18]])"
      ]
     },
     "execution_count": 125,
     "metadata": {},
     "output_type": "execute_result"
    }
   ],
   "source": [
    "#슬라이스로 가져오는 이유는 형태를 다차원으로 가져오기위해\n",
    "arr2d[1].shape#(3, )\n",
    "arr2d[1:,:].shape #(1,3)\n",
    "\n",
    "\n",
    "arr2d[1,:2].shape#(2,)\n",
    "arr2d[1:2,:2].shape#(1,2)\n",
    "\n",
    "np.array([[7,8,9]]) + np.array([7,8,9]) #브로드캐스팅을 해주어서 계산이 된다!\n"
   ]
  },
  {
   "cell_type": "code",
   "execution_count": 139,
   "id": "60dd8577",
   "metadata": {},
   "outputs": [
    {
     "name": "stdout",
     "output_type": "stream",
     "text": [
      "[[-0.22030306  1.61889217  0.08180299 -0.76360129]\n",
      " [ 0.49620551  1.1533663   0.39651944  1.65688846]\n",
      " [ 0.72862798 -0.83663466 -0.76946099 -2.46212623]\n",
      " [ 0.68553553 -0.64747591 -0.83572522 -0.37044073]\n",
      " [-0.92517592  0.90703668 -0.26053422 -1.07219141]\n",
      " [ 0.81619821 -0.43564619  0.39017519  1.26633688]\n",
      " [-1.52832376  0.57801121  0.1033789   1.32925033]]\n"
     ]
    },
    {
     "data": {
      "text/plain": [
       "array([[ 0.49620551,  1.1533663 ,  0.39651944,  1.65688846],\n",
       "       [ 0.72862798, -0.83663466, -0.76946099, -2.46212623],\n",
       "       [-0.92517592,  0.90703668, -0.26053422, -1.07219141],\n",
       "       [ 0.81619821, -0.43564619,  0.39017519,  1.26633688],\n",
       "       [-1.52832376,  0.57801121,  0.1033789 ,  1.32925033]])"
      ]
     },
     "execution_count": 139,
     "metadata": {},
     "output_type": "execute_result"
    }
   ],
   "source": [
    "names = np.array(['B','J','W','B','W','J','J'])\n",
    "data = np.random.randn(7,4)\n",
    "print(data)\n",
    "names=='B'\n",
    "data[~(names=='B')]# !=로 바꾸어주어도 됨"
   ]
  },
  {
   "cell_type": "code",
   "execution_count": 150,
   "id": "a94b5f3d",
   "metadata": {},
   "outputs": [
    {
     "name": "stdout",
     "output_type": "stream",
     "text": [
      "[[-0.22030306  1.61889217  0.08180299 -0.76360129]\n",
      " [ 0.49620551  1.1533663   0.39651944  1.65688846]\n",
      " [ 0.68553553 -0.64747591 -0.83572522 -0.37044073]\n",
      " [ 0.81619821 -0.43564619  0.39017519  1.26633688]\n",
      " [-1.52832376  0.57801121  0.1033789   1.32925033]]\n"
     ]
    },
    {
     "data": {
      "text/plain": [
       "array([False, False,  True, False,  True, False, False])"
      ]
     },
     "execution_count": 150,
     "metadata": {},
     "output_type": "execute_result"
    }
   ],
   "source": [
    "cond = (names=='B') | (names =='J')\n",
    "print(data[cond])\n",
    "~cond"
   ]
  },
  {
   "cell_type": "code",
   "execution_count": 161,
   "id": "f92908bd",
   "metadata": {},
   "outputs": [
    {
     "data": {
      "text/plain": [
       "array([[0.        , 1.61889217, 0.08180299, 0.        ],\n",
       "       [0.49620551, 1.1533663 , 0.39651944, 1.65688846],\n",
       "       [0.72862798, 0.        , 0.        , 0.        ],\n",
       "       [0.68553553, 0.        , 0.        , 0.        ],\n",
       "       [0.        , 0.90703668, 0.        , 0.        ],\n",
       "       [0.81619821, 0.        , 0.39017519, 1.26633688],\n",
       "       [0.        , 0.57801121, 0.1033789 , 1.32925033]])"
      ]
     },
     "execution_count": 161,
     "metadata": {},
     "output_type": "execute_result"
    }
   ],
   "source": [
    "data < 0\n",
    "data[data<0] = 0\n",
    "data"
   ]
  },
  {
   "cell_type": "code",
   "execution_count": 164,
   "id": "ccc19023",
   "metadata": {},
   "outputs": [
    {
     "data": {
      "text/plain": [
       "array([[7.        , 7.        , 7.        , 7.        ],\n",
       "       [0.49620551, 1.1533663 , 0.39651944, 1.65688846],\n",
       "       [7.        , 7.        , 7.        , 7.        ],\n",
       "       [7.        , 7.        , 7.        , 7.        ],\n",
       "       [7.        , 7.        , 7.        , 7.        ],\n",
       "       [0.81619821, 0.        , 0.39017519, 1.26633688],\n",
       "       [0.        , 0.57801121, 0.1033789 , 1.32925033]])"
      ]
     },
     "execution_count": 164,
     "metadata": {},
     "output_type": "execute_result"
    }
   ],
   "source": [
    "data[names != 'J'] = 7\n",
    "data"
   ]
  },
  {
   "cell_type": "code",
   "execution_count": 188,
   "id": "0f454251",
   "metadata": {},
   "outputs": [
    {
     "data": {
      "text/plain": [
       "array([[0., 0., 0.],\n",
       "       [1., 1., 1.],\n",
       "       [2., 2., 2.],\n",
       "       [3., 3., 3.],\n",
       "       [4., 4., 4.],\n",
       "       [5., 5., 5.],\n",
       "       [6., 6., 6.],\n",
       "       [7., 7., 7.]])"
      ]
     },
     "execution_count": 188,
     "metadata": {},
     "output_type": "execute_result"
    }
   ],
   "source": [
    "arr = np.empty((8,4))\n",
    "for i in range(8):\n",
    "    arr[i] = i\n",
    "arr_test = arr[[4,1,2,3]] \n",
    "arr_test[2] = 100\n",
    "\n",
    "# choice = arr[:,[3,1,2]]\n",
    "# choice\n",
    "arr.T[[3,1,2]].T"
   ]
  },
  {
   "cell_type": "code",
   "execution_count": 194,
   "id": "22fa32b2",
   "metadata": {},
   "outputs": [
    {
     "data": {
      "text/plain": [
       "array([[ 0,  1,  2,  3],\n",
       "       [ 4,  5,  6,  7],\n",
       "       [ 8,  9, 10, 11],\n",
       "       [12, 13, 14, 15],\n",
       "       [16, 17, 18, 19],\n",
       "       [20, 21, 22, 23],\n",
       "       [24, 25, 26, 27],\n",
       "       [28, 29, 30, 31]])"
      ]
     },
     "execution_count": 194,
     "metadata": {},
     "output_type": "execute_result"
    }
   ],
   "source": [
    "arr = np.arange(32).reshape((8,4))\n",
    "arr"
   ]
  },
  {
   "cell_type": "code",
   "execution_count": 253,
   "id": "dd82d0ee",
   "metadata": {},
   "outputs": [
    {
     "data": {
      "text/plain": [
       "array([[ 7,  5],\n",
       "       [23, 21],\n",
       "       [31, 29],\n",
       "       [11,  9]])"
      ]
     },
     "execution_count": 253,
     "metadata": {},
     "output_type": "execute_result"
    }
   ],
   "source": [
    "# for i in range(4):\n",
    "#     print(arr[[1,5,7,2]][i][[3,0]])\n",
    "arr[[1,5,7,2]][:,[3,1]]"
   ]
  },
  {
   "cell_type": "code",
   "execution_count": 264,
   "id": "2b9cc4c0",
   "metadata": {},
   "outputs": [
    {
     "data": {
      "text/plain": [
       "array([[14, 32],\n",
       "       [32, 77]])"
      ]
     },
     "execution_count": 264,
     "metadata": {},
     "output_type": "execute_result"
    }
   ],
   "source": [
    "arr = np.array([[1,2,3],[4,5,6]])\n",
    "np.dot(arr,arr.T)\n",
    "arr@arr.T"
   ]
  },
  {
   "cell_type": "code",
   "execution_count": 271,
   "id": "999558bc",
   "metadata": {},
   "outputs": [
    {
     "name": "stdout",
     "output_type": "stream",
     "text": [
      "(3, 2, 4)\n"
     ]
    },
    {
     "data": {
      "text/plain": [
       "(4, 2, 3)"
      ]
     },
     "execution_count": 271,
     "metadata": {},
     "output_type": "execute_result"
    }
   ],
   "source": [
    "test = np.array([[[1,2,4,3],[4,4,5,6]],[[1,2,4,3],[4,5,4,6]],[[1,2,4,3],[4,5,4,6]]])\n",
    "print(test.shape)\n",
    "test.T.shape"
   ]
  },
  {
   "cell_type": "code",
   "execution_count": 276,
   "id": "14c0672d",
   "metadata": {},
   "outputs": [
    {
     "name": "stdout",
     "output_type": "stream",
     "text": [
      "[-1.03765052 -0.79772432  0.02358219 -0.39446682 -0.30425422 -0.46460841\n",
      " -0.29659884  0.72804727] \n",
      " [ 0.43345051 -0.43144085  1.05789585  0.05442429  0.60578762 -0.00171416\n",
      "  0.82327612  1.68358923]\n"
     ]
    },
    {
     "data": {
      "text/plain": [
       "array([-1.03765052, -0.79772432,  0.02358219, -0.39446682, -0.30425422,\n",
       "       -0.46460841, -0.29659884,  0.72804727])"
      ]
     },
     "execution_count": 276,
     "metadata": {},
     "output_type": "execute_result"
    }
   ],
   "source": [
    "x = np.random.randn(8)\n",
    "y = np.random.randn(8)\n",
    "print(x,'\\n',y)\n",
    "np.maximum(x,y) #비교후 큰거 나옴\n",
    "np.minimum(x,y) #비교후 작은거 나옴"
   ]
  },
  {
   "cell_type": "code",
   "execution_count": 277,
   "id": "44f6bc97",
   "metadata": {},
   "outputs": [
    {
     "name": "stdout",
     "output_type": "stream",
     "text": [
      "[ 0.00512244 -0.73617301 -0.98311375  0.91708728  0.86278437 -0.2093264\n",
      "  0.01712237] [ 1. -0. -2.  5.  0. -3. 10.]\n"
     ]
    }
   ],
   "source": [
    "arr=np.random.randn(7) * 5\n",
    "remainder, whole_part = np.modf(arr)\n",
    "print(remainder, whole_part)"
   ]
  },
  {
   "cell_type": "code",
   "execution_count": 280,
   "id": "a6046b9b",
   "metadata": {},
   "outputs": [
    {
     "data": {
      "text/plain": [
       "array([0.        , 1.        , 1.41421356, 1.73205081, 2.        ,\n",
       "       2.23606798, 2.44948974, 2.64575131, 2.82842712, 3.        ])"
      ]
     },
     "execution_count": 280,
     "metadata": {},
     "output_type": "execute_result"
    }
   ],
   "source": [
    "out = np.empty(10)\n",
    "arr = np.arange(10)\n",
    "np.sqrt(arr,out)"
   ]
  },
  {
   "cell_type": "code",
   "execution_count": 287,
   "id": "24475ead",
   "metadata": {},
   "outputs": [
    {
     "data": {
      "text/plain": [
       "array([[-1,  1,  0,  3],\n",
       "       [ 3,  5,  4,  7],\n",
       "       [ 7,  9,  8, 11]])"
      ]
     },
     "execution_count": 287,
     "metadata": {},
     "output_type": "execute_result"
    }
   ],
   "source": [
    "a = np.arange(12).reshape(3,4)\n",
    "a + [-1,0,-2,0]"
   ]
  },
  {
   "cell_type": "code",
   "execution_count": 294,
   "id": "046b9dc2",
   "metadata": {},
   "outputs": [
    {
     "data": {
      "text/plain": [
       "array([[-5.  , -4.99, -4.98, ...,  4.97,  4.98,  4.99],\n",
       "       [-5.  , -4.99, -4.98, ...,  4.97,  4.98,  4.99],\n",
       "       [-5.  , -4.99, -4.98, ...,  4.97,  4.98,  4.99],\n",
       "       ...,\n",
       "       [-5.  , -4.99, -4.98, ...,  4.97,  4.98,  4.99],\n",
       "       [-5.  , -4.99, -4.98, ...,  4.97,  4.98,  4.99],\n",
       "       [-5.  , -4.99, -4.98, ...,  4.97,  4.98,  4.99]])"
      ]
     },
     "execution_count": 294,
     "metadata": {},
     "output_type": "execute_result"
    }
   ],
   "source": [
    "points = np.arange(-5, 5, 0.01)\n",
    "xs,ys = np.meshgrid(points, points)\n",
    "xs"
   ]
  },
  {
   "cell_type": "code",
   "execution_count": 295,
   "id": "a799d98d",
   "metadata": {},
   "outputs": [
    {
     "data": {
      "text/plain": [
       "array([[7.07106781, 7.06400028, 7.05693985, ..., 7.04988652, 7.05693985,\n",
       "        7.06400028],\n",
       "       [7.06400028, 7.05692568, 7.04985815, ..., 7.04279774, 7.04985815,\n",
       "        7.05692568],\n",
       "       [7.05693985, 7.04985815, 7.04278354, ..., 7.03571603, 7.04278354,\n",
       "        7.04985815],\n",
       "       ...,\n",
       "       [7.04988652, 7.04279774, 7.03571603, ..., 7.0286414 , 7.03571603,\n",
       "        7.04279774],\n",
       "       [7.05693985, 7.04985815, 7.04278354, ..., 7.03571603, 7.04278354,\n",
       "        7.04985815],\n",
       "       [7.06400028, 7.05692568, 7.04985815, ..., 7.04279774, 7.04985815,\n",
       "        7.05692568]])"
      ]
     },
     "execution_count": 295,
     "metadata": {},
     "output_type": "execute_result"
    }
   ],
   "source": [
    "z = np.sqrt(xs**2 + ys ** 2)\n",
    "z"
   ]
  },
  {
   "cell_type": "code",
   "execution_count": 297,
   "id": "0b2be87a",
   "metadata": {},
   "outputs": [
    {
     "data": {
      "text/plain": [
       "<matplotlib.colorbar.Colorbar at 0x1939c42f310>"
      ]
     },
     "execution_count": 297,
     "metadata": {},
     "output_type": "execute_result"
    },
    {
     "data": {
      "image/png": "[encoded data removed]",
      "text/plain": [
       "<Figure size 432x288 with 2 Axes>"
      ]
     },
     "metadata": {
      "needs_background": "light"
     },
     "output_type": "display_data"
    }
   ],
   "source": [
    "import matplotlib.pyplot as plt\n",
    "plt.imshow(z, cmap=plt.cm.gray); plt.colorbar()"
   ]
  },
  {
   "cell_type": "code",
   "execution_count": 298,
   "id": "cb00cbc7",
   "metadata": {},
   "outputs": [],
   "source": [
    "xarr = np.array([1.1,1.2,1.3,1.4,1.5])\n",
    "yarr = np.array([2.1,2.2,2.3,2.4,2.5])\n",
    "cond = np.array([True,False,True,False,True])"
   ]
  },
  {
   "cell_type": "code",
   "execution_count": 304,
   "id": "b94c5553",
   "metadata": {},
   "outputs": [
    {
     "name": "stdout",
     "output_type": "stream",
     "text": [
      "[1.1, 2.2, 1.3, 2.4, 1.5] [1.1 2.2 1.3 2.4 1.5]\n"
     ]
    }
   ],
   "source": [
    "result = [(x if c else y) for x, y, c in zip(xarr, yarr, cond)] #큰 배열을 빠르게 처리하지 못함\n",
    "result\n",
    "result1 = np.where(cond,xarr,yarr) #간결 & 빠름\n",
    "result1\n",
    "print(result, result1)"
   ]
  },
  {
   "cell_type": "code",
   "execution_count": 315,
   "id": "977e3912",
   "metadata": {},
   "outputs": [
    {
     "data": {
      "text/plain": [
       "array([[-0.30954498, -0.37636355, -0.4605788 ,  2.        ],\n",
       "       [-0.63202251,  2.        , -0.42076248,  2.        ],\n",
       "       [ 2.        , -1.31708687, -0.21007156, -0.2192516 ],\n",
       "       [ 2.        , -0.27022032,  2.        ,  2.        ],\n",
       "       [ 2.        , -0.40537952,  2.        , -0.41389454]])"
      ]
     },
     "execution_count": 315,
     "metadata": {},
     "output_type": "execute_result"
    }
   ],
   "source": [
    "arr = np.random.randn(5,4)\n",
    "arr > 0\n",
    "np.where(arr>0,2,arr) # 조건에 맞으면 2 아니면 그대로"
   ]
  },
  {
   "cell_type": "code",
   "execution_count": 316,
   "id": "f04e4539",
   "metadata": {
    "scrolled": true
   },
   "outputs": [
    {
     "name": "stdout",
     "output_type": "stream",
     "text": [
      "0.09012587991369041\n",
      "1.8025175982738082\n",
      "[-0.14986908  0.23705415 -0.20679946  0.75447709 -0.1842333 ]\n",
      "[ 0.01546635 -0.27250716  0.26945411  0.34809021]\n"
     ]
    }
   ],
   "source": [
    "print(arr.mean())\n",
    "print(arr.sum())\n",
    "print(arr.mean(axis = 1))# 행의 평균\n",
    "print(arr.mean(axis = 0))# 열의 평균"
   ]
  },
  {
   "cell_type": "code",
   "execution_count": 318,
   "id": "ff6214db",
   "metadata": {},
   "outputs": [
    {
     "data": {
      "text/plain": [
       "array([ 0,  1,  3,  6, 10, 15, 21, 28], dtype=int32)"
      ]
     },
     "execution_count": 318,
     "metadata": {},
     "output_type": "execute_result"
    }
   ],
   "source": [
    "arr = np.arange(8)\n",
    "arr.cumsum()"
   ]
  },
  {
   "cell_type": "code",
   "execution_count": 319,
   "id": "f7637231",
   "metadata": {},
   "outputs": [
    {
     "data": {
      "text/plain": [
       "array([[ 1,  3,  6],\n",
       "       [ 4,  9, 15],\n",
       "       [ 7, 15, 24]], dtype=int32)"
      ]
     },
     "execution_count": 319,
     "metadata": {},
     "output_type": "execute_result"
    }
   ],
   "source": [
    "arr = np.array([[1,2,3],[4,5,6],[7,8,9]])\n",
    "arr.cumsum(axis=0)#열기준 누적합계\n",
    "arr.cumsum(axis=1)#행기준 누적합계"
   ]
  },
  {
   "cell_type": "code",
   "execution_count": 323,
   "id": "00845786",
   "metadata": {},
   "outputs": [
    {
     "data": {
      "text/plain": [
       "array([[  1,   2,   6],\n",
       "       [  4,  20, 120],\n",
       "       [  7,  56, 504]], dtype=int32)"
      ]
     },
     "execution_count": 323,
     "metadata": {},
     "output_type": "execute_result"
    }
   ],
   "source": [
    "arr.cumprod() #누적곱\n",
    "arr.cumprod(axis=0)#열기준\n",
    "arr.cumprod(axis=1)#행기준"
   ]
  },
  {
   "cell_type": "code",
   "execution_count": null,
   "id": "63a48d19",
   "metadata": {},
   "outputs": [],
   "source": []
  }
 ],
 "metadata": {
  "kernelspec": {
   "display_name": "Python 3",
   "language": "python",
   "name": "python3"
  },
  "language_info": {
   "codemirror_mode": {
    "name": "ipython",
    "version": 3
   },
   "file_extension": ".py",
   "mimetype": "text/x-python",
   "name": "python",
   "nbconvert_exporter": "python",
   "pygments_lexer": "ipython3",
   "version": "3.8.10"
  }
 },
 "nbformat": 4,
 "nbformat_minor": 5
}
