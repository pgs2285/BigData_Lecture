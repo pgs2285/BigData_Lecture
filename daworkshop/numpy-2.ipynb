{
 "cells": [
  {
   "cell_type": "code",
   "execution_count": 1,
   "id": "1ffe10c0",
   "metadata": {},
   "outputs": [],
   "source": [
    "import numpy as np"
   ]
  },
  {
   "cell_type": "code",
   "execution_count": 4,
   "id": "19735287",
   "metadata": {},
   "outputs": [
    {
     "name": "stdout",
     "output_type": "stream",
     "text": [
      "[-0.39493378 -1.03091961  0.57677666 -2.53239708 -0.21883422 -0.9079045\n",
      "  0.52833838 -0.32356513 -0.30284604  0.65036408  0.35978258 -0.28679146\n",
      " -1.85690734  1.00483233 -0.54960187 -0.42357353  0.42256303  0.23876089\n",
      " -0.36984705  2.61619781  0.07559358  0.6008005  -0.15518586  0.52265609\n",
      "  0.26860734 -0.90116185  1.81299387 -0.15808829  0.28212794  2.12778614\n",
      "  1.37684335 -0.64932886 -2.08495012 -0.64149842 -0.22548361  1.06372481\n",
      " -1.42322872 -2.38128278  1.20363229 -0.55132693 -1.37089676  0.80696201\n",
      "  0.92067597 -0.09595298  0.02375601 -0.6764455  -0.33673678  0.09666682\n",
      " -0.43375756  0.53394413 -0.01030681  0.68068261 -1.12575753 -1.60624137\n",
      " -0.26236262 -0.89161188 -0.4945786   0.51474891 -0.18106049 -0.88389035\n",
      "  0.83603876 -0.02069873  1.06006121 -0.8623434   1.63027567  0.79615474\n",
      "  1.28862245  0.05737408  0.02902666  0.22928927  2.03337399 -0.41429213\n",
      " -1.47539058 -1.00364184  2.09449139 -2.06681741  1.94595004 -2.56883018\n",
      " -0.63153078  0.82172606  1.06723821  0.83009475  0.57277266  0.07812213\n",
      "  1.64341999  0.70737308 -0.03863464 -1.94641294 -0.45368686  1.22954722\n",
      "  0.25700055 -0.78782332 -0.53296736  1.44380841 -0.5647686  -0.63838246\n",
      "  2.06291661 -0.85073999  0.65224618 -0.63471163]\n"
     ]
    },
    {
     "data": {
      "text/plain": [
       "48"
      ]
     },
     "execution_count": 4,
     "metadata": {},
     "output_type": "execute_result"
    }
   ],
   "source": [
    "arr = np.random.randn(100)\n",
    "print(arr)\n",
    "(arr>0).sum() #0보다 큰것의 개수"
   ]
  },
  {
   "cell_type": "code",
   "execution_count": 7,
   "id": "4ec88f3f",
   "metadata": {},
   "outputs": [
    {
     "data": {
      "text/plain": [
       "False"
      ]
     },
     "execution_count": 7,
     "metadata": {},
     "output_type": "execute_result"
    }
   ],
   "source": [
    "bools = np.array([False, True, False, False])\n",
    "bools.any() #true가 하나라도 있나?\n",
    "bools.all() # 전부다 True인가"
   ]
  },
  {
   "cell_type": "code",
   "execution_count": 9,
   "id": "1443a8c8",
   "metadata": {},
   "outputs": [
    {
     "data": {
      "text/plain": [
       "array([-0.05598137,  0.08394236,  0.60170269,  0.67488825,  0.95935477,\n",
       "        1.76997434])"
      ]
     },
     "execution_count": 9,
     "metadata": {},
     "output_type": "execute_result"
    }
   ],
   "source": [
    "arr = np.random.randn(6)\n",
    "arr.sort()\n",
    "arr"
   ]
  },
  {
   "cell_type": "code",
   "execution_count": 10,
   "id": "0c1ea02e",
   "metadata": {},
   "outputs": [
    {
     "name": "stdout",
     "output_type": "stream",
     "text": [
      "[[-1.47629676  0.61473835  1.63398386]\n",
      " [-1.55166044 -0.63918088  1.38455849]\n",
      " [-0.69891461  0.73824369  1.59689999]\n",
      " [-1.10016267  0.44693783  1.41839616]\n",
      " [-1.10592427 -0.35363557  0.41678383]]\n",
      "[[-1.55166044 -0.63918088  0.41678383]\n",
      " [-1.47629676 -0.35363557  1.38455849]\n",
      " [-1.10592427  0.44693783  1.41839616]\n",
      " [-1.10016267  0.61473835  1.59689999]\n",
      " [-0.69891461  0.73824369  1.63398386]]\n"
     ]
    }
   ],
   "source": [
    "arr = np.random.randn(5,3)\n",
    "arr.sort(1) # 1번축 가로축 기준 정렬 (행)\n",
    "print(arr)\n",
    "arr.sort(0) # 0번축 세로축 기준 정렬 (열)\n",
    "print(arr)"
   ]
  },
  {
   "cell_type": "code",
   "execution_count": 13,
   "id": "45bbb62c",
   "metadata": {},
   "outputs": [
    {
     "name": "stdout",
     "output_type": "stream",
     "text": [
      "[-3.70738167e+00 -3.08490561e+00 -2.77755818e+00 -2.70914138e+00\n",
      " -2.67022774e+00 -2.63096198e+00 -2.55796440e+00 -2.48857918e+00\n",
      " -2.43689334e+00 -2.42866866e+00 -2.39917872e+00 -2.38970930e+00\n",
      " -2.36730300e+00 -2.32448143e+00 -2.30883648e+00 -2.30213969e+00\n",
      " -2.29138033e+00 -2.25685423e+00 -2.19704582e+00 -2.18698361e+00\n",
      " -2.17693047e+00 -2.16662822e+00 -2.09723847e+00 -2.07895745e+00\n",
      " -2.04727386e+00 -2.04060251e+00 -1.98842116e+00 -1.98131116e+00\n",
      " -1.96541090e+00 -1.92328001e+00 -1.91413586e+00 -1.87529600e+00\n",
      " -1.87318473e+00 -1.87223173e+00 -1.85236747e+00 -1.83487041e+00\n",
      " -1.83093374e+00 -1.81593525e+00 -1.80774244e+00 -1.79793678e+00\n",
      " -1.78530202e+00 -1.78274991e+00 -1.78097624e+00 -1.76917430e+00\n",
      " -1.76411306e+00 -1.75986800e+00 -1.73393276e+00 -1.72521036e+00\n",
      " -1.71862787e+00 -1.70018225e+00 -1.67616829e+00 -1.67615851e+00\n",
      " -1.66459651e+00 -1.65398016e+00 -1.63155421e+00 -1.60928157e+00\n",
      " -1.59264114e+00 -1.55977280e+00 -1.55048886e+00 -1.54974608e+00\n",
      " -1.54374145e+00 -1.53913040e+00 -1.53087657e+00 -1.52414256e+00\n",
      " -1.52116492e+00 -1.51843897e+00 -1.51594762e+00 -1.51425793e+00\n",
      " -1.50105493e+00 -1.49132791e+00 -1.47681167e+00 -1.47644568e+00\n",
      " -1.46828442e+00 -1.46436240e+00 -1.46297295e+00 -1.46252991e+00\n",
      " -1.45656512e+00 -1.45576879e+00 -1.44313666e+00 -1.43638131e+00\n",
      " -1.43337579e+00 -1.42485029e+00 -1.42179523e+00 -1.41309914e+00\n",
      " -1.40871739e+00 -1.40587327e+00 -1.39712709e+00 -1.39368794e+00\n",
      " -1.37800447e+00 -1.36854449e+00 -1.36503955e+00 -1.35495045e+00\n",
      " -1.35297628e+00 -1.35251438e+00 -1.34630701e+00 -1.34565820e+00\n",
      " -1.34125892e+00 -1.33787954e+00 -1.33320511e+00 -1.33087756e+00\n",
      " -1.30508464e+00 -1.30164810e+00 -1.29900409e+00 -1.29231866e+00\n",
      " -1.28372103e+00 -1.26772654e+00 -1.26674136e+00 -1.26210965e+00\n",
      " -1.25668312e+00 -1.24909680e+00 -1.24850014e+00 -1.24784261e+00\n",
      " -1.24244643e+00 -1.23543104e+00 -1.23285303e+00 -1.23151722e+00\n",
      " -1.22329117e+00 -1.22168379e+00 -1.21999732e+00 -1.21304152e+00\n",
      " -1.21265139e+00 -1.21118520e+00 -1.20845816e+00 -1.20231340e+00\n",
      " -1.20211439e+00 -1.20037705e+00 -1.19981693e+00 -1.19964588e+00\n",
      " -1.19393151e+00 -1.18631946e+00 -1.18618451e+00 -1.18470293e+00\n",
      " -1.18045113e+00 -1.17805460e+00 -1.15394598e+00 -1.14491152e+00\n",
      " -1.14026956e+00 -1.13774667e+00 -1.13578478e+00 -1.13545668e+00\n",
      " -1.13029910e+00 -1.12907403e+00 -1.12059312e+00 -1.11971861e+00\n",
      " -1.10657175e+00 -1.09829796e+00 -1.09192696e+00 -1.09149968e+00\n",
      " -1.08758436e+00 -1.08361067e+00 -1.07172920e+00 -1.06999382e+00\n",
      " -1.05679115e+00 -1.05422509e+00 -1.05414772e+00 -1.05396255e+00\n",
      " -1.04923579e+00 -1.04767759e+00 -1.04693051e+00 -1.04169030e+00\n",
      " -1.02933455e+00 -1.02784106e+00 -1.02618654e+00 -1.02223069e+00\n",
      " -1.01598100e+00 -1.01396460e+00 -1.01139162e+00 -1.00925416e+00\n",
      " -1.00002505e+00 -9.97584137e-01 -9.96619610e-01 -9.94573899e-01\n",
      " -9.93736287e-01 -9.90631267e-01 -9.89646907e-01 -9.81606222e-01\n",
      " -9.73546268e-01 -9.67445668e-01 -9.63730409e-01 -9.62076733e-01\n",
      " -9.61963915e-01 -9.59451923e-01 -9.59387858e-01 -9.53225325e-01\n",
      " -9.51318075e-01 -9.42649552e-01 -9.42238167e-01 -9.39389157e-01\n",
      " -9.38837029e-01 -9.37909195e-01 -9.28635460e-01 -9.28599573e-01\n",
      " -9.28316327e-01 -9.25294570e-01 -9.18500787e-01 -9.14949894e-01\n",
      " -9.12518751e-01 -9.07268566e-01 -9.04202121e-01 -9.02412608e-01\n",
      " -8.94717629e-01 -8.92593641e-01 -8.92246764e-01 -8.91722813e-01\n",
      " -8.80955263e-01 -8.78655987e-01 -8.78157438e-01 -8.73525678e-01\n",
      " -8.72819999e-01 -8.72570882e-01 -8.71561954e-01 -8.71472949e-01\n",
      " -8.66029239e-01 -8.52239133e-01 -8.48619759e-01 -8.45191906e-01\n",
      " -8.43070560e-01 -8.39288336e-01 -8.38616087e-01 -8.37886559e-01\n",
      " -8.32223709e-01 -8.29234630e-01 -8.24130772e-01 -8.17742068e-01\n",
      " -8.11854251e-01 -8.10108755e-01 -8.09892415e-01 -8.07807960e-01\n",
      " -8.06741254e-01 -8.03676126e-01 -8.01287857e-01 -7.99267064e-01\n",
      " -7.97133740e-01 -7.92371040e-01 -7.89417236e-01 -7.88682600e-01\n",
      " -7.75977953e-01 -7.74606319e-01 -7.72666744e-01 -7.71303537e-01\n",
      " -7.69661615e-01 -7.67892808e-01 -7.65980343e-01 -7.65859209e-01\n",
      " -7.61166568e-01 -7.60857945e-01 -7.59476630e-01 -7.59229080e-01\n",
      " -7.46730361e-01 -7.26194850e-01 -7.23822929e-01 -7.21994730e-01\n",
      " -7.19911478e-01 -7.15338205e-01 -7.11762943e-01 -7.11548258e-01\n",
      " -7.07836590e-01 -7.04615873e-01 -6.99999607e-01 -6.99058506e-01\n",
      " -6.94302331e-01 -6.86802199e-01 -6.86507146e-01 -6.83793357e-01\n",
      " -6.83327857e-01 -6.75585400e-01 -6.72387964e-01 -6.67586152e-01\n",
      " -6.67294941e-01 -6.66421545e-01 -6.64618743e-01 -6.60618083e-01\n",
      " -6.54516642e-01 -6.52669138e-01 -6.51522676e-01 -6.49168332e-01\n",
      " -6.44809234e-01 -6.44731403e-01 -6.37062816e-01 -6.36813560e-01\n",
      " -6.35358849e-01 -6.29886190e-01 -6.29419503e-01 -6.23308434e-01\n",
      " -6.23149143e-01 -6.17045121e-01 -6.12815128e-01 -6.07819662e-01\n",
      " -6.03127139e-01 -5.98393139e-01 -5.93636276e-01 -5.91912098e-01\n",
      " -5.91557859e-01 -5.87600461e-01 -5.84548540e-01 -5.76888302e-01\n",
      " -5.74680917e-01 -5.69334243e-01 -5.68551643e-01 -5.64745489e-01\n",
      " -5.61487579e-01 -5.60538685e-01 -5.58895202e-01 -5.57940299e-01\n",
      " -5.51218212e-01 -5.50809328e-01 -5.47322553e-01 -5.43079580e-01\n",
      " -5.42192779e-01 -5.38176348e-01 -5.31848297e-01 -5.28355034e-01\n",
      " -5.26143352e-01 -5.20649817e-01 -5.17817249e-01 -5.07264618e-01\n",
      " -5.05244668e-01 -5.03829162e-01 -5.02339061e-01 -4.99290779e-01\n",
      " -4.97579676e-01 -4.95313668e-01 -4.94733687e-01 -4.90909568e-01\n",
      " -4.90154239e-01 -4.87948263e-01 -4.82392681e-01 -4.80982329e-01\n",
      " -4.75674815e-01 -4.74721267e-01 -4.74560591e-01 -4.73893034e-01\n",
      " -4.71310818e-01 -4.65155620e-01 -4.61665194e-01 -4.61070488e-01\n",
      " -4.56652347e-01 -4.55440577e-01 -4.47465055e-01 -4.47428152e-01\n",
      " -4.45050596e-01 -4.38942971e-01 -4.38880614e-01 -4.34681198e-01\n",
      " -4.25823925e-01 -4.25678635e-01 -4.25514471e-01 -4.23444253e-01\n",
      " -4.22865718e-01 -4.22460964e-01 -4.20179194e-01 -4.19079758e-01\n",
      " -4.15197196e-01 -4.15089914e-01 -4.10976634e-01 -4.07828515e-01\n",
      " -4.06784463e-01 -4.04047607e-01 -4.03750867e-01 -4.00658514e-01\n",
      " -4.00054144e-01 -3.98232339e-01 -3.88472994e-01 -3.83221797e-01\n",
      " -3.83128977e-01 -3.82351796e-01 -3.81528423e-01 -3.78653631e-01\n",
      " -3.72035952e-01 -3.69254660e-01 -3.68977449e-01 -3.64268760e-01\n",
      " -3.64194149e-01 -3.59431635e-01 -3.56387153e-01 -3.54360801e-01\n",
      " -3.53154039e-01 -3.49348874e-01 -3.47328648e-01 -3.46821419e-01\n",
      " -3.44553546e-01 -3.42915834e-01 -3.34531029e-01 -3.32711526e-01\n",
      " -3.30580525e-01 -3.29898901e-01 -3.29349567e-01 -3.27569736e-01\n",
      " -3.26015050e-01 -3.19745419e-01 -3.19620623e-01 -3.10542812e-01\n",
      " -3.07609507e-01 -3.07319113e-01 -3.05320760e-01 -3.02872074e-01\n",
      " -2.99666845e-01 -2.91306707e-01 -2.87821909e-01 -2.87237192e-01\n",
      " -2.87220554e-01 -2.84669073e-01 -2.84527154e-01 -2.82014585e-01\n",
      " -2.79739591e-01 -2.77410565e-01 -2.76453488e-01 -2.75519581e-01\n",
      " -2.71252976e-01 -2.68551074e-01 -2.63459131e-01 -2.62643403e-01\n",
      " -2.61392674e-01 -2.59283848e-01 -2.57697959e-01 -2.55204198e-01\n",
      " -2.51960212e-01 -2.50362332e-01 -2.48276166e-01 -2.44827723e-01\n",
      " -2.42266448e-01 -2.39907727e-01 -2.39160979e-01 -2.38862274e-01\n",
      " -2.33658220e-01 -2.31488778e-01 -2.26703953e-01 -2.24522210e-01\n",
      " -2.22310762e-01 -2.21484686e-01 -2.18494714e-01 -2.11175345e-01\n",
      " -2.10272849e-01 -2.10055592e-01 -2.09257135e-01 -2.07493625e-01\n",
      " -1.98356602e-01 -1.83941841e-01 -1.82815765e-01 -1.78105781e-01\n",
      " -1.73073843e-01 -1.71042271e-01 -1.70258177e-01 -1.69077193e-01\n",
      " -1.65704594e-01 -1.64173775e-01 -1.63551221e-01 -1.63138680e-01\n",
      " -1.62330341e-01 -1.62023195e-01 -1.60769326e-01 -1.50442808e-01\n",
      " -1.50153717e-01 -1.49230789e-01 -1.48444359e-01 -1.46113384e-01\n",
      " -1.42089701e-01 -1.41399921e-01 -1.41016536e-01 -1.39913897e-01\n",
      " -1.38693410e-01 -1.35210638e-01 -1.34638433e-01 -1.33601674e-01\n",
      " -1.33543503e-01 -1.33413680e-01 -1.29462151e-01 -1.27966561e-01\n",
      " -1.27436095e-01 -1.22290159e-01 -1.18881435e-01 -1.18147730e-01\n",
      " -1.04676311e-01 -1.04039694e-01 -1.00723625e-01 -9.94406168e-02\n",
      " -9.30261389e-02 -9.10857872e-02 -8.86188474e-02 -8.27564466e-02\n",
      " -8.26599343e-02 -8.12168518e-02 -7.99320733e-02 -7.93354695e-02\n",
      " -7.89340406e-02 -7.61606586e-02 -7.47736141e-02 -7.26834808e-02\n",
      " -6.69033246e-02 -6.37173609e-02 -6.36611351e-02 -6.20770448e-02\n",
      " -5.98034714e-02 -5.74312851e-02 -5.62434702e-02 -5.62327494e-02\n",
      " -5.60620444e-02 -5.36503372e-02 -5.32189815e-02 -4.92111439e-02\n",
      " -4.82315040e-02 -4.69317494e-02 -4.52582993e-02 -4.24321952e-02\n",
      " -4.09891969e-02 -4.09404379e-02 -4.03116010e-02 -3.97037659e-02\n",
      " -3.68355018e-02 -2.85122923e-02 -2.68964943e-02 -2.67768588e-02\n",
      " -2.52319875e-02 -2.21154192e-02 -1.73344878e-02 -1.64183494e-02\n",
      " -1.49708746e-02 -1.33257011e-02 -1.21356113e-02 -9.44612613e-03\n",
      " -9.00688352e-03 -8.98601326e-03  1.83180518e-05  2.01807620e-03\n",
      "  2.34076712e-03  8.68067569e-03  9.29275455e-03  1.44645381e-02\n",
      "  1.96062817e-02  2.11021281e-02  2.24234243e-02  2.24737337e-02\n",
      "  2.34891944e-02  2.40253390e-02  3.33298158e-02  3.43642711e-02\n",
      "  4.29603254e-02  4.67254851e-02  4.70629316e-02  5.04639582e-02\n",
      "  5.44537571e-02  5.59805385e-02  5.69715896e-02  5.99359540e-02\n",
      "  6.16300076e-02  6.43449886e-02  6.62377340e-02  6.78874033e-02\n",
      "  6.96832919e-02  7.01627654e-02  7.32656059e-02  7.55756268e-02\n",
      "  8.62357607e-02  8.69855570e-02  9.04748250e-02  9.14686492e-02\n",
      "  9.20904195e-02  9.29295958e-02  9.62240082e-02  9.80187618e-02\n",
      "  9.83673097e-02  1.02120907e-01  1.06536203e-01  1.07397702e-01\n",
      "  1.12671039e-01  1.13095124e-01  1.13954177e-01  1.16069481e-01\n",
      "  1.25148001e-01  1.26343051e-01  1.31127341e-01  1.34541983e-01\n",
      "  1.39160322e-01  1.41719119e-01  1.48726554e-01  1.51153364e-01\n",
      "  1.55872250e-01  1.56693406e-01  1.63982306e-01  1.65648744e-01\n",
      "  1.66985917e-01  1.72515671e-01  1.73583700e-01  1.76300587e-01\n",
      "  1.77298594e-01  1.83604721e-01  1.84468253e-01  1.87158994e-01\n",
      "  1.88849544e-01  1.90921468e-01  2.05294928e-01  2.09257684e-01\n",
      "  2.09320654e-01  2.10536821e-01  2.11620547e-01  2.12856292e-01\n",
      "  2.14420027e-01  2.20789169e-01  2.21125579e-01  2.22781016e-01\n",
      "  2.27405945e-01  2.27654746e-01  2.28400570e-01  2.28980841e-01\n",
      "  2.29995621e-01  2.31204787e-01  2.39749621e-01  2.41367150e-01\n",
      "  2.43047219e-01  2.43632471e-01  2.48311721e-01  2.50721358e-01\n",
      "  2.53584586e-01  2.55529232e-01  2.56998558e-01  2.58470814e-01\n",
      "  2.60219925e-01  2.60596279e-01  2.62590998e-01  2.63085520e-01\n",
      "  2.70021353e-01  2.70116357e-01  2.71106724e-01  2.73105651e-01\n",
      "  2.73712284e-01  2.79946858e-01  2.86726622e-01  2.90302088e-01\n",
      "  2.92773907e-01  2.93814045e-01  2.95582024e-01  2.97192503e-01\n",
      "  2.99337587e-01  3.05095721e-01  3.05390447e-01  3.05522113e-01\n",
      "  3.07423970e-01  3.08755775e-01  3.10656753e-01  3.12265802e-01\n",
      "  3.12448530e-01  3.14546375e-01  3.15315088e-01  3.15606507e-01\n",
      "  3.16323110e-01  3.17654455e-01  3.18062731e-01  3.20713614e-01\n",
      "  3.24101291e-01  3.31365051e-01  3.33703625e-01  3.34016921e-01\n",
      "  3.34576889e-01  3.37774514e-01  3.51221064e-01  3.57984939e-01\n",
      "  3.62604917e-01  3.63322470e-01  3.64283060e-01  3.66637660e-01\n",
      "  3.66725005e-01  3.67415821e-01  3.72504889e-01  3.78006502e-01\n",
      "  3.79071562e-01  3.83123236e-01  3.85290224e-01  3.87970162e-01\n",
      "  3.88690736e-01  3.90186940e-01  3.91756832e-01  3.99933782e-01\n",
      "  4.01719202e-01  4.01850000e-01  4.04210806e-01  4.07285717e-01\n",
      "  4.07299551e-01  4.07578112e-01  4.15894340e-01  4.17125895e-01\n",
      "  4.21047195e-01  4.28801281e-01  4.31230947e-01  4.31517005e-01\n",
      "  4.33164881e-01  4.33814247e-01  4.39994060e-01  4.41709707e-01\n",
      "  4.49434926e-01  4.53497216e-01  4.55378063e-01  4.59157573e-01\n",
      "  4.62901837e-01  4.65870601e-01  4.66174905e-01  4.66533430e-01\n",
      "  4.71260830e-01  4.78727773e-01  4.88352862e-01  4.89184676e-01\n",
      "  4.97634002e-01  4.97820530e-01  4.97954377e-01  4.98745936e-01\n",
      "  5.00755363e-01  5.00841913e-01  5.03296659e-01  5.07846751e-01\n",
      "  5.07902700e-01  5.13724606e-01  5.22764979e-01  5.24285579e-01\n",
      "  5.27946603e-01  5.29262543e-01  5.29482837e-01  5.42903736e-01\n",
      "  5.46632180e-01  5.50374060e-01  5.54468549e-01  5.58512157e-01\n",
      "  5.61153072e-01  5.68403729e-01  5.72803863e-01  5.74661756e-01\n",
      "  5.75333183e-01  5.89148251e-01  5.89596977e-01  5.94442520e-01\n",
      "  5.99042111e-01  6.00770368e-01  6.04695143e-01  6.05078814e-01\n",
      "  6.16380881e-01  6.16640434e-01  6.26129368e-01  6.29590321e-01\n",
      "  6.30673347e-01  6.32828327e-01  6.33370109e-01  6.35317972e-01\n",
      "  6.51425138e-01  6.51827619e-01  6.52143857e-01  6.53788666e-01\n",
      "  6.57625770e-01  6.61008091e-01  6.65374649e-01  6.65972517e-01\n",
      "  6.66758756e-01  6.68778208e-01  6.69924349e-01  6.78952286e-01\n",
      "  6.80741534e-01  6.94903437e-01  6.95319507e-01  6.97010172e-01\n",
      "  7.07577014e-01  7.09064311e-01  7.10791702e-01  7.13318694e-01\n",
      "  7.13738976e-01  7.21958489e-01  7.25775911e-01  7.27088232e-01\n",
      "  7.27109331e-01  7.27778194e-01  7.27989899e-01  7.28135176e-01\n",
      "  7.28374039e-01  7.30550147e-01  7.38632208e-01  7.39089157e-01\n",
      "  7.42566654e-01  7.43956863e-01  7.46603753e-01  7.49887517e-01\n",
      "  7.50685989e-01  7.50810276e-01  7.55840854e-01  7.66003693e-01\n",
      "  7.69899608e-01  7.72542785e-01  7.79523448e-01  7.81708751e-01\n",
      "  7.81936694e-01  7.84725223e-01  7.90869039e-01  7.95950441e-01\n",
      "  8.00566438e-01  8.03996049e-01  8.06263008e-01  8.11272359e-01\n",
      "  8.17418983e-01  8.19199388e-01  8.20574720e-01  8.21176896e-01\n",
      "  8.29320160e-01  8.31630378e-01  8.39505589e-01  8.41588521e-01\n",
      "  8.43009612e-01  8.47036139e-01  8.49318126e-01  8.49856600e-01\n",
      "  8.50375914e-01  8.56240808e-01  8.57903102e-01  8.59523162e-01\n",
      "  8.63431632e-01  8.70650549e-01  8.72200397e-01  8.72765872e-01\n",
      "  8.75300010e-01  8.75422676e-01  8.87569111e-01  8.92164987e-01\n",
      "  9.09437609e-01  9.15498750e-01  9.23160129e-01  9.37858034e-01\n",
      "  9.48456211e-01  9.51272978e-01  9.53314117e-01  9.53969050e-01\n",
      "  9.57238976e-01  9.59307942e-01  9.60063921e-01  9.61921769e-01\n",
      "  9.62325848e-01  9.64457339e-01  9.68958333e-01  9.70308394e-01\n",
      "  9.71735390e-01  9.72064633e-01  9.80493569e-01  9.81686608e-01\n",
      "  9.82095599e-01  9.83842090e-01  9.89567427e-01  9.98320065e-01\n",
      "  1.00049886e+00  1.01078168e+00  1.01796540e+00  1.01916979e+00\n",
      "  1.02523859e+00  1.02567668e+00  1.03643841e+00  1.03724417e+00\n",
      "  1.03786896e+00  1.04792252e+00  1.04989230e+00  1.05728556e+00\n",
      "  1.05783361e+00  1.06924055e+00  1.07671721e+00  1.08072916e+00\n",
      "  1.09604594e+00  1.10155879e+00  1.10375365e+00  1.11892421e+00\n",
      "  1.11923337e+00  1.12273085e+00  1.12436779e+00  1.13685009e+00\n",
      "  1.13866317e+00  1.13973612e+00  1.14086486e+00  1.14536001e+00\n",
      "  1.14977518e+00  1.15101511e+00  1.15272948e+00  1.15986624e+00\n",
      "  1.16836857e+00  1.17079113e+00  1.18035691e+00  1.18222395e+00\n",
      "  1.18417380e+00  1.18661227e+00  1.18876675e+00  1.19598193e+00\n",
      "  1.19798839e+00  1.20168962e+00  1.20341064e+00  1.20492527e+00\n",
      "  1.21675474e+00  1.22204141e+00  1.23714537e+00  1.24778596e+00\n",
      "  1.26178591e+00  1.27084629e+00  1.27513864e+00  1.28779863e+00\n",
      "  1.29223911e+00  1.29584871e+00  1.31395121e+00  1.31422703e+00\n",
      "  1.32507197e+00  1.34077379e+00  1.35365542e+00  1.35466206e+00\n",
      "  1.35739558e+00  1.37035306e+00  1.37767620e+00  1.38211390e+00\n",
      "  1.38389466e+00  1.39447452e+00  1.39546628e+00  1.39966868e+00\n",
      "  1.40363685e+00  1.41261876e+00  1.42422060e+00  1.43158518e+00\n",
      "  1.43288960e+00  1.44691976e+00  1.45025793e+00  1.45212894e+00\n",
      "  1.45406675e+00  1.45585088e+00  1.46024030e+00  1.46571631e+00\n",
      "  1.46637010e+00  1.46860095e+00  1.46958833e+00  1.47735432e+00\n",
      "  1.48023624e+00  1.48149158e+00  1.48487550e+00  1.49830895e+00\n",
      "  1.50029832e+00  1.50580664e+00  1.51255772e+00  1.51649810e+00\n",
      "  1.52130727e+00  1.52338200e+00  1.52549309e+00  1.52837452e+00\n",
      "  1.54329352e+00  1.56148620e+00  1.56979932e+00  1.57145603e+00\n",
      "  1.57247004e+00  1.58064016e+00  1.58641935e+00  1.58803854e+00\n",
      "  1.59054414e+00  1.59930863e+00  1.60040246e+00  1.60041197e+00\n",
      "  1.60450550e+00  1.60751537e+00  1.61565791e+00  1.61793150e+00\n",
      "  1.61899036e+00  1.62400636e+00  1.63202975e+00  1.66673823e+00\n",
      "  1.67514761e+00  1.67621452e+00  1.69708265e+00  1.72243772e+00\n",
      "  1.73027173e+00  1.73882073e+00  1.74955651e+00  1.76005202e+00\n",
      "  1.76647219e+00  1.77401038e+00  1.77555766e+00  1.78209783e+00\n",
      "  1.79778688e+00  1.80190688e+00  1.80258656e+00  1.80876385e+00\n",
      "  1.81251210e+00  1.83692173e+00  1.87184777e+00  1.89780427e+00\n",
      "  1.91444750e+00  1.94697393e+00  1.94945485e+00  1.97208125e+00\n",
      "  2.00884767e+00  2.01850683e+00  2.02575181e+00  2.04518599e+00\n",
      "  2.07426581e+00  2.19742163e+00  2.23455098e+00  2.39333945e+00\n",
      "  2.55425978e+00  2.56969782e+00  2.63540288e+00  2.72793496e+00\n",
      "  2.76813667e+00  2.85238833e+00  2.92515688e+00  2.93067023e+00\n",
      "  3.08304409e+00  3.29981925e+00  3.37943566e+00  3.52186678e+00]\n"
     ]
    },
    {
     "data": {
      "text/plain": [
       "-1.6761682926129773"
      ]
     },
     "execution_count": 13,
     "metadata": {},
     "output_type": "execute_result"
    }
   ],
   "source": [
    "large_arr = np.random.randn(1000)\n",
    "large_arr.sort()\n",
    "print(large_arr)\n",
    "large_arr[int(0.05 * len(large_arr))] # sort된 놈들 중에서 5%지점에 있는 놈"
   ]
  },
  {
   "cell_type": "code",
   "execution_count": 14,
   "id": "c02b836a",
   "metadata": {},
   "outputs": [
    {
     "data": {
      "text/plain": [
       "array(['B', 'J', 'K', 'W'], dtype='<U1')"
      ]
     },
     "execution_count": 14,
     "metadata": {},
     "output_type": "execute_result"
    }
   ],
   "source": [
    "names = np.array(['B','J','W','B','W','J','K'])\n",
    "np.unique(names)# 중복을 걸러주고 정렬까지 해줌"
   ]
  },
  {
   "cell_type": "code",
   "execution_count": 21,
   "id": "fa45b8d8",
   "metadata": {},
   "outputs": [
    {
     "data": {
      "text/plain": [
       "array([0, 5])"
      ]
     },
     "execution_count": 21,
     "metadata": {},
     "output_type": "execute_result"
    }
   ],
   "source": [
    "values = np.array([6,0,0,3,2,5,6])\n",
    "np.in1d(values,[2,3,6]) # x원소중 y원소를 포함하는가 return boolean\n",
    "np.intersect1d(values,[2,3,7,6]) #교집합\n",
    "np.setdiff1d(values, [2,3,6])# 차집합 반환\n",
    "np.setxor1d(values,[2,3,6]) # xor집합"
   ]
  },
  {
   "cell_type": "code",
   "execution_count": 22,
   "id": "b841083d",
   "metadata": {},
   "outputs": [],
   "source": [
    "arr = np.arange(10)\n",
    "np.save('some_array', arr)\n"
   ]
  },
  {
   "cell_type": "code",
   "execution_count": 23,
   "id": "c369fcfe",
   "metadata": {
    "scrolled": true
   },
   "outputs": [
    {
     "data": {
      "text/plain": [
       "array([0, 1, 2, 3, 4, 5, 6, 7, 8, 9])"
      ]
     },
     "execution_count": 23,
     "metadata": {},
     "output_type": "execute_result"
    }
   ],
   "source": [
    "np.load('some_array.npy')"
   ]
  },
  {
   "cell_type": "code",
   "execution_count": 30,
   "id": "1d5df45f",
   "metadata": {},
   "outputs": [
    {
     "data": {
      "text/plain": [
       "array([[ 9, 12, 15],\n",
       "       [19, 26, 33],\n",
       "       [29, 40, 51]])"
      ]
     },
     "execution_count": 30,
     "metadata": {},
     "output_type": "execute_result"
    }
   ],
   "source": [
    "x = np.array([[1,2,3],[4,5,6]])\n",
    "y = np.array([[1,2],[3,4],[5,6]])\n",
    "x.dot(y) # 2x2 ....(1)\n",
    "y.dot(x) # 3x3 ....(2)\n",
    "x@y #(1)과 결과 같음\n",
    "np.dot(y,x)#(2)와 결과 같음"
   ]
  },
  {
   "cell_type": "code",
   "execution_count": 34,
   "id": "52ce2251",
   "metadata": {},
   "outputs": [
    {
     "name": "stdout",
     "output_type": "stream",
     "text": [
      "[[ 5.09145869  0.01774434 -1.2943967   3.64161131  3.68007991]\n",
      " [ 0.01774434  0.52687182  0.46164234  0.10825538 -0.70678836]\n",
      " [-1.2943967   0.46164234  2.72874125  0.16456016  0.68225443]\n",
      " [ 3.64161131  0.10825538  0.16456016  3.89732991  3.11709744]\n",
      " [ 3.68007991 -0.70678836  0.68225443  3.11709744  6.87838298]]\n"
     ]
    },
    {
     "data": {
      "text/plain": [
       "array([[ 1.00000000e+00,  7.20831305e-15, -6.11938300e-15,\n",
       "        -9.07744961e-16,  2.07504638e-15],\n",
       "       [-1.82605423e-15,  1.00000000e+00,  8.59080661e-16,\n",
       "        -7.64484705e-16, -5.36636834e-16],\n",
       "       [ 4.75852531e-15,  3.54486449e-15,  1.00000000e+00,\n",
       "        -2.42301760e-15, -1.20376523e-15],\n",
       "       [-4.87828294e-15,  1.62683427e-14, -4.26650363e-15,\n",
       "         1.00000000e+00,  4.33933183e-15],\n",
       "       [-9.72240767e-16, -1.08100731e-14,  3.35004928e-15,\n",
       "        -1.63976518e-15,  1.00000000e+00]])"
      ]
     },
     "execution_count": 34,
     "metadata": {},
     "output_type": "execute_result"
    }
   ],
   "source": [
    "from numpy.linalg import inv, qr\n",
    "X = np.random.randn(5,5)\n",
    "mat = X.T.dot(X)\n",
    "print(mat)\n",
    "inv_mat = inv(mat) #inverse\n",
    "mat @ inv_mat"
   ]
  },
  {
   "cell_type": "code",
   "execution_count": 36,
   "id": "8cdbb92c",
   "metadata": {
    "scrolled": true
   },
   "outputs": [
    {
     "data": {
      "text/plain": [
       "array([[ 0.0454474 ,  0.03547101, -0.17203915, -0.24047979],\n",
       "       [ 1.6492952 , -0.74413421,  0.30368312, -0.28324847],\n",
       "       [-1.0853257 ,  0.85529494,  1.25255306, -2.57438804],\n",
       "       [-0.78926837, -0.51454405,  2.33520473, -0.21171166]])"
      ]
     },
     "execution_count": 36,
     "metadata": {},
     "output_type": "execute_result"
    }
   ],
   "source": [
    "samples = np.random.normal(size = (4,4)) #평균하고 표준편차 지정가능\n",
    "samples"
   ]
  },
  {
   "cell_type": "code",
   "execution_count": 53,
   "id": "0a4d6274",
   "metadata": {},
   "outputs": [
    {
     "name": "stdout",
     "output_type": "stream",
     "text": [
      "[[-2 -1  0  2 -4]\n",
      " [-3 -4  2  3 -3]\n",
      " [-4 -4  4 -1 -5]\n",
      " [-1  4 -1  1  2]\n",
      " [ 0 -5 -3 -4  0]]\n"
     ]
    },
    {
     "data": {
      "text/plain": [
       "'\\n1.정규분포 - randn, normal\\nrandn은 평균 - 0 ,std - 1로 지정 normal은 변경가능(default는  randn같다)\\n2.균등분포 - uniform, rand\\nuniform (0,1)균등분포 rand는 변경가능(default는 unifor과 같다)\\n\\n'"
      ]
     },
     "execution_count": 53,
     "metadata": {},
     "output_type": "execute_result"
    }
   ],
   "source": [
    "print(np.random.randint(-5,5,size = (5,5))) #int랜덤 생성\n",
    "'''\n",
    "1.정규분포 - randn, normal\n",
    "randn은 평균 - 0 ,std - 1로 지정 normal은 변경가능(default는  randn같다)\n",
    "2.균등분포 - uniform, rand\n",
    "uniform (0,1)균등분포 rand는 변경가능(default는 unifor과 같다)\n",
    "\n",
    "'''"
   ]
  },
  {
   "cell_type": "code",
   "execution_count": 3,
   "id": "e84f7de9",
   "metadata": {},
   "outputs": [
    {
     "data": {
      "text/plain": [
       "[<matplotlib.lines.Line2D at 0x23dc4dd1190>]"
      ]
     },
     "execution_count": 3,
     "metadata": {},
     "output_type": "execute_result"
    },
    {
     "data": {
      "image/png": "[encoded data removed]",
      "text/plain": [
       "<Figure size 432x288 with 1 Axes>"
      ]
     },
     "metadata": {
      "needs_background": "light"
     },
     "output_type": "display_data"
    }
   ],
   "source": [
    "import random\n",
    "import matplotlib.pyplot as plt\n",
    "position = 0\n",
    "walk = [position]\n",
    "steps = 1000\n",
    "for i in range(steps):\n",
    "    step = 1 if random.randint(0,1) else -1\n",
    "    position += step\n",
    "    walk.append(position)\n",
    "plt.figure\n",
    "plt.plot(walk[:100])"
   ]
  },
  {
   "cell_type": "code",
   "execution_count": 4,
   "id": "1d0ac932",
   "metadata": {},
   "outputs": [
    {
     "data": {
      "text/plain": [
       "83"
      ]
     },
     "execution_count": 4,
     "metadata": {},
     "output_type": "execute_result"
    },
    {
     "data": {
      "image/png": "[encoded data removed]",
      "text/plain": [
       "<Figure size 432x288 with 1 Axes>"
      ]
     },
     "metadata": {
      "needs_background": "light"
     },
     "output_type": "display_data"
    }
   ],
   "source": [
    "\n",
    "nsteps = 1000\n",
    "draws = np.random.randint(0,2,size=nsteps)\n",
    "steps = np.where(draws>0,1,-1)\n",
    "walk = steps.cumsum()\n",
    "plt.plot(list(walk)[100:])\n",
    "np.abs(walk>=10).argmax() #10칸 이상 떨어지게되는 값의 index처음값\n"
   ]
  },
  {
   "cell_type": "code",
   "execution_count": 5,
   "id": "f461d975",
   "metadata": {},
   "outputs": [
    {
     "data": {
      "text/plain": [
       "array([[  1,   2,   1, ..., -24, -23, -22],\n",
       "       [  1,   2,   3, ...,  -2,  -1,  -2],\n",
       "       [ -1,  -2,  -1, ..., -16, -15, -16],\n",
       "       ...,\n",
       "       [  1,   0,   1, ..., -26, -27, -26],\n",
       "       [  1,   2,   1, ...,  34,  33,  34],\n",
       "       [ -1,  -2,  -3, ..., -44, -43, -44]], dtype=int32)"
      ]
     },
     "execution_count": 5,
     "metadata": {},
     "output_type": "execute_result"
    }
   ],
   "source": [
    "nwalks = 5000\n",
    "nsteps = 1000\n",
    "draws = np.random.randint(0, 2, size = (nwalks,nsteps))\n",
    "steps = np.where(draws>0,1, -1)\n",
    "walks = steps.cumsum(axis = 1)\n",
    "walks"
   ]
  },
  {
   "cell_type": "code",
   "execution_count": 7,
   "id": "48300ee3",
   "metadata": {},
   "outputs": [
    {
     "data": {
      "text/plain": [
       "-110"
      ]
     },
     "execution_count": 7,
     "metadata": {},
     "output_type": "execute_result"
    }
   ],
   "source": [
    "walks.max()\n",
    "walks.min()"
   ]
  }
 ],
 "metadata": {
  "kernelspec": {
   "display_name": "Python 3",
   "language": "python",
   "name": "python3"
  },
  "language_info": {
   "codemirror_mode": {
    "name": "ipython",
    "version": 3
   },
   "file_extension": ".py",
   "mimetype": "text/x-python",
   "name": "python",
   "nbconvert_exporter": "python",
   "pygments_lexer": "ipython3",
   "version": "3.8.10"
  }
 },
 "nbformat": 4,
 "nbformat_minor": 5
}
