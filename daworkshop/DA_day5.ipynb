{
 "cells": [
  {
   "cell_type": "markdown",
   "id": "dea42a92",
   "metadata": {},
   "source": [
    "# 데이터 분석 5일차"
   ]
  },
  {
   "cell_type": "code",
   "execution_count": null,
   "id": "4f3e91ef",
   "metadata": {},
   "outputs": [],
   "source": []
  },
  {
   "cell_type": "code",
   "execution_count": 138,
   "id": "85dd071e",
   "metadata": {},
   "outputs": [],
   "source": [
    "# 미니배치 크기만큼 데이터를 반환하는 제너레이터\n",
    "#1. batch_size가 변경되어도 동작하도록\n",
    "#2. random 인수가 true일때는 임의의 데이터를 반환하도록\n",
    "import random\n",
    "\n",
    "\n",
    "\n",
    "def mbGen(data, batch_size, randomOption=False):\n",
    "    randInd = [random.randint(0,len(data)-1) for i in range(0,len(data))]\n",
    "    chunksize = len(data)//batch_size\n",
    "    if len(data) % batch_size != 0:\n",
    "        chunksize+=1\n",
    "    for i in range(chunksize):\n",
    "        if randomOption:\n",
    "            yield [data[j] for j in randInd[i*batch_size : (i+1)*batch_size]]\n",
    "        else: yield randInt[i*batchsize : (i+1)*batch_size]\n",
    " "
   ]
  },
  {
   "cell_type": "code",
   "execution_count": 140,
   "id": "705be952",
   "metadata": {},
   "outputs": [
    {
     "name": "stdout",
     "output_type": "stream",
     "text": [
      "[['16.99', '1.01', 'Female', 'No', 'Sun', 'Dinner', '2'], ['8.77', '2.0', 'Male', 'No', 'Sun', 'Dinner', '2'], ['10.34', '1.66', 'Male', 'No', 'Sun', 'Dinner', '3'], ['10.34', '1.66', 'Male', 'No', 'Sun', 'Dinner', '3'], ['16.99', '1.01', 'Female', 'No', 'Sun', 'Dinner', '2'], ['23.68', '3.31', 'Male', 'No', 'Sun', 'Dinner', '2'], ['16.99', '1.01', 'Female', 'No', 'Sun', 'Dinner', '2'], ['21.01', '3.5', 'Male', 'No', 'Sun', 'Dinner', '3'], ['24.59', '3.61', 'Female', 'No', 'Sun', 'Dinner', '4']]\n"
     ]
    }
   ],
   "source": [
    "fo = open('tips.csv')\n",
    "data = [line.strip().split(',') for line in fo.readlines()[1:10]]\n",
    "\n",
    "for dset in mbGen(data, 40,randomOption = True):\n",
    "    print(dset)\n",
    "\n",
    "        \n",
    "    "
   ]
  },
  {
   "cell_type": "markdown",
   "id": "d5b61f47",
   "metadata": {},
   "source": [
    "# 모듈"
   ]
  },
  {
   "cell_type": "code",
   "execution_count": 141,
   "id": "5e7e95b8",
   "metadata": {},
   "outputs": [
    {
     "data": {
      "text/plain": [
       "['C:\\\\Users\\\\korea\\\\daworkshop',\n",
       " 'C:\\\\Users\\\\korea\\\\anaconda3\\\\python38.zip',\n",
       " 'C:\\\\Users\\\\korea\\\\anaconda3\\\\DLLs',\n",
       " 'C:\\\\Users\\\\korea\\\\anaconda3\\\\lib',\n",
       " 'C:\\\\Users\\\\korea\\\\anaconda3',\n",
       " '',\n",
       " 'C:\\\\Users\\\\korea\\\\anaconda3\\\\lib\\\\site-packages',\n",
       " 'C:\\\\Users\\\\korea\\\\anaconda3\\\\lib\\\\site-packages\\\\locket-0.2.1-py3.8.egg',\n",
       " 'C:\\\\Users\\\\korea\\\\anaconda3\\\\lib\\\\site-packages\\\\win32',\n",
       " 'C:\\\\Users\\\\korea\\\\anaconda3\\\\lib\\\\site-packages\\\\win32\\\\lib',\n",
       " 'C:\\\\Users\\\\korea\\\\anaconda3\\\\lib\\\\site-packages\\\\Pythonwin',\n",
       " 'C:\\\\Users\\\\korea\\\\anaconda3\\\\lib\\\\site-packages\\\\IPython\\\\extensions',\n",
       " 'C:\\\\Users\\\\korea\\\\.ipython']"
      ]
     },
     "execution_count": 141,
     "metadata": {},
     "output_type": "execute_result"
    }
   ],
   "source": [
    "import sys\n",
    "sys.path"
   ]
  },
  {
   "cell_type": "code",
   "execution_count": 149,
   "id": "46610479",
   "metadata": {},
   "outputs": [],
   "source": [
    "import my"
   ]
  },
  {
   "cell_type": "code",
   "execution_count": 143,
   "id": "6c8f69f2",
   "metadata": {},
   "outputs": [
    {
     "name": "stdout",
     "output_type": "stream",
     "text": [
      "3.141592\n"
     ]
    }
   ],
   "source": [
    "print(my.pi)"
   ]
  },
  {
   "cell_type": "code",
   "execution_count": 154,
   "id": "f52128c6",
   "metadata": {},
   "outputs": [
    {
     "name": "stdout",
     "output_type": "stream",
     "text": [
      "778.5397999999999\n"
     ]
    }
   ],
   "source": [
    "print(my.area(5))"
   ]
  },
  {
   "cell_type": "code",
   "execution_count": 145,
   "id": "ee42f168",
   "metadata": {},
   "outputs": [
    {
     "name": "stdout",
     "output_type": "stream",
     "text": [
      "31.41592\n"
     ]
    }
   ],
   "source": [
    "print(my._pi10)"
   ]
  },
  {
   "cell_type": "code",
   "execution_count": 153,
   "id": "57558f88",
   "metadata": {
    "scrolled": true
   },
   "outputs": [
    {
     "data": {
      "text/plain": [
       "<module 'my' from 'C:\\\\Users\\\\korea\\\\daworkshop\\\\my.py'>"
      ]
     },
     "execution_count": 153,
     "metadata": {},
     "output_type": "execute_result"
    }
   ],
   "source": [
    "from imp import reload\n",
    "reload(my)"
   ]
  },
  {
   "cell_type": "markdown",
   "id": "0ea4b0b8",
   "metadata": {},
   "source": [
    "## 파일다루기"
   ]
  },
  {
   "cell_type": "code",
   "execution_count": 155,
   "id": "47cc842d",
   "metadata": {
    "scrolled": true
   },
   "outputs": [
    {
     "data": {
      "text/plain": [
       "'total_bill,tip,sex,smoker,day,time,size\\n16.99,1.01,Female,No,Sun,Dinner,2\\n10.34,1.66,Male,No,Sun,Dinner,3\\n21.01,3.5,Male,No,Sun,Dinner,3\\n23.68,3.31,Male,No,Sun,Dinner,2\\n24.59,3.61,Female,No,Sun,Dinner,4\\n25.29,4.71,Male,No,Sun,Dinner,4\\n8.77,2.0,Male,No,Sun,Dinner,2\\n26.88,3.12,Male,No,Sun,Dinner,4\\n15.04,1.96,Male,No,Sun,Dinner,2\\n14.78,3.23,Male,No,Sun,Dinner,2\\n10.27,1.71,Male,No,Sun,Dinner,2\\n35.26,5.0,Female,No,Sun,Dinner,4\\n15.42,1.57,Male,No,Sun,Dinner,2\\n18.43,3.0,Male,No,Sun,Dinner,4\\n14.83,3.02,Female,No,Sun,Dinner,2\\n21.58,3.92,Male,No,Sun,Dinner,2\\n10.33,1.67,Female,No,Sun,Dinner,3\\n16.29,3.71,Male,No,Sun,Dinner,3\\n16.97,3.5,Female,No,Sun,Dinner,3\\n20.65,3.35,Male,No,Sat,Dinner,3\\n17.92,4.08,Male,No,Sat,Dinner,2\\n20.29,2.75,Female,No,Sat,Dinner,2\\n15.77,2.23,Female,No,Sat,Dinner,2\\n39.42,7.58,Male,No,Sat,Dinner,4\\n19.82,3.18,Male,No,Sat,Dinner,2\\n17.81,2.34,Male,No,Sat,Dinner,4\\n13.37,2.0,Male,No,Sat,Dinner,2\\n12.69,2.0,Male,No,Sat,Dinner,2\\n21.7,4.3,Male,No,Sat,Dinner,2\\n19.65,3.0,Female,No,Sat,Dinner,2\\n9.55,1.45,Male,No,Sat,Dinner,2\\n18.35,2.5,Male,No,Sat,Dinner,4\\n15.06,3.0,Female,No,Sat,Dinner,2\\n20.69,2.45,Female,No,Sat,Dinner,4\\n17.78,3.27,Male,No,Sat,Dinner,2\\n24.06,3.6,Male,No,Sat,Dinner,3\\n16.31,2.0,Male,No,Sat,Dinner,3\\n16.93,3.07,Female,No,Sat,Dinner,3\\n18.69,2.31,Male,No,Sat,Dinner,3\\n31.27,5.0,Male,No,Sat,Dinner,3\\n16.04,2.24,Male,No,Sat,Dinner,3\\n17.46,2.54,Male,No,Sun,Dinner,2\\n13.94,3.06,Male,No,Sun,Dinner,2\\n9.68,1.32,Male,No,Sun,Dinner,2\\n30.4,5.6,Male,No,Sun,Dinner,4\\n18.29,3.0,Male,No,Sun,Dinner,2\\n22.23,5.0,Male,No,Sun,Dinner,2\\n32.4,6.0,Male,No,Sun,Dinner,4\\n28.55,2.05,Male,No,Sun,Dinner,3\\n18.04,3.0,Male,No,Sun,Dinner,2\\n12.54,2.5,Male,No,Sun,Dinner,2\\n10.29,2.6,Female,No,Sun,Dinner,2\\n34.81,5.2,Female,No,Sun,Dinner,4\\n9.94,1.56,Male,No,Sun,Dinner,2\\n25.56,4.34,Male,No,Sun,Dinner,4\\n19.49,3.51,Male,No,Sun,Dinner,2\\n38.01,3.0,Male,Yes,Sat,Dinner,4\\n26.41,1.5,Female,No,Sat,Dinner,2\\n11.24,1.76,Male,Yes,Sat,Dinner,2\\n48.27,6.73,Male,No,Sat,Dinner,4\\n20.29,3.21,Male,Yes,Sat,Dinner,2\\n13.81,2.0,Male,Yes,Sat,Dinner,2\\n11.02,1.98,Male,Yes,Sat,Dinner,2\\n18.29,3.76,Male,Yes,Sat,Dinner,4\\n17.59,2.64,Male,No,Sat,Dinner,3\\n20.08,3.15,Male,No,Sat,Dinner,3\\n16.45,2.47,Female,No,Sat,Dinner,2\\n3.07,1.0,Female,Yes,Sat,Dinner,1\\n20.23,2.01,Male,No,Sat,Dinner,2\\n15.01,2.09,Male,Yes,Sat,Dinner,2\\n12.02,1.97,Male,No,Sat,Dinner,2\\n17.07,3.0,Female,No,Sat,Dinner,3\\n26.86,3.14,Female,Yes,Sat,Dinner,2\\n25.28,5.0,Female,Yes,Sat,Dinner,2\\n14.73,2.2,Female,No,Sat,Dinner,2\\n10.51,1.25,Male,No,Sat,Dinner,2\\n17.92,3.08,Male,Yes,Sat,Dinner,2\\n27.2,4.0,Male,No,Thur,Lunch,4\\n22.76,3.0,Male,No,Thur,Lunch,2\\n17.29,2.71,Male,No,Thur,Lunch,2\\n19.44,3.0,Male,Yes,Thur,Lunch,2\\n16.66,3.4,Male,No,Thur,Lunch,2\\n10.07,1.83,Female,No,Thur,Lunch,1\\n32.68,5.0,Male,Yes,Thur,Lunch,2\\n15.98,2.03,Male,No,Thur,Lunch,2\\n34.83,5.17,Female,No,Thur,Lunch,4\\n13.03,2.0,Male,No,Thur,Lunch,2\\n18.28,4.0,Male,No,Thur,Lunch,2\\n24.71,5.85,Male,No,Thur,Lunch,2\\n21.16,3.0,Male,No,Thur,Lunch,2\\n28.97,3.0,Male,Yes,Fri,Dinner,2\\n22.49,3.5,Male,No,Fri,Dinner,2\\n5.75,1.0,Female,Yes,Fri,Dinner,2\\n16.32,4.3,Female,Yes,Fri,Dinner,2\\n22.75,3.25,Female,No,Fri,Dinner,2\\n40.17,4.73,Male,Yes,Fri,Dinner,4\\n27.28,4.0,Male,Yes,Fri,Dinner,2\\n12.03,1.5,Male,Yes,Fri,Dinner,2\\n21.01,3.0,Male,Yes,Fri,Dinner,2\\n12.46,1.5,Male,No,Fri,Dinner,2\\n11.35,2.5,Female,Yes,Fri,Dinner,2\\n15.38,3.0,Female,Yes,Fri,Dinner,2\\n44.3,2.5,Female,Yes,Sat,Dinner,3\\n22.42,3.48,Female,Yes,Sat,Dinner,2\\n20.92,4.08,Female,No,Sat,Dinner,2\\n15.36,1.64,Male,Yes,Sat,Dinner,2\\n20.49,4.06,Male,Yes,Sat,Dinner,2\\n25.21,4.29,Male,Yes,Sat,Dinner,2\\n18.24,3.76,Male,No,Sat,Dinner,2\\n14.31,4.0,Female,Yes,Sat,Dinner,2\\n14.0,3.0,Male,No,Sat,Dinner,2\\n7.25,1.0,Female,No,Sat,Dinner,1\\n38.07,4.0,Male,No,Sun,Dinner,3\\n23.95,2.55,Male,No,Sun,Dinner,2\\n25.71,4.0,Female,No,Sun,Dinner,3\\n17.31,3.5,Female,No,Sun,Dinner,2\\n29.93,5.07,Male,No,Sun,Dinner,4\\n10.65,1.5,Female,No,Thur,Lunch,2\\n12.43,1.8,Female,No,Thur,Lunch,2\\n24.08,2.92,Female,No,Thur,Lunch,4\\n11.69,2.31,Male,No,Thur,Lunch,2\\n13.42,1.68,Female,No,Thur,Lunch,2\\n14.26,2.5,Male,No,Thur,Lunch,2\\n15.95,2.0,Male,No,Thur,Lunch,2\\n12.48,2.52,Female,No,Thur,Lunch,2\\n29.8,4.2,Female,No,Thur,Lunch,6\\n8.52,1.48,Male,No,Thur,Lunch,2\\n14.52,2.0,Female,No,Thur,Lunch,2\\n11.38,2.0,Female,No,Thur,Lunch,2\\n22.82,2.18,Male,No,Thur,Lunch,3\\n19.08,1.5,Male,No,Thur,Lunch,2\\n20.27,2.83,Female,No,Thur,Lunch,2\\n11.17,1.5,Female,No,Thur,Lunch,2\\n12.26,2.0,Female,No,Thur,Lunch,2\\n18.26,3.25,Female,No,Thur,Lunch,2\\n8.51,1.25,Female,No,Thur,Lunch,2\\n10.33,2.0,Female,No,Thur,Lunch,2\\n14.15,2.0,Female,No,Thur,Lunch,2\\n16.0,2.0,Male,Yes,Thur,Lunch,2\\n13.16,2.75,Female,No,Thur,Lunch,2\\n17.47,3.5,Female,No,Thur,Lunch,2\\n34.3,6.7,Male,No,Thur,Lunch,6\\n41.19,5.0,Male,No,Thur,Lunch,5\\n27.05,5.0,Female,No,Thur,Lunch,6\\n16.43,2.3,Female,No,Thur,Lunch,2\\n8.35,1.5,Female,No,Thur,Lunch,2\\n18.64,1.36,Female,No,Thur,Lunch,3\\n11.87,1.63,Female,No,Thur,Lunch,2\\n9.78,1.73,Male,No,Thur,Lunch,2\\n7.51,2.0,Male,No,Thur,Lunch,2\\n14.07,2.5,Male,No,Sun,Dinner,2\\n13.13,2.0,Male,No,Sun,Dinner,2\\n17.26,2.74,Male,No,Sun,Dinner,3\\n24.55,2.0,Male,No,Sun,Dinner,4\\n19.77,2.0,Male,No,Sun,Dinner,4\\n29.85,5.14,Female,No,Sun,Dinner,5\\n48.17,5.0,Male,No,Sun,Dinner,6\\n25.0,3.75,Female,No,Sun,Dinner,4\\n13.39,2.61,Female,No,Sun,Dinner,2\\n16.49,2.0,Male,No,Sun,Dinner,4\\n21.5,3.5,Male,No,Sun,Dinner,4\\n12.66,2.5,Male,No,Sun,Dinner,2\\n16.21,2.0,Female,No,Sun,Dinner,3\\n13.81,2.0,Male,No,Sun,Dinner,2\\n17.51,3.0,Female,Yes,Sun,Dinner,2\\n24.52,3.48,Male,No,Sun,Dinner,3\\n20.76,2.24,Male,No,Sun,Dinner,2\\n31.71,4.5,Male,No,Sun,Dinner,4\\n10.59,1.61,Female,Yes,Sat,Dinner,2\\n10.63,2.0,Female,Yes,Sat,Dinner,2\\n50.81,10.0,Male,Yes,Sat,Dinner,3\\n15.81,3.16,Male,Yes,Sat,Dinner,2\\n7.25,5.15,Male,Yes,Sun,Dinner,2\\n31.85,3.18,Male,Yes,Sun,Dinner,2\\n16.82,4.0,Male,Yes,Sun,Dinner,2\\n32.9,3.11,Male,Yes,Sun,Dinner,2\\n17.89,2.0,Male,Yes,Sun,Dinner,2\\n14.48,2.0,Male,Yes,Sun,Dinner,2\\n9.6,4.0,Female,Yes,Sun,Dinner,2\\n34.63,3.55,Male,Yes,Sun,Dinner,2\\n34.65,3.68,Male,Yes,Sun,Dinner,4\\n23.33,5.65,Male,Yes,Sun,Dinner,2\\n45.35,3.5,Male,Yes,Sun,Dinner,3\\n23.17,6.5,Male,Yes,Sun,Dinner,4\\n40.55,3.0,Male,Yes,Sun,Dinner,2\\n20.69,5.0,Male,No,Sun,Dinner,5\\n20.9,3.5,Female,Yes,Sun,Dinner,3\\n30.46,2.0,Male,Yes,Sun,Dinner,5\\n18.15,3.5,Female,Yes,Sun,Dinner,3\\n23.1,4.0,Male,Yes,Sun,Dinner,3\\n15.69,1.5,Male,Yes,Sun,Dinner,2\\n19.81,4.19,Female,Yes,Thur,Lunch,2\\n28.44,2.56,Male,Yes,Thur,Lunch,2\\n15.48,2.02,Male,Yes,Thur,Lunch,2\\n16.58,4.0,Male,Yes,Thur,Lunch,2\\n7.56,1.44,Male,No,Thur,Lunch,2\\n10.34,2.0,Male,Yes,Thur,Lunch,2\\n43.11,5.0,Female,Yes,Thur,Lunch,4\\n13.0,2.0,Female,Yes,Thur,Lunch,2\\n13.51,2.0,Male,Yes,Thur,Lunch,2\\n18.71,4.0,Male,Yes,Thur,Lunch,3\\n12.74,2.01,Female,Yes,Thur,Lunch,2\\n13.0,2.0,Female,Yes,Thur,Lunch,2\\n16.4,2.5,Female,Yes,Thur,Lunch,2\\n20.53,4.0,Male,Yes,Thur,Lunch,4\\n16.47,3.23,Female,Yes,Thur,Lunch,3\\n26.59,3.41,Male,Yes,Sat,Dinner,3\\n38.73,3.0,Male,Yes,Sat,Dinner,4\\n24.27,2.03,Male,Yes,Sat,Dinner,2\\n12.76,2.23,Female,Yes,Sat,Dinner,2\\n30.06,2.0,Male,Yes,Sat,Dinner,3\\n25.89,5.16,Male,Yes,Sat,Dinner,4\\n48.33,9.0,Male,No,Sat,Dinner,4\\n13.27,2.5,Female,Yes,Sat,Dinner,2\\n28.17,6.5,Female,Yes,Sat,Dinner,3\\n12.9,1.1,Female,Yes,Sat,Dinner,2\\n28.15,3.0,Male,Yes,Sat,Dinner,5\\n11.59,1.5,Male,Yes,Sat,Dinner,2\\n7.74,1.44,Male,Yes,Sat,Dinner,2\\n30.14,3.09,Female,Yes,Sat,Dinner,4\\n12.16,2.2,Male,Yes,Fri,Lunch,2\\n13.42,3.48,Female,Yes,Fri,Lunch,2\\n8.58,1.92,Male,Yes,Fri,Lunch,1\\n15.98,3.0,Female,No,Fri,Lunch,3\\n13.42,1.58,Male,Yes,Fri,Lunch,2\\n16.27,2.5,Female,Yes,Fri,Lunch,2\\n10.09,2.0,Female,Yes,Fri,Lunch,2\\n20.45,3.0,Male,No,Sat,Dinner,4\\n13.28,2.72,Male,No,Sat,Dinner,2\\n22.12,2.88,Female,Yes,Sat,Dinner,2\\n24.01,2.0,Male,Yes,Sat,Dinner,4\\n15.69,3.0,Male,Yes,Sat,Dinner,3\\n11.61,3.39,Male,No,Sat,Dinner,2\\n10.77,1.47,Male,No,Sat,Dinner,2\\n15.53,3.0,Male,Yes,Sat,Dinner,2\\n10.07,1.25,Male,No,Sat,Dinner,2\\n12.6,1.0,Male,Yes,Sat,Dinner,2\\n32.83,1.17,Male,Yes,Sat,Dinner,2\\n35.83,4.67,Female,No,Sat,Dinner,3\\n29.03,5.92,Male,No,Sat,Dinner,3\\n27.18,2.0,Female,Yes,Sat,Dinner,2\\n22.67,2.0,Male,Yes,Sat,Dinner,2\\n17.82,1.75,Male,No,Sat,Dinner,2\\n18.78,3.0,Female,No,Thur,Dinner,2\\n'"
      ]
     },
     "execution_count": 155,
     "metadata": {},
     "output_type": "execute_result"
    }
   ],
   "source": [
    "#읽는 작업\n",
    "with open('tips.csv') as fi:\n",
    "    s = fi.read()\n",
    "s    "
   ]
  },
  {
   "cell_type": "code",
   "execution_count": 156,
   "id": "7c9147c0",
   "metadata": {},
   "outputs": [],
   "source": [
    "#쓰는 작업\n",
    "with open('out.csv','w') as fo:\n",
    "    fo.write('hi_python')"
   ]
  },
  {
   "cell_type": "code",
   "execution_count": 157,
   "id": "c0ad6bb8",
   "metadata": {},
   "outputs": [],
   "source": [
    "#덧붙이는 작업\n",
    "with open('out.csv','a') as fo:\n",
    "    fo.write('h1\\n python')"
   ]
  },
  {
   "cell_type": "markdown",
   "id": "c3960fd1",
   "metadata": {},
   "source": [
    "## 이진파일로 쓰기 읽기"
   ]
  },
  {
   "cell_type": "code",
   "execution_count": 164,
   "id": "79cc632f",
   "metadata": {},
   "outputs": [
    {
     "name": "stdout",
     "output_type": "stream",
     "text": [
      "{'a': 10, 'b': 20}\n"
     ]
    }
   ],
   "source": [
    "import pickle\n",
    "data ={'a':10, 'b':20} \n",
    "#텍스트 파일로 저장\n",
    "\n",
    "with open('file2.pickle', 'wb') as f:\n",
    "    pickle.dump(data,f,pickle.HIGHEST_PROTOCOL)\n",
    "    \n",
    "with open('file2.pickle', 'rb') as f:\n",
    "    d = pickle.load(f)\n",
    "print(d)    "
   ]
  },
  {
   "cell_type": "code",
   "execution_count": 193,
   "id": "e3da8c2b",
   "metadata": {
    "scrolled": true
   },
   "outputs": [
    {
     "name": "stdout",
     "output_type": "stream",
     "text": [
      "[('freedom', 19), ('I', 15), ('Negro', 13), ('And', 12), ('We', 10), ('day', 10), ('Let', 9), ('dream', 9), ('ring', 9), ('able', 8), ('nation', 7), ('white', 6), ('satisfied', 6), ('This', 5), ('America', 5), ('time', 5), ('together,', 5), ('It', 4), ('But', 4), ('hundred', 4), ('later,', 4), ('black', 4), ('Now', 4), ('join', 3), ('stand', 3), ('today,', 3), ('One', 3), ('American', 3), (\"we've\", 3), ('words', 3), ('men,', 3), ('justice', 3), ('justice.', 3), ('rise', 3), ('valley', 3), ('brotherhood.', 3), (\"God's\", 3), ('sweltering', 3), ('children', 3), ('New', 3), ('--', 3), ('little', 3), ('With', 3), ('faith,', 3), ('last!', 3), ('am', 2), ('history', 2), ('nation.', 2), ('hope', 2), ('slaves', 2), ('segregation', 2), ('In', 2), ('cash', 2), ('promissory', 2), ('note', 2), ('color', 2), ('check,', 2), ('check', 2), ('refuse', 2), ('believe', 2), ('urgency', 2), ('racial', 2), ('content', 2), ('The', 2), ('people,', 2), ('struggle', 2), ('dignity', 2), ('allow', 2), ('creative', 2), ('physical', 2), ('realize', 2), ('police', 2), ('brutality.', 2), ('mighty', 2), ('jail', 2), ('quest', 2), ('faith', 2), ('Mississippi,', 2), ('Alabama,', 2), ('South', 2), ('Georgia,', 2), ('knowing', 2), ('dream.', 2), ('live', 2), ('sons', 2), ('former', 2), ('heat', 2), ('today!', 2), ('boys', 2), ('girls', 2), ('hands', 2), ('hill', 2), ('mountain', 2), ('free', 2), ('sing', 2), ('land', 2), ('From', 2), ('mountainside,', 2), ('Mountain', 2), ('Free', 2), ('happy', 1), ('demonstration', 1), ('Five', 1), ('score', 1), ('ago,', 1), ('American,', 1), ('symbolic', 1), ('shadow', 1), ('signed', 1), ('Emancipation', 1), ('Proclamation.', 1), ('momentous', 1), ('decree', 1), ('beacon', 1), ('light', 1), ('millions', 1), ('seared', 1), ('flames', 1), ('withering', 1), ('injustice.', 1), ('joyous', 1), ('daybreak', 1), ('night', 1), ('captivity.', 1), ('free.', 1), ('life', 1), ('sadly', 1), ('crippled', 1), ('manacles', 1), ('chains', 1), ('discrimination.', 1), ('lives', 1), ('lonely', 1), ('island', 1), ('poverty', 1), ('midst', 1), ('vast', 1), ('ocean', 1), ('material', 1), ('prosperity.', 1), ('languished', 1), ('corners', 1), ('society', 1), ('exile', 1), ('own', 1), ('land.', 1), ('dramatize', 1), ('shameful', 1), ('condition.', 1), ('sense', 1), (\"nation's\", 1), ('capital', 1), ('check.', 1), ('When', 1), ('architects', 1), ('republic', 1), ('wrote', 1), ('magnificent', 1), ('Constitution', 1), ('Declaration', 1), ('Independence,', 1), ('signing', 1), ('fall', 1), ('heir.', 1), ('promise', 1), ('yes,', 1), ('guaranteed', 1), ('\"unalienable', 1), ('Rights\"', 1), ('\"Life,', 1), ('Liberty', 1), ('pursuit', 1), ('Happiness.\"', 1), ('obvious', 1), ('defaulted', 1), ('note,', 1), ('insofar', 1), ('citizens', 1), ('concerned.', 1), ('Instead', 1), ('honoring', 1), ('sacred', 1), ('obligation,', 1), ('people', 1), ('bad', 1), ('marked', 1), ('\"insufficient', 1), ('funds.\"', 1), ('bank', 1), ('bankrupt.', 1), ('insufficient', 1), ('funds', 1), ('vaults', 1), ('opportunity', 1), ('so,', 1), ('demand', 1), ('riches', 1), ('security', 1), ('hallowed', 1), ('spot', 1), ('remind', 1), ('fierce', 1), ('Now.', 1), ('engage', 1), ('luxury', 1), ('cooling', 1), ('tranquilizing', 1), ('drug', 1), ('gradualism.', 1), ('real', 1), ('promises', 1), ('democracy.', 1), ('dark', 1), ('desolate', 1), ('sunlit', 1), ('path', 1), ('lift', 1), ('quicksands', 1), ('injustice', 1), ('solid', 1), ('rock', 1), ('reality', 1), ('children.', 1), ('fatal', 1), ('overlook', 1), ('moment.', 1), ('summer', 1), (\"Negro's\", 1), ('legitimate', 1), ('discontent', 1), ('pass', 1), ('invigorating', 1), ('autumn', 1), ('equality.', 1), ('Nineteen', 1), ('sixty-three', 1), ('end,', 1), ('beginning.', 1), ('blow', 1), ('steam', 1), ('rude', 1), ('awakening', 1), ('returns', 1), ('business', 1), ('usual.', 1), ('neither', 1), ('rest', 1), ('nor', 1), ('tranquility', 1), ('granted', 1), ('citizenship', 1), ('rights.', 1), ('whirlwinds', 1), ('revolt', 1), ('continue', 1), ('shake', 1), ('foundations', 1), ('bright', 1), ('emerges.', 1), ('warm', 1), ('threshold', 1), ('leads', 1), ('palace', 1), ('justice:', 1), ('process', 1), ('gaining', 1), ('rightful', 1), ('place,', 1), ('guilty', 1), ('wrongful', 1), ('deeds.', 1), ('seek', 1), ('satisfy', 1), ('thirst', 1), ('drinking', 1), ('cup', 1), ('bitterness', 1), ('hatred.', 1), ('forever', 1), ('conduct', 1), ('plane', 1), ('discipline.', 1), ('protest', 1), ('degenerate', 1), ('violence.', 1), ('Again', 1), ('again,', 1), ('majestic', 1), ('heights', 1), ('meeting', 1), ('force', 1), ('soul', 1), ('force.', 1), ('marvelous', 1), ('militancy', 1), ('engulfed', 1), ('community', 1), ('lead', 1), ('distrust', 1), ('brothers,', 1), ('evidenced', 1), ('presence', 1), ('destiny', 1), ('tied', 1), ('destiny.', 1), ('inextricably', 1), ('bound', 1), ('freedom.', 1), ('walk', 1), ('alone.', 1), ('walk,', 1), ('pledge', 1), ('march', 1), ('ahead.', 1), ('back.', 1), ('There', 1), ('devotees', 1), ('civil', 1), ('rights,', 1), ('\"When', 1), ('satisfied?\"', 1), ('victim', 1), ('unspeakable', 1), ('horrors', 1), ('bodies,', 1), ('heavy', 1), ('fatigue', 1), ('travel,', 1), ('gain', 1), ('lodging', 1), ('motels', 1), ('highways', 1), ('hotels', 1), ('cities.', 1), ('*We', 1), (\"negro's\", 1), ('basic', 1), ('mobility', 1), ('ghetto', 1), ('larger', 1), ('one.', 1), ('stripped', 1), ('self-hood', 1), ('robbed', 1), ('signs', 1), ('stating:', 1), ('\"For', 1), ('Whites', 1), ('Only.\"*', 1), ('Mississippi', 1), ('vote', 1), ('York', 1), ('believes', 1), ('vote.', 1), ('No,', 1), ('no,', 1), ('satisfied,', 1), ('\"justice', 1), ('rolls', 1), ('waters,', 1), ('righteousness', 1), ('stream.\"1', 1), ('unmindful', 1), ('trials', 1), ('tribulations.', 1), ('Some', 1), ('fresh', 1), ('narrow', 1), ('cells.', 1), ('left', 1), ('battered', 1), ('storms', 1), ('persecution', 1), ('staggered', 1), ('winds', 1), ('You', 1), ('veterans', 1), ('suffering.', 1), ('Continue', 1), ('unearned', 1), ('suffering', 1), ('redemptive.', 1), ('Go', 1), ('Carolina,', 1), ('Louisiana,', 1), ('slums', 1), ('ghettos', 1), ('northern', 1), ('cities,', 1), ('somehow', 1), ('situation', 1), ('changed.', 1), ('wallow', 1), ('despair,', 1), ('friends.', 1), ('difficulties', 1), ('tomorrow,', 1), ('deeply', 1), ('rooted', 1), ('true', 1), ('meaning', 1), ('creed:', 1), ('\"We', 1), ('hold', 1), ('truths', 1), ('self-evident,', 1), ('created', 1), ('equal.\"', 1), ('red', 1), ('hills', 1), ('slave', 1), ('owners', 1), ('sit', 1), ('table', 1), ('injustice,', 1), ('oppression,', 1), ('transformed', 1), ('oasis', 1), ('judged', 1), ('skin', 1), ('character.', 1), ('day,', 1), ('vicious', 1), ('racists,', 1), ('governor', 1), ('lips', 1), ('dripping', 1), ('\"interposition\"', 1), ('\"nullification\"', 1), ('Alabama', 1), ('sisters', 1), ('brothers.', 1), ('exalted,', 1), ('low,', 1), ('rough', 1), ('plain,', 1), ('crooked', 1), ('straight;', 1), ('\"and', 1), ('glory', 1), ('Lord', 1), ('revealed', 1), ('flesh', 1), ('together.\"2', 1), ('hope,', 1), ('with.', 1), ('hew', 1), ('despair', 1), ('stone', 1), ('hope.', 1), ('transform', 1), ('jangling', 1), ('discords', 1), ('beautiful', 1), ('symphony', 1), ('pray', 1), ('day.', 1), ('meaning:', 1), ('My', 1), ('country', 1), (\"'tis\", 1), ('thee,', 1), ('sweet', 1), ('liberty,', 1), ('thee', 1), ('sing.', 1), ('Land', 1), ('fathers', 1), ('died,', 1), (\"Pilgrim's\", 1), ('pride,', 1), ('ring!', 1), ('nation,', 1), ('true.', 1), ('prodigious', 1), ('hilltops', 1), ('Hampshire.', 1), ('mountains', 1), ('York.', 1), ('heightening', 1), ('Alleghenies', 1), ('Pennsylvania.', 1), ('snow-capped', 1), ('Rockies', 1), ('Colorado.', 1), ('curvaceous', 1), ('slopes', 1), ('California.', 1), ('that:', 1), ('Stone', 1), ('Georgia.', 1), ('Lookout', 1), ('Tennessee.', 1), ('molehill', 1), ('Mississippi.', 1), ('ring.', 1), ('happens,', 1), ('ring,', 1), ('village', 1), ('hamlet,', 1), ('city,', 1), ('speed', 1), ('children,', 1), ('Jews', 1), ('Gentiles,', 1), ('Protestants', 1), ('Catholics,', 1), ('spiritual:', 1), ('Thank', 1), ('God', 1), ('Almighty,', 1)]\n"
     ]
    }
   ],
   "source": [
    "import pickle\n",
    "\n",
    "def WordCount(file, stopwords='stopwords.txt'):\n",
    "    wordCnt = {}\n",
    "    with open(stopwords) as sw:\n",
    "        swords = [line.strip() for line in sw.readlines()]\n",
    "    with open(file, 'r') as f:\n",
    "        for line in f.readlines():\n",
    "            words = line.strip().split(' ')\n",
    "            for word in words:\n",
    "                if word in ',. ': continue\n",
    "                if word in swords: continue\n",
    "                wordCnt[word] = wordCnt.get(word, 0) + 1 \n",
    "   \n",
    "    return wordCnt\n",
    "\n",
    "def majorityCnt(wordCnt):\n",
    "    wordCnt = sorted(wordCnt.items(), key=lambda x: x[1], reverse=True)\n",
    "    with open('abc.pickle', 'wb') as f:           \n",
    "        pickle.dump(wordCnt, f, pickle.HIGHEST_PROTOCOL)   \n",
    "    return wordCnt\n",
    "\n",
    "filename = 'ihaveadream.txt'\n",
    "sDict = {}\n",
    "sDict = WordCount(filename)\n",
    "sDict = majorityCnt(sDict)\n",
    "with open('abc.pickle', 'rb') as f:\n",
    "    data = pickle.load(f)\n",
    "    print(data)\n"
   ]
  },
  {
   "cell_type": "code",
   "execution_count": 196,
   "id": "ca8fa71c",
   "metadata": {},
   "outputs": [
    {
     "data": {
      "text/plain": [
       "<module 'myUtil' from 'C:\\\\Users\\\\korea\\\\daworkshop\\\\myUtil.py'>"
      ]
     },
     "execution_count": 196,
     "metadata": {},
     "output_type": "execute_result"
    }
   ],
   "source": [
    "from imp import reload\n",
    "reload(myUtil)"
   ]
  },
  {
   "cell_type": "code",
   "execution_count": 197,
   "id": "5428bd0f",
   "metadata": {},
   "outputs": [
    {
     "data": {
      "text/plain": [
       "[('freedom', 19),\n",
       " ('I', 15),\n",
       " ('Negro', 13),\n",
       " ('And', 12),\n",
       " ('We', 10),\n",
       " ('day', 10),\n",
       " ('Let', 9),\n",
       " ('dream', 9),\n",
       " ('ring', 9),\n",
       " ('able', 8),\n",
       " ('nation', 7),\n",
       " ('white', 6),\n",
       " ('satisfied', 6),\n",
       " ('This', 5),\n",
       " ('America', 5),\n",
       " ('time', 5),\n",
       " ('together,', 5),\n",
       " ('It', 4),\n",
       " ('But', 4),\n",
       " ('hundred', 4),\n",
       " ('later,', 4),\n",
       " ('black', 4),\n",
       " ('Now', 4),\n",
       " ('join', 3),\n",
       " ('stand', 3),\n",
       " ('today,', 3),\n",
       " ('One', 3),\n",
       " ('American', 3),\n",
       " (\"we've\", 3),\n",
       " ('words', 3),\n",
       " ('men,', 3),\n",
       " ('justice', 3),\n",
       " ('justice.', 3),\n",
       " ('rise', 3),\n",
       " ('valley', 3),\n",
       " ('brotherhood.', 3),\n",
       " (\"God's\", 3),\n",
       " ('sweltering', 3),\n",
       " ('children', 3),\n",
       " ('New', 3),\n",
       " ('--', 3),\n",
       " ('little', 3),\n",
       " ('With', 3),\n",
       " ('faith,', 3),\n",
       " ('last!', 3),\n",
       " ('am', 2),\n",
       " ('history', 2),\n",
       " ('nation.', 2),\n",
       " ('hope', 2),\n",
       " ('slaves', 2),\n",
       " ('segregation', 2),\n",
       " ('In', 2),\n",
       " ('cash', 2),\n",
       " ('promissory', 2),\n",
       " ('note', 2),\n",
       " ('color', 2),\n",
       " ('check,', 2),\n",
       " ('check', 2),\n",
       " ('refuse', 2),\n",
       " ('believe', 2),\n",
       " ('urgency', 2),\n",
       " ('racial', 2),\n",
       " ('content', 2),\n",
       " ('The', 2),\n",
       " ('people,', 2),\n",
       " ('struggle', 2),\n",
       " ('dignity', 2),\n",
       " ('allow', 2),\n",
       " ('creative', 2),\n",
       " ('physical', 2),\n",
       " ('realize', 2),\n",
       " ('police', 2),\n",
       " ('brutality.', 2),\n",
       " ('mighty', 2),\n",
       " ('jail', 2),\n",
       " ('quest', 2),\n",
       " ('faith', 2),\n",
       " ('Mississippi,', 2),\n",
       " ('Alabama,', 2),\n",
       " ('South', 2),\n",
       " ('Georgia,', 2),\n",
       " ('knowing', 2),\n",
       " ('dream.', 2),\n",
       " ('live', 2),\n",
       " ('sons', 2),\n",
       " ('former', 2),\n",
       " ('heat', 2),\n",
       " ('today!', 2),\n",
       " ('boys', 2),\n",
       " ('girls', 2),\n",
       " ('hands', 2),\n",
       " ('hill', 2),\n",
       " ('mountain', 2),\n",
       " ('free', 2),\n",
       " ('sing', 2),\n",
       " ('land', 2),\n",
       " ('From', 2),\n",
       " ('mountainside,', 2),\n",
       " ('Mountain', 2),\n",
       " ('Free', 2),\n",
       " ('happy', 1),\n",
       " ('demonstration', 1),\n",
       " ('Five', 1),\n",
       " ('score', 1),\n",
       " ('ago,', 1),\n",
       " ('American,', 1),\n",
       " ('symbolic', 1),\n",
       " ('shadow', 1),\n",
       " ('signed', 1),\n",
       " ('Emancipation', 1),\n",
       " ('Proclamation.', 1),\n",
       " ('momentous', 1),\n",
       " ('decree', 1),\n",
       " ('beacon', 1),\n",
       " ('light', 1),\n",
       " ('millions', 1),\n",
       " ('seared', 1),\n",
       " ('flames', 1),\n",
       " ('withering', 1),\n",
       " ('injustice.', 1),\n",
       " ('joyous', 1),\n",
       " ('daybreak', 1),\n",
       " ('night', 1),\n",
       " ('captivity.', 1),\n",
       " ('free.', 1),\n",
       " ('life', 1),\n",
       " ('sadly', 1),\n",
       " ('crippled', 1),\n",
       " ('manacles', 1),\n",
       " ('chains', 1),\n",
       " ('discrimination.', 1),\n",
       " ('lives', 1),\n",
       " ('lonely', 1),\n",
       " ('island', 1),\n",
       " ('poverty', 1),\n",
       " ('midst', 1),\n",
       " ('vast', 1),\n",
       " ('ocean', 1),\n",
       " ('material', 1),\n",
       " ('prosperity.', 1),\n",
       " ('languished', 1),\n",
       " ('corners', 1),\n",
       " ('society', 1),\n",
       " ('exile', 1),\n",
       " ('own', 1),\n",
       " ('land.', 1),\n",
       " ('dramatize', 1),\n",
       " ('shameful', 1),\n",
       " ('condition.', 1),\n",
       " ('sense', 1),\n",
       " (\"nation's\", 1),\n",
       " ('capital', 1),\n",
       " ('check.', 1),\n",
       " ('When', 1),\n",
       " ('architects', 1),\n",
       " ('republic', 1),\n",
       " ('wrote', 1),\n",
       " ('magnificent', 1),\n",
       " ('Constitution', 1),\n",
       " ('Declaration', 1),\n",
       " ('Independence,', 1),\n",
       " ('signing', 1),\n",
       " ('fall', 1),\n",
       " ('heir.', 1),\n",
       " ('promise', 1),\n",
       " ('yes,', 1),\n",
       " ('guaranteed', 1),\n",
       " ('\"unalienable', 1),\n",
       " ('Rights\"', 1),\n",
       " ('\"Life,', 1),\n",
       " ('Liberty', 1),\n",
       " ('pursuit', 1),\n",
       " ('Happiness.\"', 1),\n",
       " ('obvious', 1),\n",
       " ('defaulted', 1),\n",
       " ('note,', 1),\n",
       " ('insofar', 1),\n",
       " ('citizens', 1),\n",
       " ('concerned.', 1),\n",
       " ('Instead', 1),\n",
       " ('honoring', 1),\n",
       " ('sacred', 1),\n",
       " ('obligation,', 1),\n",
       " ('people', 1),\n",
       " ('bad', 1),\n",
       " ('marked', 1),\n",
       " ('\"insufficient', 1),\n",
       " ('funds.\"', 1),\n",
       " ('bank', 1),\n",
       " ('bankrupt.', 1),\n",
       " ('insufficient', 1),\n",
       " ('funds', 1),\n",
       " ('vaults', 1),\n",
       " ('opportunity', 1),\n",
       " ('so,', 1),\n",
       " ('demand', 1),\n",
       " ('riches', 1),\n",
       " ('security', 1),\n",
       " ('hallowed', 1),\n",
       " ('spot', 1),\n",
       " ('remind', 1),\n",
       " ('fierce', 1),\n",
       " ('Now.', 1),\n",
       " ('engage', 1),\n",
       " ('luxury', 1),\n",
       " ('cooling', 1),\n",
       " ('tranquilizing', 1),\n",
       " ('drug', 1),\n",
       " ('gradualism.', 1),\n",
       " ('real', 1),\n",
       " ('promises', 1),\n",
       " ('democracy.', 1),\n",
       " ('dark', 1),\n",
       " ('desolate', 1),\n",
       " ('sunlit', 1),\n",
       " ('path', 1),\n",
       " ('lift', 1),\n",
       " ('quicksands', 1),\n",
       " ('injustice', 1),\n",
       " ('solid', 1),\n",
       " ('rock', 1),\n",
       " ('reality', 1),\n",
       " ('children.', 1),\n",
       " ('fatal', 1),\n",
       " ('overlook', 1),\n",
       " ('moment.', 1),\n",
       " ('summer', 1),\n",
       " (\"Negro's\", 1),\n",
       " ('legitimate', 1),\n",
       " ('discontent', 1),\n",
       " ('pass', 1),\n",
       " ('invigorating', 1),\n",
       " ('autumn', 1),\n",
       " ('equality.', 1),\n",
       " ('Nineteen', 1),\n",
       " ('sixty-three', 1),\n",
       " ('end,', 1),\n",
       " ('beginning.', 1),\n",
       " ('blow', 1),\n",
       " ('steam', 1),\n",
       " ('rude', 1),\n",
       " ('awakening', 1),\n",
       " ('returns', 1),\n",
       " ('business', 1),\n",
       " ('usual.', 1),\n",
       " ('neither', 1),\n",
       " ('rest', 1),\n",
       " ('nor', 1),\n",
       " ('tranquility', 1),\n",
       " ('granted', 1),\n",
       " ('citizenship', 1),\n",
       " ('rights.', 1),\n",
       " ('whirlwinds', 1),\n",
       " ('revolt', 1),\n",
       " ('continue', 1),\n",
       " ('shake', 1),\n",
       " ('foundations', 1),\n",
       " ('bright', 1),\n",
       " ('emerges.', 1),\n",
       " ('warm', 1),\n",
       " ('threshold', 1),\n",
       " ('leads', 1),\n",
       " ('palace', 1),\n",
       " ('justice:', 1),\n",
       " ('process', 1),\n",
       " ('gaining', 1),\n",
       " ('rightful', 1),\n",
       " ('place,', 1),\n",
       " ('guilty', 1),\n",
       " ('wrongful', 1),\n",
       " ('deeds.', 1),\n",
       " ('seek', 1),\n",
       " ('satisfy', 1),\n",
       " ('thirst', 1),\n",
       " ('drinking', 1),\n",
       " ('cup', 1),\n",
       " ('bitterness', 1),\n",
       " ('hatred.', 1),\n",
       " ('forever', 1),\n",
       " ('conduct', 1),\n",
       " ('plane', 1),\n",
       " ('discipline.', 1),\n",
       " ('protest', 1),\n",
       " ('degenerate', 1),\n",
       " ('violence.', 1),\n",
       " ('Again', 1),\n",
       " ('again,', 1),\n",
       " ('majestic', 1),\n",
       " ('heights', 1),\n",
       " ('meeting', 1),\n",
       " ('force', 1),\n",
       " ('soul', 1),\n",
       " ('force.', 1),\n",
       " ('marvelous', 1),\n",
       " ('militancy', 1),\n",
       " ('engulfed', 1),\n",
       " ('community', 1),\n",
       " ('lead', 1),\n",
       " ('distrust', 1),\n",
       " ('brothers,', 1),\n",
       " ('evidenced', 1),\n",
       " ('presence', 1),\n",
       " ('destiny', 1),\n",
       " ('tied', 1),\n",
       " ('destiny.', 1),\n",
       " ('inextricably', 1),\n",
       " ('bound', 1),\n",
       " ('freedom.', 1),\n",
       " ('walk', 1),\n",
       " ('alone.', 1),\n",
       " ('walk,', 1),\n",
       " ('pledge', 1),\n",
       " ('march', 1),\n",
       " ('ahead.', 1),\n",
       " ('back.', 1),\n",
       " ('There', 1),\n",
       " ('devotees', 1),\n",
       " ('civil', 1),\n",
       " ('rights,', 1),\n",
       " ('\"When', 1),\n",
       " ('satisfied?\"', 1),\n",
       " ('victim', 1),\n",
       " ('unspeakable', 1),\n",
       " ('horrors', 1),\n",
       " ('bodies,', 1),\n",
       " ('heavy', 1),\n",
       " ('fatigue', 1),\n",
       " ('travel,', 1),\n",
       " ('gain', 1),\n",
       " ('lodging', 1),\n",
       " ('motels', 1),\n",
       " ('highways', 1),\n",
       " ('hotels', 1),\n",
       " ('cities.', 1),\n",
       " ('*We', 1),\n",
       " (\"negro's\", 1),\n",
       " ('basic', 1),\n",
       " ('mobility', 1),\n",
       " ('ghetto', 1),\n",
       " ('larger', 1),\n",
       " ('one.', 1),\n",
       " ('stripped', 1),\n",
       " ('self-hood', 1),\n",
       " ('robbed', 1),\n",
       " ('signs', 1),\n",
       " ('stating:', 1),\n",
       " ('\"For', 1),\n",
       " ('Whites', 1),\n",
       " ('Only.\"*', 1),\n",
       " ('Mississippi', 1),\n",
       " ('vote', 1),\n",
       " ('York', 1),\n",
       " ('believes', 1),\n",
       " ('vote.', 1),\n",
       " ('No,', 1),\n",
       " ('no,', 1),\n",
       " ('satisfied,', 1),\n",
       " ('\"justice', 1),\n",
       " ('rolls', 1),\n",
       " ('waters,', 1),\n",
       " ('righteousness', 1),\n",
       " ('stream.\"1', 1),\n",
       " ('unmindful', 1),\n",
       " ('trials', 1),\n",
       " ('tribulations.', 1),\n",
       " ('Some', 1),\n",
       " ('fresh', 1),\n",
       " ('narrow', 1),\n",
       " ('cells.', 1),\n",
       " ('left', 1),\n",
       " ('battered', 1),\n",
       " ('storms', 1),\n",
       " ('persecution', 1),\n",
       " ('staggered', 1),\n",
       " ('winds', 1),\n",
       " ('You', 1),\n",
       " ('veterans', 1),\n",
       " ('suffering.', 1),\n",
       " ('Continue', 1),\n",
       " ('unearned', 1),\n",
       " ('suffering', 1),\n",
       " ('redemptive.', 1),\n",
       " ('Go', 1),\n",
       " ('Carolina,', 1),\n",
       " ('Louisiana,', 1),\n",
       " ('slums', 1),\n",
       " ('ghettos', 1),\n",
       " ('northern', 1),\n",
       " ('cities,', 1),\n",
       " ('somehow', 1),\n",
       " ('situation', 1),\n",
       " ('changed.', 1),\n",
       " ('wallow', 1),\n",
       " ('despair,', 1),\n",
       " ('friends.', 1),\n",
       " ('difficulties', 1),\n",
       " ('tomorrow,', 1),\n",
       " ('deeply', 1),\n",
       " ('rooted', 1),\n",
       " ('true', 1),\n",
       " ('meaning', 1),\n",
       " ('creed:', 1),\n",
       " ('\"We', 1),\n",
       " ('hold', 1),\n",
       " ('truths', 1),\n",
       " ('self-evident,', 1),\n",
       " ('created', 1),\n",
       " ('equal.\"', 1),\n",
       " ('red', 1),\n",
       " ('hills', 1),\n",
       " ('slave', 1),\n",
       " ('owners', 1),\n",
       " ('sit', 1),\n",
       " ('table', 1),\n",
       " ('injustice,', 1),\n",
       " ('oppression,', 1),\n",
       " ('transformed', 1),\n",
       " ('oasis', 1),\n",
       " ('judged', 1),\n",
       " ('skin', 1),\n",
       " ('character.', 1),\n",
       " ('day,', 1),\n",
       " ('vicious', 1),\n",
       " ('racists,', 1),\n",
       " ('governor', 1),\n",
       " ('lips', 1),\n",
       " ('dripping', 1),\n",
       " ('\"interposition\"', 1),\n",
       " ('\"nullification\"', 1),\n",
       " ('Alabama', 1),\n",
       " ('sisters', 1),\n",
       " ('brothers.', 1),\n",
       " ('exalted,', 1),\n",
       " ('low,', 1),\n",
       " ('rough', 1),\n",
       " ('plain,', 1),\n",
       " ('crooked', 1),\n",
       " ('straight;', 1),\n",
       " ('\"and', 1),\n",
       " ('glory', 1),\n",
       " ('Lord', 1),\n",
       " ('revealed', 1),\n",
       " ('flesh', 1),\n",
       " ('together.\"2', 1),\n",
       " ('hope,', 1),\n",
       " ('with.', 1),\n",
       " ('hew', 1),\n",
       " ('despair', 1),\n",
       " ('stone', 1),\n",
       " ('hope.', 1),\n",
       " ('transform', 1),\n",
       " ('jangling', 1),\n",
       " ('discords', 1),\n",
       " ('beautiful', 1),\n",
       " ('symphony', 1),\n",
       " ('pray', 1),\n",
       " ('day.', 1),\n",
       " ('meaning:', 1),\n",
       " ('My', 1),\n",
       " ('country', 1),\n",
       " (\"'tis\", 1),\n",
       " ('thee,', 1),\n",
       " ('sweet', 1),\n",
       " ('liberty,', 1),\n",
       " ('thee', 1),\n",
       " ('sing.', 1),\n",
       " ('Land', 1),\n",
       " ('fathers', 1),\n",
       " ('died,', 1),\n",
       " (\"Pilgrim's\", 1),\n",
       " ('pride,', 1),\n",
       " ('ring!', 1),\n",
       " ('nation,', 1),\n",
       " ('true.', 1),\n",
       " ('prodigious', 1),\n",
       " ('hilltops', 1),\n",
       " ('Hampshire.', 1),\n",
       " ('mountains', 1),\n",
       " ('York.', 1),\n",
       " ('heightening', 1),\n",
       " ('Alleghenies', 1),\n",
       " ('Pennsylvania.', 1),\n",
       " ('snow-capped', 1),\n",
       " ('Rockies', 1),\n",
       " ('Colorado.', 1),\n",
       " ('curvaceous', 1),\n",
       " ('slopes', 1),\n",
       " ('California.', 1),\n",
       " ('that:', 1),\n",
       " ('Stone', 1),\n",
       " ('Georgia.', 1),\n",
       " ('Lookout', 1),\n",
       " ('Tennessee.', 1),\n",
       " ('molehill', 1),\n",
       " ('Mississippi.', 1),\n",
       " ('ring.', 1),\n",
       " ('happens,', 1),\n",
       " ('ring,', 1),\n",
       " ('village', 1),\n",
       " ('hamlet,', 1),\n",
       " ('city,', 1),\n",
       " ('speed', 1),\n",
       " ('children,', 1),\n",
       " ('Jews', 1),\n",
       " ('Gentiles,', 1),\n",
       " ('Protestants', 1),\n",
       " ('Catholics,', 1),\n",
       " ('spiritual:', 1),\n",
       " ('Thank', 1),\n",
       " ('God', 1),\n",
       " ('Almighty,', 1)]"
      ]
     },
     "execution_count": 197,
     "metadata": {},
     "output_type": "execute_result"
    }
   ],
   "source": [
    "import myUtil\n",
    "d = myUtil.WordCount('ihaveadream.txt')\n",
    "result = myUtil.majorityCnt(d)\n",
    "result"
   ]
  },
  {
   "cell_type": "code",
   "execution_count": 198,
   "id": "ce6da9d6",
   "metadata": {},
   "outputs": [
    {
     "data": {
      "text/plain": [
       "3"
      ]
     },
     "execution_count": 198,
     "metadata": {},
     "output_type": "execute_result"
    }
   ],
   "source": [
    "def myAdd(a,b):\n",
    "    return a+b\n",
    "myAdd(1,2)"
   ]
  },
  {
   "cell_type": "code",
   "execution_count": 8,
   "id": "2b8e8180",
   "metadata": {},
   "outputs": [
    {
     "name": "stdout",
     "output_type": "stream",
     "text": [
      "Dominica\n",
      "Dominica\n",
      "Ruri\n",
      "Ruca\n",
      "====================\n",
      "seoul\n",
      "tornonto\n",
      "alberta\n",
      "alberta\n"
     ]
    }
   ],
   "source": [
    "from xml.dom.minidom import parse, parseString\n",
    "dom = parse('myfriend.xml')\n",
    "for name in dom.getElementsByTagName('name'):\n",
    "    print(name.firstChild.data)\n",
    "print('====================')    \n",
    "for name in dom.getElementsByTagName('addr'):\n",
    "    print(name.firstChild.data)\n"
   ]
  },
  {
   "cell_type": "code",
   "execution_count": 3,
   "id": "bd53da40",
   "metadata": {
    "scrolled": true
   },
   "outputs": [
    {
     "ename": "TypeError",
     "evalue": "'ElementTree' object is not iterable",
     "output_type": "error",
     "traceback": [
      "\u001b[1;31m---------------------------------------------------------------------------\u001b[0m",
      "\u001b[1;31mTypeError\u001b[0m                                 Traceback (most recent call last)",
      "\u001b[1;32m<ipython-input-3-89cff282fc8a>\u001b[0m in \u001b[0;36m<module>\u001b[1;34m\u001b[0m\n\u001b[0;32m      1\u001b[0m \u001b[1;32mimport\u001b[0m \u001b[0mxml\u001b[0m\u001b[1;33m.\u001b[0m\u001b[0metree\u001b[0m\u001b[1;33m.\u001b[0m\u001b[0mElementTree\u001b[0m\u001b[1;33m\u001b[0m\u001b[1;33m\u001b[0m\u001b[0m\n\u001b[0;32m      2\u001b[0m \u001b[0mfriend\u001b[0m \u001b[1;33m=\u001b[0m \u001b[0mxml\u001b[0m\u001b[1;33m.\u001b[0m\u001b[0metree\u001b[0m\u001b[1;33m.\u001b[0m\u001b[0mElementTree\u001b[0m\u001b[1;33m.\u001b[0m\u001b[0mparse\u001b[0m\u001b[1;33m(\u001b[0m\u001b[1;34m'myfriend.xml'\u001b[0m\u001b[1;33m)\u001b[0m\u001b[1;33m\u001b[0m\u001b[1;33m\u001b[0m\u001b[0m\n\u001b[1;32m----> 3\u001b[1;33m \u001b[1;32mfor\u001b[0m \u001b[0mres\u001b[0m \u001b[1;32min\u001b[0m \u001b[0mfriend\u001b[0m\u001b[1;33m:\u001b[0m\u001b[1;33m\u001b[0m\u001b[1;33m\u001b[0m\u001b[0m\n\u001b[0m\u001b[0;32m      4\u001b[0m     \u001b[0mprint\u001b[0m\u001b[1;33m(\u001b[0m\u001b[0mres\u001b[0m\u001b[1;33m.\u001b[0m\u001b[0mfind\u001b[0m\u001b[1;33m(\u001b[0m\u001b[1;34m'name'\u001b[0m\u001b[1;33m)\u001b[0m\u001b[1;33m.\u001b[0m\u001b[0mtext\u001b[0m \u001b[1;33m+\u001b[0m\u001b[1;34m','\u001b[0m \u001b[1;33m+\u001b[0m \u001b[0mres\u001b[0m\u001b[1;33m.\u001b[0m\u001b[0mfind\u001b[0m\u001b[1;33m(\u001b[0m\u001b[1;34m'addr'\u001b[0m\u001b[1;33m)\u001b[0m\u001b[1;33m.\u001b[0m\u001b[0mtext\u001b[0m\u001b[1;33m)\u001b[0m\u001b[1;33m\u001b[0m\u001b[1;33m\u001b[0m\u001b[0m\n\u001b[0;32m      5\u001b[0m \u001b[1;33m\u001b[0m\u001b[0m\n",
      "\u001b[1;31mTypeError\u001b[0m: 'ElementTree' object is not iterable"
     ]
    }
   ],
   "source": [
    "import xml.etree.ElementTree\n",
    "friend = xml.etree.ElementTree.parse('myfriend.xml')\n",
    "for res in friends:\n",
    "    print(res.find('name').text +',' + res.find('addr').text)\n",
    "    \n",
    "for r in friend.iter(tag = 'name'):\n",
    "    print(r.text)"
   ]
  },
  {
   "cell_type": "code",
   "execution_count": 37,
   "id": "16af665d",
   "metadata": {},
   "outputs": [
    {
     "name": "stdout",
     "output_type": "stream",
     "text": [
      "[['고양시', '41280', '육계', '지축농장', '300', '경기도 고양시 덕양구 지축동 산 88번지 6호', None, '10584', '126.9235624393', '37.6490243316', '2021-06-24', None, '닭'], ['고양시', '41280', '육계', '알프스농장', '25000', '경기도 고양시 일산서구 법곳동 1584-1번지', '경기도 고양시 일산서구 법곳길 200-85', '10220', '126.7190624781', '37.6687860578', '2021-06-24', None, '닭'], ['여주시', '41670', '토종닭', '***', '16', '경기도 여주시 강천면 도전리 109-1번지', '경기도 여주시 강천면 황골길 28-4', '12617', '127.7298750', '37.3622116', '2018-12-31', None, '닭'], ['여주시', '41670', '토종닭', '***', '4', '경기도 여주시 강천면 도전리 36번지', '경기도 여주시 강천면 황골길 47', '12617', '127.7283540', '37.3636805', '2018-12-31', None, '닭'], ['여주시', '41670', '토종닭', '***', '3', '경기도 여주시 강천면 도전리 587-1번지', '경기도 여주시 강천면 원심동2길 13', '12617', '127.7467099', '37.3489614', '2018-12-31', None, '닭']]\n"
     ]
    }
   ],
   "source": [
    "import xml.etree.ElementTree\n",
    "friend = xml.etree.ElementTree.parse('Avianfarm.xml')\n",
    "addr = friend.findall('row')\n",
    "save = []\n",
    "tmp = []\n",
    "childTag=[]\n",
    "for a in addr:\n",
    "    save=[]\n",
    "    for j in a:\n",
    "        save.append(j.text)\n",
    "        childTag.append(j.tag)\n",
    "    tmp.append(save)\n",
    "print(tmp)\n",
    "    "
   ]
  },
  {
   "cell_type": "code",
   "execution_count": 36,
   "id": "72169677",
   "metadata": {},
   "outputs": [
    {
     "ename": "NameError",
     "evalue": "name 'pandas' is not defined",
     "output_type": "error",
     "traceback": [
      "\u001b[1;31m---------------------------------------------------------------------------\u001b[0m",
      "\u001b[1;31mNameError\u001b[0m                                 Traceback (most recent call last)",
      "\u001b[1;32m<ipython-input-36-4df5910f603d>\u001b[0m in \u001b[0;36m<module>\u001b[1;34m\u001b[0m\n\u001b[0;32m      1\u001b[0m \u001b[1;32mfrom\u001b[0m \u001b[0mpandas\u001b[0m \u001b[1;32mimport\u001b[0m \u001b[0mSeries\u001b[0m\u001b[1;33m,\u001b[0m \u001b[0mDataFrame\u001b[0m\u001b[1;33m\u001b[0m\u001b[1;33m\u001b[0m\u001b[0m\n\u001b[1;32m----> 2\u001b[1;33m \u001b[0mpandas\u001b[0m\u001b[1;33m.\u001b[0m\u001b[0mDataFrame\u001b[0m\u001b[1;33m(\u001b[0m\u001b[0mtmp\u001b[0m\u001b[1;33m,\u001b[0m \u001b[0mcolumns\u001b[0m \u001b[1;33m=\u001b[0m \u001b[0mchildTag\u001b[0m\u001b[1;33m)\u001b[0m\u001b[1;33m\u001b[0m\u001b[1;33m\u001b[0m\u001b[0m\n\u001b[0m",
      "\u001b[1;31mNameError\u001b[0m: name 'pandas' is not defined"
     ]
    }
   ],
   "source": [
    "from pandas import Series, DataFrame\n",
    "pandas.DataFrame(tmp, columns = childTag)"
   ]
  }
 ],
 "metadata": {
  "kernelspec": {
   "display_name": "Python 3",
   "language": "python",
   "name": "python3"
  },
  "language_info": {
   "codemirror_mode": {
    "name": "ipython",
    "version": 3
   },
   "file_extension": ".py",
   "mimetype": "text/x-python",
   "name": "python",
   "nbconvert_exporter": "python",
   "pygments_lexer": "ipython3",
   "version": "3.8.8"
  }
 },
 "nbformat": 4,
 "nbformat_minor": 5
}
