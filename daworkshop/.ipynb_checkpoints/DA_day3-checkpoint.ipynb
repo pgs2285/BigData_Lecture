{
 "cells": [
  {
   "cell_type": "markdown",
   "id": "c183e793",
   "metadata": {},
   "source": [
    "## 데이터 분석 3일차"
   ]
  },
  {
   "cell_type": "code",
   "execution_count": 4,
   "id": "edb200ed",
   "metadata": {},
   "outputs": [
    {
     "name": "stdout",
     "output_type": "stream",
     "text": [
      "점수를 입력해주세요:10\n",
      "학점은 F입니다\n"
     ]
    }
   ],
   "source": [
    "score = float(input('점수를 입력해주세요:'))\n",
    "\n",
    "if score >= 90:\n",
    "    grade = 'A'\n",
    "elif score >=80:\n",
    "    grade = 'B'\n",
    "elif score>=70:\n",
    "    grade = 'C'\n",
    "elif score >= 60:\n",
    "    grade = 'D'\n",
    "else: grade = 'F'    \n",
    "print(f'학점은 {grade}입니다')    "
   ]
  },
  {
   "cell_type": "code",
   "execution_count": 6,
   "id": "d6d43518",
   "metadata": {},
   "outputs": [
    {
     "name": "stdout",
     "output_type": "stream",
     "text": [
      "apple 5\n",
      "watermelon 10\n",
      "peach 5\n",
      "pear 4\n"
     ]
    }
   ],
   "source": [
    "fruit = ['apple', 'watermelon', 'peach', 'pear']\n",
    "for m_f in fruit:\n",
    "    print(m_f, len(m_f))"
   ]
  },
  {
   "cell_type": "code",
   "execution_count": 7,
   "id": "20d65238",
   "metadata": {},
   "outputs": [
    {
     "name": "stdout",
     "output_type": "stream",
     "text": [
      "a\n",
      "b\n",
      "c\n"
     ]
    }
   ],
   "source": [
    "m_dict = {'a':1, 'b':2, 'c':3}\n",
    "for m in m_dict:\n",
    "    print(m)\n"
   ]
  },
  {
   "cell_type": "markdown",
   "id": "9b4aac90",
   "metadata": {},
   "source": [
    "range 함수"
   ]
  },
  {
   "cell_type": "code",
   "execution_count": 11,
   "id": "cf28c73e",
   "metadata": {},
   "outputs": [
    {
     "name": "stdout",
     "output_type": "stream",
     "text": [
      "range(0, 8)\n",
      "[2, 3, 4, 5, 6, 7]\n",
      "[10, 30, 50, 70, 90, 110, 130, 150, 170, 190]\n"
     ]
    }
   ],
   "source": [
    "print(range(8))\n",
    "print(list(range(2,8)))\n",
    "print(list(range(10,200,20)))"
   ]
  },
  {
   "cell_type": "code",
   "execution_count": 17,
   "id": "c3359a78",
   "metadata": {
    "scrolled": true
   },
   "outputs": [
    {
     "name": "stdout",
     "output_type": "stream",
     "text": [
      "2550.0 2550.0\n"
     ]
    }
   ],
   "source": [
    "#0부터 100까지 정수 중 짝수의 합을 구해라\n",
    "sum = 0.0\n",
    "rangeSum = 0.0\n",
    "\n",
    "#1번째 방법\n",
    "for i in range(0,101):\n",
    "    if i%2==0:\n",
    "        sum+=i\n",
    "        \n",
    "#2번째 방법        \n",
    "for j in range(0,101,2):\n",
    "    rangeSum+=j\n",
    "    \n",
    "print(sum, rangeSum)        "
   ]
  },
  {
   "cell_type": "markdown",
   "id": "23e863c8",
   "metadata": {},
   "source": [
    "반복문과 함께 쓰는 함수"
   ]
  },
  {
   "cell_type": "code",
   "execution_count": 22,
   "id": "e6a161d4",
   "metadata": {},
   "outputs": [
    {
     "name": "stdout",
     "output_type": "stream",
     "text": [
      "[(1, 'a'), (2, 'b'), (3, 'c')]\n"
     ]
    },
    {
     "data": {
      "text/plain": [
       "<enumerate at 0x1fd415e2f80>"
      ]
     },
     "execution_count": 22,
     "metadata": {},
     "output_type": "execute_result"
    }
   ],
   "source": [
    "l = ['a', 'b', 'c']\n",
    "print(list(enumerate(l, start = 1)))\n",
    "enumerate(l)"
   ]
  },
  {
   "cell_type": "code",
   "execution_count": 24,
   "id": "0f3ce393",
   "metadata": {},
   "outputs": [
    {
     "name": "stdout",
     "output_type": "stream",
     "text": [
      "0:a\n",
      "1:b\n",
      "2:c\n"
     ]
    }
   ],
   "source": [
    "for i,str in enumerate(l):\n",
    "    print(f'{i}:{str}')"
   ]
  },
  {
   "cell_type": "code",
   "execution_count": 28,
   "id": "eb216382",
   "metadata": {},
   "outputs": [
    {
     "name": "stdout",
     "output_type": "stream",
     "text": [
      "('a', 'hello', 10)\n",
      "('b', 'abc', 20)\n",
      "('c', 'world', 30)\n"
     ]
    }
   ],
   "source": [
    "l = ['a','b','c']\n",
    "m=['hello','abc','world','1']\n",
    "c = [10,20,30]\n",
    "for i in zip(l,m,c):\n",
    "    print(i)"
   ]
  },
  {
   "cell_type": "code",
   "execution_count": null,
   "id": "78a86cf9",
   "metadata": {},
   "outputs": [],
   "source": [
    "for i,j,k in zip(l,m,c):\n",
    "    print(i,j,k)"
   ]
  },
  {
   "cell_type": "code",
   "execution_count": null,
   "id": "5c7757e2",
   "metadata": {},
   "outputs": [],
   "source": []
  },
  {
   "cell_type": "code",
   "execution_count": 43,
   "id": "af0426d7",
   "metadata": {},
   "outputs": [
    {
     "name": "stdout",
     "output_type": "stream",
     "text": [
      "[1.0, 40.3, 37.0]\n",
      "[1.0, 40.3, 37.0]\n"
     ]
    }
   ],
   "source": [
    "\n",
    "l = ['1','40.3','37']\n",
    "lambdaList = list(map(lambda x : float(x), l))\n",
    "\n",
    "print(list(map(float, l)))\n",
    "print(lambdaList)\n"
   ]
  },
  {
   "cell_type": "code",
   "execution_count": 69,
   "id": "6e6ba97c",
   "metadata": {},
   "outputs": [
    {
     "name": "stdout",
     "output_type": "stream",
     "text": [
      "0    1   \n",
      "1    2   \n",
      "2    4   \n",
      "3    8   \n",
      "4    16  \n",
      "5    32  \n",
      "6    64  \n",
      "7    128 \n",
      "8    256 \n",
      "9    512 \n",
      "10   1024\n",
      "11   2048\n",
      "12   4096\n"
     ]
    }
   ],
   "source": [
    "for i in range(0,13):\n",
    "    print(f\"{i:<2}   {2**i:<4}\")\n",
    "\n",
    "# cnt = 0\n",
    "# while cnt<13:\n",
    "#     print(f\"{cnt:2d}   {2**cnt:d}\")\n",
    "#     cnt+=1"
   ]
  },
  {
   "cell_type": "markdown",
   "id": "742922e7",
   "metadata": {},
   "source": []
  }
 ],
 "metadata": {
  "kernelspec": {
   "display_name": "Python 3",
   "language": "python",
   "name": "python3"
  },
  "language_info": {
   "codemirror_mode": {
    "name": "ipython",
    "version": 3
   },
   "file_extension": ".py",
   "mimetype": "text/x-python",
   "name": "python",
   "nbconvert_exporter": "python",
   "pygments_lexer": "ipython3",
   "version": "3.8.10"
  }
 },
 "nbformat": 4,
 "nbformat_minor": 5
}
