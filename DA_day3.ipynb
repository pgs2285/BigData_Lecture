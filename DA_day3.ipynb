{
 "cells": [
  {
   "cell_type": "markdown",
   "id": "c183e793",
   "metadata": {},
   "source": [
    "## 데이터 분석 3일차"
   ]
  },
  {
   "cell_type": "code",
   "execution_count": 4,
   "id": "edb200ed",
   "metadata": {},
   "outputs": [
    {
     "name": "stdout",
     "output_type": "stream",
     "text": [
      "점수를 입력해주세요:10\n",
      "학점은 F입니다\n"
     ]
    }
   ],
   "source": [
    "score = float(input('점수를 입력해주세요:'))\n",
    "\n",
    "if score >= 90:\n",
    "    grade = 'A'\n",
    "elif score >=80:\n",
    "    grade = 'B'\n",
    "elif score>=70:\n",
    "    grade = 'C'\n",
    "elif score >= 60:\n",
    "    grade = 'D'\n",
    "else: grade = 'F'    \n",
    "print(f'학점은 {grade}입니다')    "
   ]
  },
  {
   "cell_type": "code",
   "execution_count": 6,
   "id": "d6d43518",
   "metadata": {},
   "outputs": [
    {
     "name": "stdout",
     "output_type": "stream",
     "text": [
      "apple 5\n",
      "watermelon 10\n",
      "peach 5\n",
      "pear 4\n"
     ]
    }
   ],
   "source": [
    "fruit = ['apple', 'watermelon', 'peach', 'pear']\n",
    "for m_f in fruit:\n",
    "    print(m_f, len(m_f))"
   ]
  },
  {
   "cell_type": "code",
   "execution_count": 7,
   "id": "20d65238",
   "metadata": {},
   "outputs": [
    {
     "name": "stdout",
     "output_type": "stream",
     "text": [
      "a\n",
      "b\n",
      "c\n"
     ]
    }
   ],
   "source": [
    "m_dict = {'a':1, 'b':2, 'c':3}\n",
    "for m in m_dict:\n",
    "    print(m)\n"
   ]
  },
  {
   "cell_type": "markdown",
   "id": "66566d1f",
   "metadata": {},
   "source": [
    "range 함수"
   ]
  },
  {
   "cell_type": "code",
   "execution_count": 11,
   "id": "4c8c4125",
   "metadata": {},
   "outputs": [
    {
     "name": "stdout",
     "output_type": "stream",
     "text": [
      "range(0, 8)\n",
      "[2, 3, 4, 5, 6, 7]\n",
      "[10, 30, 50, 70, 90, 110, 130, 150, 170, 190]\n"
     ]
    }
   ],
   "source": [
    "print(range(8))\n",
    "print(list(range(2,8)))\n",
    "print(list(range(10,200,20)))"
   ]
  },
  {
   "cell_type": "code",
   "execution_count": 17,
   "id": "07722614",
   "metadata": {
    "scrolled": true
   },
   "outputs": [
    {
     "name": "stdout",
     "output_type": "stream",
     "text": [
      "2550.0 2550.0\n"
     ]
    }
   ],
   "source": [
    "#0부터 100까지 정수 중 짝수의 합을 구해라\n",
    "sum = 0.0\n",
    "rangeSum = 0.0\n",
    "\n",
    "#1번째 방법\n",
    "for i in range(0,101):\n",
    "    if i%2==0:\n",
    "        sum+=i\n",
    "        \n",
    "#2번째 방법        \n",
    "for j in range(0,101,2):\n",
    "    rangeSum+=j\n",
    "    \n",
    "print(sum, rangeSum)        "
   ]
  },
  {
   "cell_type": "markdown",
   "id": "ddca96c1",
   "metadata": {},
   "source": [
    "반복문과 함께 쓰는 함수"
   ]
  },
  {
   "cell_type": "code",
   "execution_count": 22,
   "id": "55ef0f0a",
   "metadata": {},
   "outputs": [
    {
     "name": "stdout",
     "output_type": "stream",
     "text": [
      "[(1, 'a'), (2, 'b'), (3, 'c')]\n"
     ]
    },
    {
     "data": {
      "text/plain": [
       "<enumerate at 0x1fd415e2f80>"
      ]
     },
     "execution_count": 22,
     "metadata": {},
     "output_type": "execute_result"
    }
   ],
   "source": [
    "l = ['a', 'b', 'c']\n",
    "print(list(enumerate(l, start = 1)))\n",
    "enumerate(l)"
   ]
  },
  {
   "cell_type": "code",
   "execution_count": 24,
   "id": "2f9ae33f",
   "metadata": {},
   "outputs": [
    {
     "name": "stdout",
     "output_type": "stream",
     "text": [
      "0:a\n",
      "1:b\n",
      "2:c\n"
     ]
    }
   ],
   "source": [
    "for i,str in enumerate(l):\n",
    "    print(f'{i}:{str}')"
   ]
  },
  {
   "cell_type": "code",
   "execution_count": 28,
   "id": "a8f6df75",
   "metadata": {},
   "outputs": [
    {
     "name": "stdout",
     "output_type": "stream",
     "text": [
      "('a', 'hello', 10)\n",
      "('b', 'abc', 20)\n",
      "('c', 'world', 30)\n"
     ]
    }
   ],
   "source": [
    "l = ['a','b','c']\n",
    "m=['hello','abc','world','1']\n",
    "c = [10,20,30]\n",
    "for i in zip(l,m,c):\n",
    "    print(i)"
   ]
  },
  {
   "cell_type": "code",
   "execution_count": null,
   "id": "0f3a832b",
   "metadata": {},
   "outputs": [],
   "source": [
    "for i,j,k in zip(l,m,c):\n",
    "    print(i,j,k)"
   ]
  },
  {
   "cell_type": "code",
   "execution_count": null,
   "id": "8b3e56ce",
   "metadata": {},
   "outputs": [],
   "source": []
  },
  {
   "cell_type": "code",
   "execution_count": 43,
   "id": "b15a5e76",
   "metadata": {},
   "outputs": [
    {
     "name": "stdout",
     "output_type": "stream",
     "text": [
      "[1.0, 40.3, 37.0]\n",
      "[1.0, 40.3, 37.0]\n"
     ]
    }
   ],
   "source": [
    "\n",
    "l = ['1','40.3','37']\n",
    "lambdaList = list(map(lambda x : float(x), l))\n",
    "\n",
    "print(list(map(float, l)))\n",
    "print(lambdaList)\n"
   ]
  },
  {
   "cell_type": "code",
   "execution_count": 69,
   "id": "a4c7bc2c",
   "metadata": {},
   "outputs": [
    {
     "name": "stdout",
     "output_type": "stream",
     "text": [
      "0    1   \n",
      "1    2   \n",
      "2    4   \n",
      "3    8   \n",
      "4    16  \n",
      "5    32  \n",
      "6    64  \n",
      "7    128 \n",
      "8    256 \n",
      "9    512 \n",
      "10   1024\n",
      "11   2048\n",
      "12   4096\n"
     ]
    }
   ],
   "source": [
    "for i in range(0,13):\n",
    "    print(f\"{i:<2}   {2**i:<4}\")\n",
    "\n",
    "# cnt = 0\n",
    "# while cnt<13:\n",
    "#     print(f\"{cnt:2d}   {2**cnt:d}\")\n",
    "#     cnt+=1"
   ]
  },
  {
   "cell_type": "markdown",
   "id": "aa23b818",
   "metadata": {},
   "source": [
    "### 리스트"
   ]
  },
  {
   "cell_type": "code",
   "execution_count": null,
   "id": "80c8b1d7",
   "metadata": {},
   "outputs": [],
   "source": [
    "l = [1,2,3]\n",
    "l.append(4)\n",
    "l.extend([3])\n",
    "l.insert(0,3)\n",
    "print(l)\n"
   ]
  },
  {
   "cell_type": "code",
   "execution_count": 81,
   "id": "2d93bebf",
   "metadata": {},
   "outputs": [
    {
     "data": {
      "text/plain": [
       "[1, 3, 3, 2, 2]"
      ]
     },
     "execution_count": 81,
     "metadata": {},
     "output_type": "execute_result"
    }
   ],
   "source": [
    "l = [1,2,3,3,2,2]\n",
    "l.remove(2)\n",
    "l"
   ]
  },
  {
   "cell_type": "markdown",
   "id": "41270656",
   "metadata": {},
   "source": [
    "리스트내포"
   ]
  },
  {
   "cell_type": "code",
   "execution_count": 85,
   "id": "acae8423",
   "metadata": {},
   "outputs": [
    {
     "name": "stdout",
     "output_type": "stream",
     "text": [
      "[1, 4, 9]\n",
      "[1, 4, 9]\n"
     ]
    }
   ],
   "source": [
    "lst = [1,2,3]\n",
    "lst2 = []\n",
    "for i in lst:\n",
    "    lst2.append(i**2)\n",
    "print(lst2)    \n",
    "lst3 = [x**2 for x in lst]\n",
    "print(lst3)"
   ]
  },
  {
   "cell_type": "code",
   "execution_count": 86,
   "id": "0ebfd035",
   "metadata": {},
   "outputs": [
    {
     "name": "stdout",
     "output_type": "stream",
     "text": [
      "[(1, 1), (2, 4), (3, 9)]\n"
     ]
    }
   ],
   "source": [
    "lst3 = [(x,x**2) for x in lst if x<5]\n",
    "print (lst3)"
   ]
  },
  {
   "cell_type": "markdown",
   "id": "cf1e3c6e",
   "metadata": {},
   "source": [
    "find replace split 등은 문자열연산자"
   ]
  },
  {
   "cell_type": "code",
   "execution_count": null,
   "id": "50682248",
   "metadata": {},
   "outputs": [],
   "source": [
    "#홍길동씨 주민번호\n",
    "pin = '881120-1068234'\n",
    "# pin = input('주민번호를 입력해보세요')\n",
    "front,end = pin.split('-')\n",
    "if end[0] == '1':\n",
    "    print('male')\n",
    "else: print('not male')    "
   ]
  },
  {
   "cell_type": "code",
   "execution_count": 102,
   "id": "4c9294a0",
   "metadata": {
    "scrolled": true
   },
   "outputs": [
    {
     "name": "stdout",
     "output_type": "stream",
     "text": [
      "{'l': 1, 'i': 3, 'f': 1, 'e': 2, 's': 5, 'h': 2, 'o': 3, 'r': 1, 't': 2, 'p': 1, 'y': 2, 'n': 1, 'a': 1}\n"
     ]
    }
   ],
   "source": [
    "s = 'life is short,so python is easy'\n",
    "punct = ',. '\n",
    "d = {}\n",
    "for i in s:\n",
    "    if i in punct: continue #punct 안의 요소면 continue\n",
    "    d[i] = d.get(i,0)+1\n",
    "#     if (i not in d): #없으면 1로 초기화해줌\n",
    "#     d[i] = 1\n",
    "#     else: d[i] += 1 #있으면 1더해줌\n",
    "print(d)    "
   ]
  },
  {
   "cell_type": "markdown",
   "id": "6305314f",
   "metadata": {},
   "source": [
    "집합"
   ]
  },
  {
   "cell_type": "code",
   "execution_count": 104,
   "id": "05791537",
   "metadata": {},
   "outputs": [
    {
     "name": "stdout",
     "output_type": "stream",
     "text": [
      "{1, 2, 3}\n"
     ]
    },
    {
     "data": {
      "text/plain": [
       "{1, 2, 3}"
      ]
     },
     "execution_count": 104,
     "metadata": {},
     "output_type": "execute_result"
    }
   ],
   "source": [
    "print(set([1,1,3,2,1]))\n",
    "{1,1,3,2,3}"
   ]
  }
 ],
 "metadata": {
  "kernelspec": {
   "display_name": "Python 3",
   "language": "python",
   "name": "python3"
  },
  "language_info": {
   "codemirror_mode": {
    "name": "ipython",
    "version": 3
   },
   "file_extension": ".py",
   "mimetype": "text/x-python",
   "name": "python",
   "nbconvert_exporter": "python",
   "pygments_lexer": "ipython3",
   "version": "3.8.10"
  }
 },
 "nbformat": 4,
 "nbformat_minor": 5
}
