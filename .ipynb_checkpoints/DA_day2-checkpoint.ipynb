{
 "cells": [
  {
   "cell_type": "markdown",
   "id": "dc278595",
   "metadata": {},
   "source": [
    "# 데이터분석 2일차"
   ]
  },
  {
   "cell_type": "markdown",
   "id": "c741fee1",
   "metadata": {},
   "source": [
    "모듈"
   ]
  },
  {
   "cell_type": "markdown",
   "id": "039b7b7e",
   "metadata": {},
   "source": [
    "모듈 임포트에 관한 예제"
   ]
  },
  {
   "cell_type": "code",
   "execution_count": 3,
   "id": "99ab831a",
   "metadata": {},
   "outputs": [],
   "source": [
    "import sys"
   ]
  },
  {
   "cell_type": "code",
   "execution_count": 4,
   "id": "024bbe7d",
   "metadata": {},
   "outputs": [
    {
     "data": {
      "text/plain": [
       "'3.8.8 (default, Apr 13 2021, 15:08:03) [MSC v.1916 64 bit (AMD64)]'"
      ]
     },
     "execution_count": 4,
     "metadata": {},
     "output_type": "execute_result"
    }
   ],
   "source": [
    "sys.version"
   ]
  },
  {
   "cell_type": "code",
   "execution_count": 5,
   "id": "151d89ae",
   "metadata": {},
   "outputs": [
    {
     "data": {
      "text/plain": [
       "1013"
      ]
     },
     "execution_count": 5,
     "metadata": {},
     "output_type": "execute_result"
    }
   ],
   "source": [
    "sys.api_version"
   ]
  },
  {
   "cell_type": "code",
   "execution_count": 6,
   "id": "461e7231",
   "metadata": {},
   "outputs": [],
   "source": [
    "from sys import api_version"
   ]
  },
  {
   "cell_type": "code",
   "execution_count": 7,
   "id": "e3fc34d9",
   "metadata": {},
   "outputs": [
    {
     "data": {
      "text/plain": [
       "1013"
      ]
     },
     "execution_count": 7,
     "metadata": {},
     "output_type": "execute_result"
    }
   ],
   "source": [
    "api_version"
   ]
  },
  {
   "cell_type": "code",
   "execution_count": 10,
   "id": "d10404f2",
   "metadata": {},
   "outputs": [
    {
     "name": "stdout",
     "output_type": "stream",
     "text": [
      "print(value, ..., sep=' ', end='\\n', file=sys.stdout, flush=False)\n",
      "\n",
      "Prints the values to a stream, or to sys.stdout by default.\n",
      "Optional keyword arguments:\n",
      "file:  a file-like object (stream); defaults to the current sys.stdout.\n",
      "sep:   string inserted between values, default a space.\n",
      "end:   string appended after the last value, default a newline.\n",
      "flush: whether to forcibly flush the stream.\n"
     ]
    }
   ],
   "source": [
    "print(print.__doc__)"
   ]
  },
  {
   "cell_type": "markdown",
   "id": "3d091d58",
   "metadata": {},
   "source": [
    "불리언 논리 연산자 "
   ]
  },
  {
   "cell_type": "code",
   "execution_count": 16,
   "id": "7d082658",
   "metadata": {
    "scrolled": true
   },
   "outputs": [
    {
     "data": {
      "text/plain": [
       "True"
      ]
     },
     "execution_count": 16,
     "metadata": {},
     "output_type": "execute_result"
    }
   ],
   "source": [
    "a = 3\n",
    "b = 5\n",
    "a < b\n"
   ]
  },
  {
   "cell_type": "code",
   "execution_count": 17,
   "id": "ade680a2",
   "metadata": {},
   "outputs": [],
   "source": [
    "import os\n",
    "if os.path.exists('dir01'):\n",
    "    os.mkdir('dir01')"
   ]
  },
  {
   "cell_type": "code",
   "execution_count": null,
   "id": "20780805",
   "metadata": {},
   "outputs": [],
   "source": []
  }
 ],
 "metadata": {
  "kernelspec": {
   "display_name": "Python 3",
   "language": "python",
   "name": "python3"
  },
  "language_info": {
   "codemirror_mode": {
    "name": "ipython",
    "version": 3
   },
   "file_extension": ".py",
   "mimetype": "text/x-python",
   "name": "python",
   "nbconvert_exporter": "python",
   "pygments_lexer": "ipython3",
   "version": "3.8.8"
  }
 },
 "nbformat": 4,
 "nbformat_minor": 5
}
