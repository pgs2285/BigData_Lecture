{
 "cells": [
  {
   "cell_type": "code",
   "execution_count": 3,
   "id": "084ce908",
   "metadata": {},
   "outputs": [],
   "source": [
    "from sklearn.datasets import load_iris\n",
    "\n",
    "iris = load_iris()"
   ]
  },
  {
   "cell_type": "code",
   "execution_count": 4,
   "id": "a9f38119",
   "metadata": {},
   "outputs": [],
   "source": [
    "X = iris.data\n",
    "y = iris.target"
   ]
  },
  {
   "cell_type": "code",
   "execution_count": 5,
   "id": "f1668db7",
   "metadata": {},
   "outputs": [],
   "source": [
    "from sklearn.model_selection import train_test_split\n",
    "X_train, X_test, y_train, y_test = train_test_split(X,y, test_size=0.2, stratify=y)"
   ]
  },
  {
   "cell_type": "code",
   "execution_count": 7,
   "id": "98256cdd",
   "metadata": {},
   "outputs": [],
   "source": [
    "from sklearn.linear_model import LogisticRegression"
   ]
  },
  {
   "cell_type": "code",
   "execution_count": 38,
   "id": "9a0994cc",
   "metadata": {},
   "outputs": [],
   "source": [
    "softmax_reg = LogisticRegression(multi_class = 'multinomial', solver ='lbfgs', C = 10, max_iter=1000)\n",
    "ans = softmax_reg.fit(X_train, y_train)\n"
   ]
  },
  {
   "cell_type": "code",
   "execution_count": 33,
   "id": "06ad7723",
   "metadata": {
    "scrolled": true
   },
   "outputs": [
    {
     "name": "stdout",
     "output_type": "stream",
     "text": [
      "setosa versicolor virginica\n",
      "0 [0.00] [0.02] [0.98] \n",
      "1 [0.00] [0.00] [1.00] \n",
      "2 [0.99] [0.01] [0.00] \n",
      "3 [1.00] [0.00] [0.00] \n",
      "4 [0.00] [0.11] [0.89] \n",
      "5 [0.00] [0.01] [0.99] \n",
      "6 [0.00] [0.04] [0.96] \n",
      "7 [0.99] [0.01] [0.00] \n",
      "8 [1.00] [0.00] [0.00] \n",
      "9 [0.00] [0.95] [0.05] \n",
      "10 [0.00] [0.99] [0.01] \n",
      "11 [0.99] [0.01] [0.00] \n",
      "12 [0.00] [0.00] [1.00] \n",
      "13 [0.99] [0.01] [0.00] \n",
      "14 [0.16] [0.84] [0.00] \n",
      "15 [0.00] [0.00] [1.00] \n",
      "16 [1.00] [0.00] [0.00] \n",
      "17 [0.00] [0.04] [0.96] \n",
      "18 [0.00] [1.00] [0.00] \n",
      "19 [1.00] [0.00] [0.00] \n",
      "20 [0.00] [0.00] [1.00] \n",
      "21 [1.00] [0.00] [0.00] \n",
      "22 [0.00] [0.08] [0.92] \n",
      "23 [0.00] [1.00] [0.00] \n",
      "24 [0.99] [0.01] [0.00] \n",
      "25 [0.00] [0.00] [1.00] \n",
      "26 [0.00] [0.26] [0.74] \n",
      "27 [0.00] [1.00] [0.00] \n",
      "28 [0.00] [0.87] [0.13] \n",
      "29 [0.00] [0.71] [0.29] \n"
     ]
    }
   ],
   "source": [
    "softmax_reg.predict_proba(X_test)\n",
    "print(iris.target_names[0],iris.target_names[1],iris.target_names[2])\n",
    "\n",
    "for idx,i in enumerate(softmax_reg.predict_proba(X_test)):\n",
    "    print(idx, end=' ')\n",
    "    for j in (i):\n",
    "        print(f'[{j:.2f}]', end=' ')\n",
    "    print()    "
   ]
  },
  {
   "cell_type": "code",
   "execution_count": 39,
   "id": "b3298887",
   "metadata": {},
   "outputs": [
    {
     "name": "stdout",
     "output_type": "stream",
     "text": [
      "Requirement already satisfied: pillow in c:\\users\\korea\\anaconda3\\envs\\tf23\\lib\\site-packages (8.3.1)\n"
     ]
    }
   ],
   "source": [
    "!pip install pillow"
   ]
  },
  {
   "cell_type": "markdown",
   "id": "724dccab",
   "metadata": {},
   "source": [
    "# CNNBaseline.py"
   ]
  },
  {
   "cell_type": "code",
   "execution_count": 1,
   "id": "f313a805",
   "metadata": {},
   "outputs": [
    {
     "name": "stderr",
     "output_type": "stream",
     "text": [
      "Using TensorFlow backend.\n"
     ]
    },
    {
     "name": "stdout",
     "output_type": "stream",
     "text": [
      "Model: \"sequential\"\n",
      "_________________________________________________________________\n",
      "Layer (type)                 Output Shape              Param #   \n",
      "=================================================================\n",
      "conv2d (Conv2D)              (None, 26, 26, 32)        320       \n",
      "_________________________________________________________________\n",
      "max_pooling2d (MaxPooling2D) (None, 13, 13, 32)        0         \n",
      "_________________________________________________________________\n",
      "dropout (Dropout)            (None, 13, 13, 32)        0         \n",
      "_________________________________________________________________\n",
      "flatten (Flatten)            (None, 5408)              0         \n",
      "_________________________________________________________________\n",
      "dense (Dense)                (None, 128)               692352    \n",
      "_________________________________________________________________\n",
      "dropout_1 (Dropout)          (None, 128)               0         \n",
      "_________________________________________________________________\n",
      "dense_1 (Dense)              (None, 10)                1290      \n",
      "=================================================================\n",
      "Total params: 693,962\n",
      "Trainable params: 693,962\n",
      "Non-trainable params: 0\n",
      "_________________________________________________________________\n",
      "\n",
      "Epoch 00001: val_loss improved from inf to 0.10967, saving model to ./model\\01-0.1097.hdf5\n",
      "\n",
      "Epoch 00002: val_loss improved from 0.10967 to 0.07323, saving model to ./model\\02-0.0732.hdf5\n",
      "\n",
      "Epoch 00003: val_loss improved from 0.07323 to 0.05604, saving model to ./model\\03-0.0560.hdf5\n",
      "\n",
      "Epoch 00004: val_loss improved from 0.05604 to 0.04961, saving model to ./model\\04-0.0496.hdf5\n",
      "\n",
      "Epoch 00005: val_loss improved from 0.04961 to 0.04841, saving model to ./model\\05-0.0484.hdf5\n",
      "\n",
      "Epoch 00006: val_loss improved from 0.04841 to 0.04107, saving model to ./model\\06-0.0411.hdf5\n",
      "\n",
      "Epoch 00007: val_loss improved from 0.04107 to 0.03751, saving model to ./model\\07-0.0375.hdf5\n",
      "\n",
      "Epoch 00008: val_loss did not improve from 0.03751\n",
      "\n",
      "Epoch 00009: val_loss improved from 0.03751 to 0.03630, saving model to ./model\\09-0.0363.hdf5\n",
      "\n",
      "Epoch 00010: val_loss improved from 0.03630 to 0.03437, saving model to ./model\\10-0.0344.hdf5\n",
      "\n",
      "Epoch 00011: val_loss did not improve from 0.03437\n",
      "\n",
      "Epoch 00012: val_loss did not improve from 0.03437\n",
      "\n",
      "Epoch 00013: val_loss did not improve from 0.03437\n",
      "\n",
      "Epoch 00014: val_loss did not improve from 0.03437\n",
      "\n",
      "Epoch 00015: val_loss did not improve from 0.03437\n",
      "\n",
      "Epoch 00016: val_loss improved from 0.03437 to 0.03278, saving model to ./model\\16-0.0328.hdf5\n",
      "\n",
      "Epoch 00017: val_loss improved from 0.03278 to 0.03101, saving model to ./model\\17-0.0310.hdf5\n",
      "\n",
      "Epoch 00018: val_loss did not improve from 0.03101\n",
      "\n",
      "Epoch 00019: val_loss did not improve from 0.03101\n",
      "\n",
      "Epoch 00020: val_loss did not improve from 0.03101\n",
      "\n",
      "Epoch 00021: val_loss did not improve from 0.03101\n",
      "\n",
      "Epoch 00022: val_loss did not improve from 0.03101\n",
      "\n",
      "Epoch 00023: val_loss did not improve from 0.03101\n",
      "\n",
      "Epoch 00024: val_loss did not improve from 0.03101\n",
      "\n",
      "Epoch 00025: val_loss did not improve from 0.03101\n",
      "\n",
      "Epoch 00026: val_loss did not improve from 0.03101\n",
      "\n",
      "Epoch 00027: val_loss did not improve from 0.03101\n",
      "313/313 [==============================] - 1s 4ms/step - loss: 0.0369 - accuracy: 0.9894\n",
      "\n",
      " Test Accurary: 0.9894\n"
     ]
    },
    {
     "data": {
      "image/png": "[encoded data removed]",
      "text/plain": [
       "<Figure size 432x288 with 1 Axes>"
      ]
     },
     "metadata": {
      "needs_background": "light"
     },
     "output_type": "display_data"
    }
   ],
   "source": [
    "# %load CNNBaseline.py\n",
    "from keras.datasets import mnist\n",
    "from keras.utils import np_utils\n",
    "from keras.models import Sequential\n",
    "from keras.layers import Dense, Dropout, Flatten, Conv2D, MaxPooling2D\n",
    "\n",
    "import matplotlib.pyplot as plt\n",
    "import numpy\n",
    "import os\n",
    "import tensorflow as tf\n",
    "\n",
    "# seed 설정\n",
    "seed = 0\n",
    "numpy.random.seed(seed)\n",
    "tf.random.set_seed(seed)\n",
    "\n",
    "# 데이터 불러오기\n",
    "(X_train, y_train), (X_test, y_test) = mnist.load_data()\n",
    "X_train = X_train.reshape(X_train.shape[0], 28, 28, 1).astype('float32')/255\n",
    "X_test = X_test.reshape(X_test.shape[0], 28, 28, 1).astype('float32')/255\n",
    "y_train = np_utils.to_categorical(y_train)\n",
    "y_test = np_utils.to_categorical(y_test)\n",
    "\n",
    "# CNN을 위한 설정\n",
    "model = Sequential()\n",
    "model.add(Conv2D(32, kernel_size=(3,3), input_shape=(28, 28, 1), activation='relu'))\n",
    "model.add(MaxPooling2D(pool_size=2))\n",
    "model.add(Dropout(0.25))\n",
    "model.add(Flatten())\n",
    "model.add(Dense(128, activation='relu'))\n",
    "model.add(Dropout(0.5))\n",
    "model.add(Dense(10, activation='softmax'))\n",
    "\n",
    "model.summary()\n",
    "\n",
    "model.compile(loss='categorical_crossentropy',\n",
    "             optimizer='adam', \n",
    "             metrics=['accuracy'])\n",
    "\n",
    "# 모델 최적화 설정\n",
    "MODEL_DIR = './model/'\n",
    "if not os.path.exists(MODEL_DIR):\n",
    "    os.mkdir(MODEL_DIR)\n",
    "    \n",
    "modelpath=\"./model/{epoch:02d}-{val_loss:.4f}.hdf5\"\n",
    "checkpointer = tf.keras.callbacks.ModelCheckpoint(filepath=modelpath, monitor='val_loss', verbose=1, save_best_only=True)\n",
    "early_stopping_callback = tf.keras.callbacks.EarlyStopping(monitor='val_loss', patience=10)\n",
    "\n",
    "# 모델의 실행\n",
    "history = model.fit(X_train, y_train, \n",
    "                    validation_data=(X_test, y_test), \n",
    "                    epochs=30, batch_size=200, verbose=0, \n",
    "                    callbacks=[early_stopping_callback, checkpointer])\n",
    "\n",
    "# 테스트 정확도 출력\n",
    "print('\\n Test Accurary: %.4f' % (model.evaluate(X_test, y_test)[1]))\n",
    "\n",
    "# 테스트셋의 오차\n",
    "y_vloss = history.history['val_loss']\n",
    "\n",
    "# 학습셋의 오차\n",
    "y_loss = history.history['loss']\n",
    "\n",
    "# 시각화\n",
    "x_len = numpy.arange(len(y_loss))\n",
    "plt.plot(x_len, y_vloss, marker='.', c='red', label='Testset_loss')\n",
    "plt.plot(x_len, y_loss, marker='.', c='blue', label='Trainset_loss')\n",
    "\n",
    "plt.legend(loc='upper right')\n",
    "plt.grid()\n",
    "plt.xlabel('epoch')\n",
    "plt.ylabel('loss')\n",
    "plt.show()\n"
   ]
  }
 ],
 "metadata": {
  "kernelspec": {
   "display_name": "Python 3",
   "language": "python",
   "name": "python3"
  },
  "language_info": {
   "codemirror_mode": {
    "name": "ipython",
    "version": 3
   },
   "file_extension": ".py",
   "mimetype": "text/x-python",
   "name": "python",
   "nbconvert_exporter": "python",
   "pygments_lexer": "ipython3",
   "version": "3.8.0"
  }
 },
 "nbformat": 4,
 "nbformat_minor": 5
}
