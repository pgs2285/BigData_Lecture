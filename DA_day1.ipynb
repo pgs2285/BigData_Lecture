{
 "cells": [
  {
   "cell_type": "markdown",
   "id": "8626d6d7",
   "metadata": {},
   "source": [
    "# 데이터 분석 1일차"
   ]
  },
  {
   "cell_type": "markdown",
   "id": "947eda55",
   "metadata": {},
   "source": [
    "# 가장 큰 제목\n",
    "## 2단계\n",
    "### 3단계\n",
    "#### 4단계\n",
    "##### 5단계\n",
    "###### 6단계"
   ]
  },
  {
   "cell_type": "markdown",
   "id": "4abac598",
   "metadata": {},
   "source": [
    "* 아이템 1\n",
    "    * 아이템 2-1\n",
    "    * 아이템 2-2\n",
    "    \n",
    "<ul>\n",
    "    <li>아이템1</li>\n",
    "    <li>아이템2</li>\n",
    "    <li>아이템3</li>\n",
    "</ul>"
   ]
  },
  {
   "cell_type": "code",
   "execution_count": 2,
   "id": "c3d5b43f",
   "metadata": {},
   "outputs": [
    {
     "data": {
      "text/plain": [
       "12"
      ]
     },
     "execution_count": 2,
     "metadata": {},
     "output_type": "execute_result"
    }
   ],
   "source": [
    "a = 3\n",
    "b = 4\n",
    "a*b"
   ]
  },
  {
   "cell_type": "code",
   "execution_count": 3,
   "id": "96aaf07e",
   "metadata": {},
   "outputs": [
    {
     "data": {
      "text/plain": [
       "5.5"
      ]
     },
     "execution_count": 3,
     "metadata": {},
     "output_type": "execute_result"
    }
   ],
   "source": [
    "3.5 + 2"
   ]
  },
  {
   "cell_type": "code",
   "execution_count": 4,
   "id": "e95077a5",
   "metadata": {},
   "outputs": [
    {
     "data": {
      "text/plain": [
       "'hipython'"
      ]
     },
     "execution_count": 4,
     "metadata": {},
     "output_type": "execute_result"
    }
   ],
   "source": [
    "'hi' + 'python'"
   ]
  },
  {
   "cell_type": "code",
   "execution_count": 6,
   "id": "721a47a0",
   "metadata": {},
   "outputs": [
    {
     "data": {
      "text/plain": [
       "'3.5python'"
      ]
     },
     "execution_count": 6,
     "metadata": {},
     "output_type": "execute_result"
    }
   ],
   "source": [
    "str(3.5)+'python'"
   ]
  },
  {
   "cell_type": "code",
   "execution_count": 7,
   "id": "9dd8fd65",
   "metadata": {},
   "outputs": [
    {
     "data": {
      "text/plain": [
       "9.5"
      ]
     },
     "execution_count": 7,
     "metadata": {},
     "output_type": "execute_result"
    }
   ],
   "source": [
    "3.5+len('python')"
   ]
  },
  {
   "cell_type": "markdown",
   "id": "a3670759",
   "metadata": {},
   "source": [
    "# 기본자료형"
   ]
  },
  {
   "cell_type": "markdown",
   "id": "41ee4bb5",
   "metadata": {},
   "source": [
    "* 수치형\n",
    "    * int\n",
    "    * float\n",
    "    * complex\n",
    "*  시퀀스형\n",
    "    * list\n",
    "    * tuple\n",
    "    * str\n",
    "*  매핑형\n",
    "    * dict"
   ]
  },
  {
   "cell_type": "code",
   "execution_count": 8,
   "id": "4076f0ac",
   "metadata": {},
   "outputs": [
    {
     "data": {
      "text/plain": [
       "int"
      ]
     },
     "execution_count": 8,
     "metadata": {},
     "output_type": "execute_result"
    }
   ],
   "source": [
    "type(5)"
   ]
  },
  {
   "cell_type": "code",
   "execution_count": 9,
   "id": "22cb0029",
   "metadata": {},
   "outputs": [
    {
     "data": {
      "text/plain": [
       "float"
      ]
     },
     "execution_count": 9,
     "metadata": {},
     "output_type": "execute_result"
    }
   ],
   "source": [
    "type(3.5)"
   ]
  },
  {
   "cell_type": "code",
   "execution_count": 10,
   "id": "f2df7f3e",
   "metadata": {},
   "outputs": [
    {
     "data": {
      "text/plain": [
       "str"
      ]
     },
     "execution_count": 10,
     "metadata": {},
     "output_type": "execute_result"
    }
   ],
   "source": [
    "type('3.5')"
   ]
  },
  {
   "cell_type": "markdown",
   "id": "96bf219c",
   "metadata": {},
   "source": [
    "### 시퀀스 공통연산"
   ]
  },
  {
   "cell_type": "code",
   "execution_count": 11,
   "id": "23700fd8",
   "metadata": {},
   "outputs": [],
   "source": [
    "l = [10, 20, 30]\n",
    "t = (10, 20, 30)\n",
    "t2 = 10,20,30\n",
    "s = 'hello'"
   ]
  },
  {
   "cell_type": "markdown",
   "id": "eb5346d5",
   "metadata": {},
   "source": [
    "# 공통연산 : 색인, 슬라이싱, 반복, 연결, 멤버쉽, 길이"
   ]
  },
  {
   "cell_type": "code",
   "execution_count": 12,
   "id": "c8b37880",
   "metadata": {},
   "outputs": [
    {
     "data": {
      "text/plain": [
       "True"
      ]
     },
     "execution_count": 12,
     "metadata": {},
     "output_type": "execute_result"
    }
   ],
   "source": [
    "10 in t"
   ]
  },
  {
   "cell_type": "markdown",
   "id": "44d6c176",
   "metadata": {},
   "source": [
    "## for 루프를 활용해 구구단 출력"
   ]
  },
  {
   "cell_type": "code",
   "execution_count": 39,
   "id": "14f6bf7e",
   "metadata": {},
   "outputs": [
    {
     "name": "stdout",
     "output_type": "stream",
     "text": [
      "2 단\n",
      "2*1=2  2*2=4  2*3=6  2*4=8  2*5=10  2*6=12  2*7=14  2*8=16  2*9=18  \n",
      "\n",
      "3 단\n",
      "3*1=3  3*2=6  3*3=9  3*4=12  3*5=15  3*6=18  3*7=21  3*8=24  3*9=27  \n",
      "\n",
      "4 단\n",
      "4*1=4  4*2=8  4*3=12  4*4=16  4*5=20  4*6=24  4*7=28  4*8=32  4*9=36  \n",
      "\n",
      "5 단\n",
      "5*1=5  5*2=10  5*3=15  5*4=20  5*5=25  5*6=30  5*7=35  5*8=40  5*9=45  \n",
      "\n",
      "6 단\n",
      "6*1=6  6*2=12  6*3=18  6*4=24  6*5=30  6*6=36  6*7=42  6*8=48  6*9=54  \n",
      "\n",
      "7 단\n",
      "7*1=7  7*2=14  7*3=21  7*4=28  7*5=35  7*6=42  7*7=49  7*8=56  7*9=63  \n",
      "\n",
      "8 단\n",
      "8*1=8  8*2=16  8*3=24  8*4=32  8*5=40  8*6=48  8*7=56  8*8=64  8*9=72  \n",
      "\n",
      "9 단\n",
      "9*1=9  9*2=18  9*3=27  9*4=36  9*5=45  9*6=54  9*7=63  9*8=72  9*9=81  \n",
      "\n"
     ]
    }
   ],
   "source": [
    "for i in range(2,10):\n",
    "    print(i,\"단\")\n",
    "    for j in range(1,10):\n",
    "        print(\"{0}*{1}={2}\".format(i,j,i*j), end = \"  \")\n",
    "    print(\"\\n\")    "
   ]
  }
 ],
 "metadata": {
  "kernelspec": {
   "display_name": "Python 3",
   "language": "python",
   "name": "python3"
  },
  "language_info": {
   "codemirror_mode": {
    "name": "ipython",
    "version": 3
   },
   "file_extension": ".py",
   "mimetype": "text/x-python",
   "name": "python",
   "nbconvert_exporter": "python",
   "pygments_lexer": "ipython3",
   "version": "3.8.8"
  }
 },
 "nbformat": 4,
 "nbformat_minor": 5
}
